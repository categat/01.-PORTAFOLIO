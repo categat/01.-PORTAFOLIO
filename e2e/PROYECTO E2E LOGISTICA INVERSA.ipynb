{
 "cells": [
  {
   "cell_type": "code",
   "execution_count": null,
   "id": "176951fd",
   "metadata": {},
   "outputs": [],
   "source": [
    "from modulo_cargar_datos import cargar_datos\n",
    "from modulo_procesamiento_de_data import procesar_gestion_campo, procesar_bases_enviadas, procesar_seriales_recuperados, procesar_canales_alternos\n",
    "from modulo_cruzar_datos import cruzar_datos\n",
    "\n",
    "# Cargar los datos\n",
    "gestion_campo, bases_enviadas, seriales_recuperados, canales_alternos, churn, desconexiones = cargar_datos()\n",
    "\n",
    "# Procesar los datos\n",
    "gestion_campo = procesar_gestion_campo(gestion_campo)\n",
    "bases_enviadas = procesar_bases_enviadas(bases_enviadas)\n",
    "seriales_recuperados = procesar_seriales_recuperados(seriales_recuperados)\n",
    "canales_alternos = procesar_canales_alternos(canales_alternos)\n",
    "\n",
    "# Imprimir información sobre los DataFrames procesados\n",
    "print(\"La fecha min de gestion de campo es: \", gestion_campo[\"Fecha de cierre\"].min())\n",
    "print(\"La fecha max de gestion de campo es: \", gestion_campo[\"Fecha de cierre\"].max())\n",
    "gestion_campo.info()\n",
    "\n",
    "print(\"La fecha min de bases enviadas es: \", bases_enviadas[\"FECHA_ENVIO IQE\"].min())\n",
    "print(\"La fecha max de bases enviadas es: \", bases_enviadas[\"FECHA_ENVIO IQE\"].max())\n",
    "bases_enviadas.info()\n",
    "\n",
    "print(\"La fecha min de seriales_recuperados es: \", seriales_recuperados[\"Fecha\"].min())\n",
    "print(\"La fecha max de seriales_recuperados es: \", seriales_recuperados[\"Fecha\"].max())\n",
    "seriales_recuperados.info()\n",
    "\n",
    "print(\"La fecha min de canales_alternos es: \", canales_alternos[\"FECHA\"].min())\n",
    "print(\"La fecha max de canales_alternos es: \", canales_alternos[\"FECHA\"].max())\n",
    "canales_alternos.info()"
   ]
  },
  {
   "cell_type": "code",
   "execution_count": null,
   "id": "abc79f4a",
   "metadata": {},
   "outputs": [],
   "source": [
    "#Cruzar datos\n",
    "# Llamar a la función cruzar_datos\n",
    "gestion_campo_v3 = cruzar_datos(gestion_campo, bases_enviadas, seriales_recuperados)\n",
    "print(gestion_campo_v3.info())"
   ]
  },
  {
   "cell_type": "markdown",
   "id": "e10040f7",
   "metadata": {},
   "source": [
    "# CRUCE GESTION CAMPO VS BASES ENVIADAS\n",
    "LA FUNCIONALIDAD ES TRAERNOS LOS CAMPOS QUE SE REQUIEREN DE BASES ENVIADAS QUE NO TRAE LA TABLA DE GESTION EN CAMPO COMO: MACROMOTIVO, UNIDAD DE NEGOCIO, FECHA ENVIO Y PRODUCTO)"
   ]
  },
  {
   "cell_type": "markdown",
   "id": "902ff77c",
   "metadata": {},
   "source": [
    "#### LLAVE PC\n"
   ]
  },
  {
   "cell_type": "code",
   "execution_count": 7,
   "id": "e39c4019",
   "metadata": {},
   "outputs": [
    {
     "name": "stdout",
     "output_type": "stream",
     "text": [
      "CRUCE\n",
      "NO CRUZO    480394\n",
      "CRUZO PC    407863\n",
      "Name: count, dtype: int64\n",
      "<class 'pandas.core.frame.DataFrame'>\n",
      "RangeIndex: 407863 entries, 0 to 407862\n",
      "Data columns (total 20 columns):\n",
      " #   Column             Non-Null Count   Dtype         \n",
      "---  ------             --------------   -----         \n",
      " 0   No. Contrato       407863 non-null  object        \n",
      " 1   Cédula usuario     407863 non-null  object        \n",
      " 2   Dirección          407863 non-null  object        \n",
      " 3   Ciudad             407863 non-null  object        \n",
      " 4   Departamento       407863 non-null  object        \n",
      " 5   Fecha de cierre    407863 non-null  datetime64[ns]\n",
      " 6   Hora               407863 non-null  object        \n",
      " 7   Tipo de cierre     407863 non-null  object        \n",
      " 8   Serial             407863 non-null  object        \n",
      " 9   Prioridad          407863 non-null  object        \n",
      " 10  PCS                407863 non-null  object        \n",
      " 11  PC                 407863 non-null  object        \n",
      " 12  dicc_prioridades   406869 non-null  float64       \n",
      " 13  CRUCE              407863 non-null  object        \n",
      " 14  MACRO MOTIVO       407863 non-null  object        \n",
      " 15  UNIDAD_DE_NEGOCIO  407863 non-null  object        \n",
      " 16  FECHA_ENVIO IQE    407863 non-null  datetime64[ns]\n",
      " 17  PRODUCTO           407863 non-null  object        \n",
      " 18  TIPO BASE          407863 non-null  object        \n",
      " 19  NombreArchivo      407863 non-null  object        \n",
      "dtypes: datetime64[ns](2), float64(1), object(17)\n",
      "memory usage: 62.2+ MB\n",
      "None\n"
     ]
    }
   ],
   "source": [
    "#creamos una columa llamada cruce con el valor fijo de NO CRUZO\n",
    "gestion_campo[\"CRUCE\"]=\"NO CRUZO\"\n",
    "gestion_campo.loc[gestion_campo[\"PC\"].isin(bases_enviadas[\"PC\"]), \"CRUCE\" ] = \"CRUZO PC\"\n",
    "gestion_pc= pd.merge(gestion_campo,\n",
    "                     bases_enviadas[[\"PC\",\"MACRO MOTIVO\",\"UNIDAD_DE_NEGOCIO\",\"FECHA_ENVIO IQE\",\"PRODUCTO\",\"TIPO BASE\",\"NombreArchivo\"]],\n",
    "                     left_on=\"PC\",right_on=\"PC\",how=\"inner\")\n",
    "gestion_pc=gestion_pc.drop_duplicates(subset=\"PCS\")\n",
    "gestion_pc.reset_index(drop=True,inplace=True)\n",
    "print(gestion_campo[\"CRUCE\"].value_counts())\n",
    "print(gestion_pc.info())"
   ]
  },
  {
   "cell_type": "markdown",
   "id": "edd3dfca",
   "metadata": {},
   "source": [
    "#### LlAVE CC\n",
    "* La informacion que no me cruzo por pc la cruzaremos vs bases enviadads por cc"
   ]
  },
  {
   "cell_type": "code",
   "execution_count": 8,
   "id": "67d94574",
   "metadata": {},
   "outputs": [
    {
     "name": "stdout",
     "output_type": "stream",
     "text": [
      "CRUCE\n",
      "NO CRUZO        433349\n",
      "CRUZO CEDULA     47045\n",
      "Name: count, dtype: int64\n",
      "<class 'pandas.core.frame.DataFrame'>\n",
      "RangeIndex: 480394 entries, 0 to 480393\n",
      "Data columns (total 20 columns):\n",
      " #   Column             Non-Null Count   Dtype         \n",
      "---  ------             --------------   -----         \n",
      " 0   No. Contrato       480394 non-null  object        \n",
      " 1   Cédula usuario     480394 non-null  object        \n",
      " 2   Dirección          480394 non-null  object        \n",
      " 3   Ciudad             480394 non-null  object        \n",
      " 4   Departamento       480394 non-null  object        \n",
      " 5   Fecha de cierre    480394 non-null  datetime64[ns]\n",
      " 6   Hora               480394 non-null  object        \n",
      " 7   Tipo de cierre     480394 non-null  object        \n",
      " 8   Serial             480394 non-null  object        \n",
      " 9   Prioridad          480394 non-null  object        \n",
      " 10  PCS                480394 non-null  object        \n",
      " 11  PC                 480394 non-null  object        \n",
      " 12  dicc_prioridades   479034 non-null  float64       \n",
      " 13  CRUCE              480394 non-null  object        \n",
      " 14  MACRO MOTIVO       47045 non-null   object        \n",
      " 15  UNIDAD_DE_NEGOCIO  47045 non-null   object        \n",
      " 16  FECHA_ENVIO IQE    47045 non-null   datetime64[ns]\n",
      " 17  PRODUCTO           47045 non-null   object        \n",
      " 18  TIPO BASE          47045 non-null   object        \n",
      " 19  NombreArchivo      47045 non-null   object        \n",
      "dtypes: datetime64[ns](2), float64(1), object(17)\n",
      "memory usage: 73.3+ MB\n",
      "None\n"
     ]
    }
   ],
   "source": [
    "gestion_cc=gestion_campo.loc[gestion_campo[\"CRUCE\"]==\"NO CRUZO\"]\n",
    "gestion_cc.loc[gestion_cc[\"Cédula usuario\"].isin(bases_enviadas[\"CLIENTE_ID\"]), \"CRUCE\" ] = \"CRUZO CEDULA\"\n",
    "gestion_cc= pd.merge(gestion_cc,\n",
    "                     bases_enviadas[[\"CLIENTE_ID\",\"MACRO MOTIVO\",\"UNIDAD_DE_NEGOCIO\",\"FECHA_ENVIO IQE\",\"PRODUCTO\",\"TIPO BASE\",\"NombreArchivo\"]],\n",
    "                     left_on=\"Cédula usuario\",right_on=\"CLIENTE_ID\",how=\"left\")\n",
    "gestion_cc=gestion_cc.drop_duplicates(subset=\"PCS\")\n",
    "gestion_cc.drop(columns=\"CLIENTE_ID\",inplace=True)\n",
    "gestion_cc.reset_index(drop=True,inplace=True)\n",
    "print(gestion_cc[\"CRUCE\"].value_counts())\n",
    "print(gestion_cc.info())"
   ]
  },
  {
   "cell_type": "markdown",
   "id": "84cc786e",
   "metadata": {},
   "source": [
    "* LO QUE ME CRUZO POR CLIENTE VALIDAR LOGICA"
   ]
  },
  {
   "cell_type": "code",
   "execution_count": 9,
   "id": "1c27e23b",
   "metadata": {},
   "outputs": [
    {
     "name": "stdout",
     "output_type": "stream",
     "text": [
      "Rango_Dias\n",
      "No    442494\n",
      "Si     37900\n",
      "Name: count, dtype: int64\n",
      "<class 'pandas.core.frame.DataFrame'>\n",
      "RangeIndex: 888257 entries, 0 to 888256\n",
      "Data columns (total 14 columns):\n",
      " #   Column            Non-Null Count   Dtype         \n",
      "---  ------            --------------   -----         \n",
      " 0   No. Contrato      888257 non-null  object        \n",
      " 1   Cédula usuario    888257 non-null  object        \n",
      " 2   Dirección         888257 non-null  object        \n",
      " 3   Ciudad            888257 non-null  object        \n",
      " 4   Departamento      888257 non-null  object        \n",
      " 5   Fecha de cierre   888257 non-null  datetime64[ns]\n",
      " 6   Hora              888257 non-null  object        \n",
      " 7   Tipo de cierre    888257 non-null  object        \n",
      " 8   Serial            888257 non-null  object        \n",
      " 9   Prioridad         888257 non-null  object        \n",
      " 10  PCS               888257 non-null  object        \n",
      " 11  PC                888257 non-null  object        \n",
      " 12  dicc_prioridades  885903 non-null  float64       \n",
      " 13  CRUCE             888257 non-null  object        \n",
      "dtypes: datetime64[ns](1), float64(1), object(12)\n",
      "memory usage: 94.9+ MB\n",
      "None\n"
     ]
    }
   ],
   "source": [
    "gestion_cc['Diferencia_Dias'] = (gestion_cc['Fecha de cierre'] - gestion_cc['FECHA_ENVIO IQE']).dt.days\n",
    "gestion_cc['Rango_Dias'] = gestion_cc['Diferencia_Dias'].apply(lambda x: 'Si' if x >= -30 and x <= 60 else 'No')\n",
    "gestion_cc=gestion_cc.drop_duplicates(subset=\"PCS\")\n",
    "print(gestion_cc.Rango_Dias.value_counts())\n",
    "# Seleccionar las filas donde Rango_Dias es \"No\" y establecer las columnas especificadas en NaN\n",
    "gestion_cc.loc[gestion_cc[\"Rango_Dias\"] == \"No\", [\"MACRO MOTIVO\", \"UNIDAD_DE_NEGOCIO\", \"FECHA_ENVIO IQE\", \"PRODUCTO\", \"TIPO BASE\", \"NOMBRE_BASE\"]] = None\n",
    "gestion_cc=gestion_cc.drop(columns=[\"Diferencia_Dias\",\"Rango_Dias\"],axis=1)\n",
    "gestion_cc.reset_index(drop=True,inplace=True)\n",
    "print(gestion_campo.info())"
   ]
  },
  {
   "cell_type": "markdown",
   "id": "d195a51a",
   "metadata": {},
   "source": [
    "## GREAMOS GESTION CAMPO V3"
   ]
  },
  {
   "cell_type": "code",
   "execution_count": 10,
   "id": "4434c582",
   "metadata": {},
   "outputs": [
    {
     "name": "stdout",
     "output_type": "stream",
     "text": [
      "<class 'pandas.core.frame.DataFrame'>\n",
      "RangeIndex: 888257 entries, 0 to 888256\n",
      "Data columns (total 21 columns):\n",
      " #   Column             Non-Null Count   Dtype         \n",
      "---  ------             --------------   -----         \n",
      " 0   No. Contrato       888257 non-null  object        \n",
      " 1   Cédula usuario     888257 non-null  object        \n",
      " 2   Dirección          888257 non-null  object        \n",
      " 3   Ciudad             888257 non-null  object        \n",
      " 4   Departamento       888257 non-null  object        \n",
      " 5   Fecha de cierre    888257 non-null  datetime64[ns]\n",
      " 6   Hora               888257 non-null  object        \n",
      " 7   Tipo de cierre     888257 non-null  object        \n",
      " 8   Serial             888257 non-null  object        \n",
      " 9   Prioridad          888257 non-null  object        \n",
      " 10  PCS                888257 non-null  object        \n",
      " 11  PC                 888257 non-null  object        \n",
      " 12  dicc_prioridades   885903 non-null  float64       \n",
      " 13  CRUCE              888257 non-null  object        \n",
      " 14  MACRO MOTIVO       445763 non-null  object        \n",
      " 15  UNIDAD_DE_NEGOCIO  445763 non-null  object        \n",
      " 16  FECHA_ENVIO IQE    445763 non-null  datetime64[ns]\n",
      " 17  PRODUCTO           445763 non-null  object        \n",
      " 18  TIPO BASE          445763 non-null  object        \n",
      " 19  NombreArchivo      454908 non-null  object        \n",
      " 20  NOMBRE_BASE        0 non-null       float64       \n",
      "dtypes: datetime64[ns](2), float64(2), object(17)\n",
      "memory usage: 142.3+ MB\n"
     ]
    }
   ],
   "source": [
    "gestion_campo=pd.concat([gestion_pc,gestion_cc],ignore_index=True)\n",
    "gestion_campo.info()"
   ]
  },
  {
   "cell_type": "markdown",
   "id": "daa6677e",
   "metadata": {},
   "source": [
    "# CRUCE GESTION CAMPO VS SERIALES RECUPERADOS\n",
    "El objetivo es traernos el nuevo serial recuperado "
   ]
  },
  {
   "cell_type": "code",
   "execution_count": 11,
   "id": "fa6773b6",
   "metadata": {},
   "outputs": [
    {
     "name": "stdout",
     "output_type": "stream",
     "text": [
      "CRUCE\n",
      "CRUZO       305500\n",
      "NO CRUZO    236791\n",
      "Name: count, dtype: int64\n",
      "RECUPERADOR\n",
      "WODEN    305500\n",
      "         236791\n",
      "Name: count, dtype: int64\n",
      "<class 'pandas.core.frame.DataFrame'>\n",
      "RangeIndex: 542291 entries, 0 to 542290\n",
      "Data columns (total 23 columns):\n",
      " #   Column                   Non-Null Count   Dtype         \n",
      "---  ------                   --------------   -----         \n",
      " 0   No. Contrato             542291 non-null  object        \n",
      " 1   Cédula usuario           542291 non-null  object        \n",
      " 2   Dirección                542291 non-null  object        \n",
      " 3   Ciudad                   542291 non-null  object        \n",
      " 4   Departamento             542291 non-null  object        \n",
      " 5   Fecha de cierre          542291 non-null  datetime64[ns]\n",
      " 6   Hora                     542291 non-null  object        \n",
      " 7   Tipo de cierre           542291 non-null  object        \n",
      " 8   Serial                   542291 non-null  object        \n",
      " 9   Prioridad                542291 non-null  object        \n",
      " 10  PCS                      542291 non-null  object        \n",
      " 11  PC                       542291 non-null  object        \n",
      " 12  dicc_prioridades         541056 non-null  float64       \n",
      " 13  CRUCE                    542291 non-null  object        \n",
      " 14  MACRO MOTIVO             329605 non-null  object        \n",
      " 15  UNIDAD_DE_NEGOCIO        329605 non-null  object        \n",
      " 16  FECHA_ENVIO IQE          329605 non-null  datetime64[ns]\n",
      " 17  PRODUCTO                 329605 non-null  object        \n",
      " 18  TIPO BASE                329605 non-null  object        \n",
      " 19  NombreArchivo            333746 non-null  object        \n",
      " 20  NOMBRE_BASE              0 non-null       float64       \n",
      " 21  Serial_RECUPERADO_WODEN  305500 non-null  object        \n",
      " 22  RECUPERADOR              542291 non-null  object        \n",
      "dtypes: datetime64[ns](2), float64(2), object(19)\n",
      "memory usage: 95.2+ MB\n",
      "None\n"
     ]
    }
   ],
   "source": [
    "gestion_campo[\"CRUCE\"]=\"NO CRUZO\"\n",
    "gestion_campo.loc[gestion_campo[\"PC\"].isin(seriales_recuperados[\"PC\"]), \"CRUCE\" ] = \"CRUZO\"\n",
    "gestion_campo= pd.merge(gestion_campo,\n",
    "                     seriales_recuperados[[\"PC\",\"Serial\"]],\n",
    "                     left_on=\"PC\",right_on=\"PC\",how=\"left\",suffixes=('', '_RECUPERADO_WODEN'))\n",
    "gestion_campo['PCS'] = gestion_campo['No. Contrato'].astype(str) + gestion_campo['Cédula usuario'].astype(str)+ gestion_campo['Serial_RECUPERADO_WODEN'].astype(str)    \n",
    "gestion_campo=gestion_campo.drop_duplicates(subset=\"PCS\")\n",
    "# Agregar la columna \"RECUPERADOR\" basada en la condición de que \"Serial_recuperado\" no sea nula\n",
    "gestion_campo['RECUPERADOR'] = gestion_campo['Serial_RECUPERADO_WODEN'].apply(lambda x: 'WODEN' if pd.notna(x) else '')\n",
    "gestion_campo.reset_index(drop=True,inplace=True)\n",
    "print(gestion_campo[\"CRUCE\"].value_counts())\n",
    "print(gestion_campo['RECUPERADOR'].value_counts(dropna=False))\n",
    "print(gestion_campo.info())\n"
   ]
  },
  {
   "cell_type": "code",
   "execution_count": 12,
   "id": "2772bb7f",
   "metadata": {},
   "outputs": [
    {
     "data": {
      "text/html": [
       "<div>\n",
       "<style scoped>\n",
       "    .dataframe tbody tr th:only-of-type {\n",
       "        vertical-align: middle;\n",
       "    }\n",
       "\n",
       "    .dataframe tbody tr th {\n",
       "        vertical-align: top;\n",
       "    }\n",
       "\n",
       "    .dataframe thead th {\n",
       "        text-align: right;\n",
       "    }\n",
       "</style>\n",
       "<table border=\"1\" class=\"dataframe\">\n",
       "  <thead>\n",
       "    <tr style=\"text-align: right;\">\n",
       "      <th></th>\n",
       "      <th>No. Contrato</th>\n",
       "      <th>Cédula usuario</th>\n",
       "      <th>Dirección</th>\n",
       "      <th>Ciudad</th>\n",
       "      <th>Departamento</th>\n",
       "      <th>Fecha de cierre</th>\n",
       "      <th>Hora</th>\n",
       "      <th>Tipo de cierre</th>\n",
       "      <th>Serial</th>\n",
       "      <th>Prioridad</th>\n",
       "      <th>...</th>\n",
       "      <th>CRUCE</th>\n",
       "      <th>MACRO MOTIVO</th>\n",
       "      <th>UNIDAD_DE_NEGOCIO</th>\n",
       "      <th>FECHA_ENVIO IQE</th>\n",
       "      <th>PRODUCTO</th>\n",
       "      <th>TIPO BASE</th>\n",
       "      <th>NombreArchivo</th>\n",
       "      <th>NOMBRE_BASE</th>\n",
       "      <th>Serial_RECUPERADO_WODEN</th>\n",
       "      <th>RECUPERADOR</th>\n",
       "    </tr>\n",
       "  </thead>\n",
       "  <tbody>\n",
       "    <tr>\n",
       "      <th>112342</th>\n",
       "      <td>1-65273746158112</td>\n",
       "      <td>1033338261</td>\n",
       "      <td>CL 85 # 90 - 62 IN 301</td>\n",
       "      <td>MEDELLIN</td>\n",
       "      <td>ANTIOQUIA</td>\n",
       "      <td>2024-03-23</td>\n",
       "      <td>11:16:41</td>\n",
       "      <td>RECUPERADO WODEN</td>\n",
       "      <td>14U4D9697507015</td>\n",
       "      <td>RECUPERADO</td>\n",
       "      <td>...</td>\n",
       "      <td>CRUZO</td>\n",
       "      <td>CARTERA</td>\n",
       "      <td>HOME</td>\n",
       "      <td>2024-03-18</td>\n",
       "      <td>INTERNET</td>\n",
       "      <td>BASE NACIONAL</td>\n",
       "      <td>BD432-031824</td>\n",
       "      <td>NaN</td>\n",
       "      <td>14U4D9697507015</td>\n",
       "      <td>WODEN</td>\n",
       "    </tr>\n",
       "    <tr>\n",
       "      <th>112343</th>\n",
       "      <td>1-65273746158112</td>\n",
       "      <td>1033338261</td>\n",
       "      <td>CL 85 # 90 - 62 IN 301</td>\n",
       "      <td>MEDELLIN</td>\n",
       "      <td>ANTIOQUIA</td>\n",
       "      <td>2024-03-23</td>\n",
       "      <td>11:16:41</td>\n",
       "      <td>RECUPERADO WODEN</td>\n",
       "      <td>14U4D9697507015</td>\n",
       "      <td>RECUPERADO</td>\n",
       "      <td>...</td>\n",
       "      <td>CRUZO</td>\n",
       "      <td>CARTERA</td>\n",
       "      <td>HOME</td>\n",
       "      <td>2024-03-18</td>\n",
       "      <td>INTERNET</td>\n",
       "      <td>BASE NACIONAL</td>\n",
       "      <td>BD432-031824</td>\n",
       "      <td>NaN</td>\n",
       "      <td>D7E000003DD2A7A</td>\n",
       "      <td>WODEN</td>\n",
       "    </tr>\n",
       "    <tr>\n",
       "      <th>112344</th>\n",
       "      <td>1-65273746158112</td>\n",
       "      <td>1033338261</td>\n",
       "      <td>CL 85 # 90 - 62 IN 301</td>\n",
       "      <td>MEDELLIN</td>\n",
       "      <td>ANTIOQUIA</td>\n",
       "      <td>2024-03-23</td>\n",
       "      <td>11:16:41</td>\n",
       "      <td>RECUPERADO WODEN</td>\n",
       "      <td>14U4D9697507015</td>\n",
       "      <td>RECUPERADO</td>\n",
       "      <td>...</td>\n",
       "      <td>CRUZO</td>\n",
       "      <td>CARTERA</td>\n",
       "      <td>HOME</td>\n",
       "      <td>2024-03-18</td>\n",
       "      <td>INTERNET</td>\n",
       "      <td>BASE NACIONAL</td>\n",
       "      <td>BD432-031824</td>\n",
       "      <td>NaN</td>\n",
       "      <td>D7E000006EB4EF0</td>\n",
       "      <td>WODEN</td>\n",
       "    </tr>\n",
       "    <tr>\n",
       "      <th>280020</th>\n",
       "      <td>1-65273746111652</td>\n",
       "      <td>1033338261</td>\n",
       "      <td>CL 85 # 90 - 62 IN 301</td>\n",
       "      <td>MEDELLIN</td>\n",
       "      <td>ANTIOQUIA</td>\n",
       "      <td>2024-03-19</td>\n",
       "      <td>12:55:34</td>\n",
       "      <td>CLIENTE NO ENCONTRADO</td>\n",
       "      <td>D7E000003DD2A7A</td>\n",
       "      <td>GESTIONADO</td>\n",
       "      <td>...</td>\n",
       "      <td>NO CRUZO</td>\n",
       "      <td>CARTERA</td>\n",
       "      <td>HOME</td>\n",
       "      <td>2024-03-18</td>\n",
       "      <td>TELEVISIÓN DIGITAL</td>\n",
       "      <td>BASE NACIONAL</td>\n",
       "      <td>BD432-031824</td>\n",
       "      <td>NaN</td>\n",
       "      <td>NaN</td>\n",
       "      <td></td>\n",
       "    </tr>\n",
       "  </tbody>\n",
       "</table>\n",
       "<p>4 rows × 23 columns</p>\n",
       "</div>"
      ],
      "text/plain": [
       "            No. Contrato Cédula usuario               Dirección    Ciudad  \\\n",
       "112342  1-65273746158112     1033338261  CL 85 # 90 - 62 IN 301  MEDELLIN   \n",
       "112343  1-65273746158112     1033338261  CL 85 # 90 - 62 IN 301  MEDELLIN   \n",
       "112344  1-65273746158112     1033338261  CL 85 # 90 - 62 IN 301  MEDELLIN   \n",
       "280020  1-65273746111652     1033338261  CL 85 # 90 - 62 IN 301  MEDELLIN   \n",
       "\n",
       "       Departamento Fecha de cierre      Hora         Tipo de cierre  \\\n",
       "112342    ANTIOQUIA      2024-03-23  11:16:41       RECUPERADO WODEN   \n",
       "112343    ANTIOQUIA      2024-03-23  11:16:41       RECUPERADO WODEN   \n",
       "112344    ANTIOQUIA      2024-03-23  11:16:41       RECUPERADO WODEN   \n",
       "280020    ANTIOQUIA      2024-03-19  12:55:34  CLIENTE NO ENCONTRADO   \n",
       "\n",
       "                 Serial   Prioridad  ...     CRUCE MACRO MOTIVO  \\\n",
       "112342  14U4D9697507015  RECUPERADO  ...     CRUZO      CARTERA   \n",
       "112343  14U4D9697507015  RECUPERADO  ...     CRUZO      CARTERA   \n",
       "112344  14U4D9697507015  RECUPERADO  ...     CRUZO      CARTERA   \n",
       "280020  D7E000003DD2A7A  GESTIONADO  ...  NO CRUZO      CARTERA   \n",
       "\n",
       "        UNIDAD_DE_NEGOCIO FECHA_ENVIO IQE            PRODUCTO      TIPO BASE  \\\n",
       "112342               HOME      2024-03-18            INTERNET  BASE NACIONAL   \n",
       "112343               HOME      2024-03-18            INTERNET  BASE NACIONAL   \n",
       "112344               HOME      2024-03-18            INTERNET  BASE NACIONAL   \n",
       "280020               HOME      2024-03-18  TELEVISIÓN DIGITAL  BASE NACIONAL   \n",
       "\n",
       "       NombreArchivo NOMBRE_BASE Serial_RECUPERADO_WODEN RECUPERADOR  \n",
       "112342  BD432-031824         NaN         14U4D9697507015       WODEN  \n",
       "112343  BD432-031824         NaN         D7E000003DD2A7A       WODEN  \n",
       "112344  BD432-031824         NaN         D7E000006EB4EF0       WODEN  \n",
       "280020  BD432-031824         NaN                     NaN              \n",
       "\n",
       "[4 rows x 23 columns]"
      ]
     },
     "execution_count": 12,
     "metadata": {},
     "output_type": "execute_result"
    }
   ],
   "source": [
    "gestion_campo.loc[gestion_campo[\"Cédula usuario\"]==\"1033338261\"]"
   ]
  },
  {
   "cell_type": "markdown",
   "id": "1bc4ab06",
   "metadata": {},
   "source": [
    "# CRUCE GESTION CAMPO VS CANALES ALTERNOS"
   ]
  },
  {
   "cell_type": "code",
   "execution_count": 13,
   "id": "97dc7819",
   "metadata": {},
   "outputs": [
    {
     "name": "stdout",
     "output_type": "stream",
     "text": [
      "CRUCE\n",
      "NO CRUZO    527505\n",
      "CRUZO        14786\n",
      "Name: count, dtype: int64\n",
      "<class 'pandas.core.frame.DataFrame'>\n",
      "RangeIndex: 542291 entries, 0 to 542290\n",
      "Data columns (total 25 columns):\n",
      " #   Column                   Non-Null Count   Dtype         \n",
      "---  ------                   --------------   -----         \n",
      " 0   No. Contrato             542291 non-null  object        \n",
      " 1   Cédula usuario           542291 non-null  object        \n",
      " 2   Dirección                542291 non-null  object        \n",
      " 3   Ciudad                   542291 non-null  object        \n",
      " 4   Departamento             542291 non-null  object        \n",
      " 5   Fecha de cierre          542291 non-null  datetime64[ns]\n",
      " 6   Hora                     542291 non-null  object        \n",
      " 7   Tipo de cierre           542291 non-null  object        \n",
      " 8   Serial                   542291 non-null  object        \n",
      " 9   Prioridad                542291 non-null  object        \n",
      " 10  PCS                      542291 non-null  object        \n",
      " 11  PC                       542291 non-null  object        \n",
      " 12  dicc_prioridades         541056 non-null  float64       \n",
      " 13  CRUCE                    542291 non-null  object        \n",
      " 14  MACRO MOTIVO             329605 non-null  object        \n",
      " 15  UNIDAD_DE_NEGOCIO        329605 non-null  object        \n",
      " 16  FECHA_ENVIO IQE          329605 non-null  datetime64[ns]\n",
      " 17  PRODUCTO                 329605 non-null  object        \n",
      " 18  TIPO BASE                329605 non-null  object        \n",
      " 19  NombreArchivo            333746 non-null  object        \n",
      " 20  NOMBRE_BASE              0 non-null       float64       \n",
      " 21  Serial_RECUPERADO_WODEN  305500 non-null  object        \n",
      " 22  RECUPERADOR              542291 non-null  object        \n",
      " 23  FECHA                    14786 non-null   datetime64[ns]\n",
      " 24  PROVEEDOR                14786 non-null   object        \n",
      "dtypes: datetime64[ns](3), float64(2), object(20)\n",
      "memory usage: 103.4+ MB\n",
      "None\n"
     ]
    }
   ],
   "source": [
    "gestion_campo[\"CRUCE\"]=\"NO CRUZO\"\n",
    "gestion_campo.loc[gestion_campo[\"Serial\"].isin(canales_alternos[\"SERIALES\"]), \"CRUCE\" ] = \"CRUZO\"\n",
    "gestion_campo= pd.merge(gestion_campo,\n",
    "                     canales_alternos[[\"SERIALES\",\"FECHA\",\"PROVEEDOR\"]],\n",
    "                     left_on=\"Serial\",right_on=\"SERIALES\",how=\"left\",suffixes=('', '_canal_alterno'))\n",
    "gestion_campo.drop(columns=[\"SERIALES\"],inplace=True)\n",
    "gestion_campo = gestion_campo.drop_duplicates(subset='PCS')\n",
    "gestion_campo.reset_index(drop=True,inplace=True)\n",
    "print(gestion_campo[\"CRUCE\"].value_counts())\n",
    "print(gestion_campo.info())"
   ]
  },
  {
   "cell_type": "code",
   "execution_count": 14,
   "id": "bb049e6a",
   "metadata": {},
   "outputs": [
    {
     "name": "stdout",
     "output_type": "stream",
     "text": [
      "Rango_Dias\n",
      "No    530706\n",
      "Si     11585\n",
      "Name: count, dtype: int64\n",
      "RECUPERADOR\n",
      "WODEN            301503\n",
      "OTROS CANALES    229203\n",
      "FIELD              4736\n",
      "Servientrega       3875\n",
      "INTER              2974\n",
      "Name: count, dtype: int64\n",
      "<class 'pandas.core.frame.DataFrame'>\n",
      "RangeIndex: 542291 entries, 0 to 542290\n",
      "Data columns (total 25 columns):\n",
      " #   Column                   Non-Null Count   Dtype         \n",
      "---  ------                   --------------   -----         \n",
      " 0   No. Contrato             542291 non-null  object        \n",
      " 1   Cédula usuario           542291 non-null  object        \n",
      " 2   Dirección                542291 non-null  object        \n",
      " 3   Ciudad                   542291 non-null  object        \n",
      " 4   Departamento             542291 non-null  object        \n",
      " 5   Fecha de cierre          542291 non-null  datetime64[ns]\n",
      " 6   Hora                     542291 non-null  object        \n",
      " 7   Tipo de cierre           542291 non-null  object        \n",
      " 8   Serial                   542291 non-null  object        \n",
      " 9   Prioridad                542291 non-null  object        \n",
      " 10  PCS                      542291 non-null  object        \n",
      " 11  PC                       542291 non-null  object        \n",
      " 12  dicc_prioridades         541056 non-null  float64       \n",
      " 13  CRUCE                    542291 non-null  object        \n",
      " 14  MACRO MOTIVO             329605 non-null  object        \n",
      " 15  UNIDAD_DE_NEGOCIO        329605 non-null  object        \n",
      " 16  FECHA_ENVIO IQE          329605 non-null  datetime64[ns]\n",
      " 17  PRODUCTO                 329605 non-null  object        \n",
      " 18  TIPO BASE                329605 non-null  object        \n",
      " 19  NombreArchivo            333746 non-null  object        \n",
      " 20  NOMBRE_BASE              0 non-null       float64       \n",
      " 21  Serial_RECUPERADO_WODEN  305500 non-null  object        \n",
      " 22  RECUPERADOR              542291 non-null  object        \n",
      " 23  FECHA                    11585 non-null   datetime64[ns]\n",
      " 24  PROVEEDOR                11585 non-null   object        \n",
      "dtypes: datetime64[ns](3), float64(2), object(20)\n",
      "memory usage: 103.4+ MB\n",
      "None\n"
     ]
    }
   ],
   "source": [
    "# Calcula la diferencia de días entre las dos fechas\n",
    "gestion_campo['Diferencia_dias'] = (gestion_campo['FECHA'] - gestion_campo['Fecha de cierre']).dt.days\n",
    "gestion_campo['Rango_Dias'] = gestion_campo['Diferencia_dias'].apply(lambda x: 'Si' if x >= -30 and x <= 60 else 'No')\n",
    "print(gestion_campo.Rango_Dias.value_counts())\n",
    "# Borrar la información en 'PROVEEDOR' y 'FECHA' cuando 'Rango_Dias' es 'No'\n",
    "gestion_campo.loc[gestion_campo['Rango_Dias'] == 'No', ['PROVEEDOR', 'FECHA']] = None\n",
    "gestion_campo['RECUPERADOR'] = np.where(gestion_campo['PROVEEDOR'].notnull(), gestion_campo['PROVEEDOR'], gestion_campo['RECUPERADOR'])\n",
    "# Llenar los valores vacíos en 'RECUPERADOR' con 'OTROS CANALES'\n",
    "gestion_campo['RECUPERADOR'].replace({\"\":'OTROS CANALES'},inplace=True)\n",
    "gestion_campo.drop(columns=[\"Diferencia_dias\",\"Rango_Dias\"],inplace=True)\n",
    "print(gestion_campo[\"RECUPERADOR\"].value_counts(dropna=False))\n",
    "print(gestion_campo.info())"
   ]
  },
  {
   "cell_type": "markdown",
   "id": "e49bd0c1",
   "metadata": {},
   "source": [
    "# CRUCE GESTION CAMPO VS CHURN\n"
   ]
  },
  {
   "cell_type": "code",
   "execution_count": 15,
   "id": "d88513ae",
   "metadata": {},
   "outputs": [
    {
     "name": "stdout",
     "output_type": "stream",
     "text": [
      "CRUCE\n",
      "CRUZO       422406\n",
      "NO CRUZO    119885\n",
      "Name: count, dtype: int64\n",
      "<class 'pandas.core.frame.DataFrame'>\n",
      "RangeIndex: 542291 entries, 0 to 542290\n",
      "Data columns (total 28 columns):\n",
      " #   Column                   Non-Null Count   Dtype         \n",
      "---  ------                   --------------   -----         \n",
      " 0   No. Contrato             542291 non-null  object        \n",
      " 1   Cédula usuario           542291 non-null  object        \n",
      " 2   Dirección                542291 non-null  object        \n",
      " 3   Ciudad                   542291 non-null  object        \n",
      " 4   Departamento             542291 non-null  object        \n",
      " 5   Fecha de cierre          542291 non-null  datetime64[ns]\n",
      " 6   Hora                     542291 non-null  object        \n",
      " 7   Tipo de cierre           542291 non-null  object        \n",
      " 8   Serial                   542291 non-null  object        \n",
      " 9   Prioridad                542291 non-null  object        \n",
      " 10  PCS                      542291 non-null  object        \n",
      " 11  PC                       542291 non-null  object        \n",
      " 12  dicc_prioridades         541056 non-null  float64       \n",
      " 13  CRUCE                    542291 non-null  object        \n",
      " 14  MACRO MOTIVO             329605 non-null  object        \n",
      " 15  UNIDAD_DE_NEGOCIO        329605 non-null  object        \n",
      " 16  FECHA_ENVIO IQE          329605 non-null  datetime64[ns]\n",
      " 17  PRODUCTO                 329605 non-null  object        \n",
      " 18  TIPO BASE                329605 non-null  object        \n",
      " 19  NombreArchivo            333746 non-null  object        \n",
      " 20  NOMBRE_BASE              0 non-null       float64       \n",
      " 21  Serial_RECUPERADO_WODEN  305500 non-null  object        \n",
      " 22  RECUPERADOR              542291 non-null  object        \n",
      " 23  FECHA                    11585 non-null   datetime64[ns]\n",
      " 24  PROVEEDOR                11585 non-null   object        \n",
      " 25  MARCA                    422406 non-null  object        \n",
      " 26  REFERENCIA               422406 non-null  object        \n",
      " 27  TECNOL                   422406 non-null  object        \n",
      "dtypes: datetime64[ns](3), float64(2), object(23)\n",
      "memory usage: 115.8+ MB\n",
      "None\n"
     ]
    }
   ],
   "source": [
    "gestion_campo[\"CRUCE\"]=\"NO CRUZO\"\n",
    "gestion_campo.loc[gestion_campo[\"Serial\"].isin(churn[\"SERIAL_EQUIPO\"]), \"CRUCE\" ] = \"CRUZO\"\n",
    "gestion_campo=pd.merge(gestion_campo,  \n",
    "                       churn[[\"SERIAL_EQUIPO\",\"MARCA\",\"REFERENCIA\",\"TECNOL\"]],\n",
    "                       left_on=\"Serial\",right_on=\"SERIAL_EQUIPO\",how=\"left\"\n",
    ")\n",
    "gestion_campo.drop(columns=[\"SERIAL_EQUIPO\"],axis=1,inplace=True)\n",
    "gestion_campo = gestion_campo.drop_duplicates(subset='PCS')\n",
    "gestion_campo.reset_index(drop=True,inplace=True)\n",
    "print(gestion_campo[\"CRUCE\"].value_counts())\n",
    "print(gestion_campo.info())"
   ]
  },
  {
   "cell_type": "code",
   "execution_count": 15,
   "id": "077c0e3e",
   "metadata": {},
   "outputs": [],
   "source": [
    "#gestion_campo.to_parquet('gestion_campo.parquet', index=False)"
   ]
  },
  {
   "cell_type": "markdown",
   "id": "57be2203",
   "metadata": {},
   "source": [
    "# SEGUNDA RAMA DEL CRUCE BASES ENVIADAS VS GESTION CAMPO"
   ]
  },
  {
   "cell_type": "code",
   "execution_count": 16,
   "id": "d2d6435e",
   "metadata": {},
   "outputs": [
    {
     "name": "stdout",
     "output_type": "stream",
     "text": [
      "<class 'pandas.core.frame.DataFrame'>\n",
      "RangeIndex: 502544 entries, 0 to 502543\n",
      "Data columns (total 29 columns):\n",
      " #   Column                          Non-Null Count   Dtype \n",
      "---  ------                          --------------   ----- \n",
      " 0   INTERFAZ                        502544 non-null  object\n",
      " 1   PEDIDO                          502544 non-null  object\n",
      " 2   IDENTIFICADOR                   502544 non-null  object\n",
      " 3   IDUNICOSERVICIO                 502544 non-null  object\n",
      " 4   IDSERVICIO_FACTURACION          502544 non-null  object\n",
      " 5   FECHA_CORTE                     502544 non-null  object\n",
      " 6   FECHA_CARGA                     502544 non-null  object\n",
      " 7   FECHA_CUMPLIDO                  502544 non-null  object\n",
      " 8   FECHA_INGRESO                   502544 non-null  object\n",
      " 9   TIPO_TRANSACCION                502544 non-null  object\n",
      " 10  PROCESO                         502544 non-null  object\n",
      " 11  DEPARTAMENTO                    502544 non-null  object\n",
      " 12  MUNICIPIO                       502544 non-null  object\n",
      " 13  TECNOLOGIA_DESPUES              502544 non-null  object\n",
      " 14  ESTADO                          502544 non-null  object\n",
      " 15  UEN                             502544 non-null  object\n",
      " 16  PRODUCTO                        502544 non-null  object\n",
      " 17  SERVICIO                        502544 non-null  object\n",
      " 18  LINEA                           502544 non-null  object\n",
      " 19  PRODUCTO_ORIGEN                 502544 non-null  object\n",
      " 20  CLIENTE_ID                      502543 non-null  object\n",
      " 21  NOMBRE_CLIENTE                  502522 non-null  object\n",
      " 22  ESTRATO                         502544 non-null  object\n",
      " 23  REGIONAL                        501394 non-null  object\n",
      " 24  DIRECCION_SERVICIO              502544 non-null  object\n",
      " 25  BARRIO                          391927 non-null  object\n",
      " 26  MOTIVO_FUENTE                   502544 non-null  object\n",
      " 27  FECHA_INSTALACION_DEL_RETIRADO  469468 non-null  object\n",
      " 28  PC                              502544 non-null  object\n",
      "dtypes: object(29)\n",
      "memory usage: 111.2+ MB\n"
     ]
    }
   ],
   "source": [
    "df_desconexiones = pd.read_parquet(\"C:/Users/oolea/Documents/01. Codigos PY/E2E- B2B/001. INFO OFICIAL ACTUALIZADA JUNIO/DATA E2E/DESCONEXIONES HISTORICO_CRUCE INVERSO.parquet\")\n",
    "df_desconexiones['PC'] = df_desconexiones['PEDIDO'].astype(str) + df_desconexiones['CLIENTE_ID'].astype(str)\n",
    "df_desconexiones['PC']=df_desconexiones['PC'].str.upper()\n",
    "desconexiones=df_desconexiones.copy()\n",
    "desconexiones.info()"
   ]
  },
  {
   "cell_type": "code",
   "execution_count": 17,
   "id": "8bf7e109",
   "metadata": {},
   "outputs": [],
   "source": [
    "gestion_campo_inversa=df1.copy()\n",
    "bases_enviadas_inversa=df2.copy()"
   ]
  },
  {
   "cell_type": "markdown",
   "id": "1cedfb4c",
   "metadata": {},
   "source": [
    "### BASES ENVIADAS\n",
    "* Filtrar el DataFrame para incluir solo las filas donde la fecha de cierre sea igual o mayor a febrero 1 a abril 30\n",
    "* Convertir la columna 'FECHA_ENVIO IQE' a tipo datetime\n",
    "* Eliminar duplicados según la columna 'CC-S'"
   ]
  },
  {
   "cell_type": "code",
   "execution_count": 18,
   "id": "b3ef7b3b",
   "metadata": {},
   "outputs": [
    {
     "name": "stdout",
     "output_type": "stream",
     "text": [
      "La fecha min de bases enviadas es:  2024-02-01 00:00:00\n",
      "La fecha max de bases enviadas es:  2024-04-29 00:00:00\n",
      "<class 'pandas.core.frame.DataFrame'>\n",
      "RangeIndex: 383547 entries, 0 to 383546\n",
      "Data columns (total 24 columns):\n",
      " #   Column             Non-Null Count   Dtype         \n",
      "---  ------             --------------   -----         \n",
      " 0   TIPO BASE          383547 non-null  object        \n",
      " 1   PEDIDO             383547 non-null  object        \n",
      " 2   IDENTIFICADOR_ID   383547 non-null  object        \n",
      " 3   CLIENTE_ID         383547 non-null  object        \n",
      " 4   INTERFAZ           383547 non-null  object        \n",
      " 5   CIUDAD             383547 non-null  object        \n",
      " 6   DEPARTAMENTO       383547 non-null  object        \n",
      " 7   MARCA_ID           383547 non-null  object        \n",
      " 8   REFERENCIA_ID      383547 non-null  object        \n",
      " 9   ID_EQUIPO          383547 non-null  object        \n",
      " 10  SERIAL_EQUIPO      383547 non-null  object        \n",
      " 11  MAC_EQUIPO         383547 non-null  object        \n",
      " 12  PRODUCTO           383547 non-null  object        \n",
      " 13  TECNOLOGÍA         383547 non-null  object        \n",
      " 14  UNIDAD_DE_NEGOCIO  383547 non-null  object        \n",
      " 15  MACRO MOTIVO       383547 non-null  object        \n",
      " 16  FECHA_ENVIO IQE    383547 non-null  datetime64[ns]\n",
      " 17  REGIONAL NUEVA     383547 non-null  object        \n",
      " 18  DEPURACION         383547 non-null  object        \n",
      " 19  FECHA              383547 non-null  object        \n",
      " 20  NombreArchivo      383547 non-null  object        \n",
      " 21  PC                 383547 non-null  object        \n",
      " 22  CC-S               383547 non-null  object        \n",
      " 23  PCS                383547 non-null  object        \n",
      "dtypes: datetime64[ns](1), object(23)\n",
      "memory usage: 70.2+ MB\n"
     ]
    }
   ],
   "source": [
    "bases_enviadas_inversa = bases_enviadas_inversa[(bases_enviadas_inversa[\"FECHA_ENVIO IQE\"] >= '2024-02-01')&(bases_enviadas_inversa[\"FECHA_ENVIO IQE\"] <= '2024-04-30')]\n",
    "bases_enviadas_inversa[\"FECHA_ENVIO IQE\"]=pd.to_datetime(bases_enviadas_inversa[\"FECHA_ENVIO IQE\"])\n",
    "print(\"La fecha min de bases enviadas es: \",bases_enviadas_inversa[\"FECHA_ENVIO IQE\"].min())\n",
    "print(\"La fecha max de bases enviadas es: \",bases_enviadas_inversa[\"FECHA_ENVIO IQE\"].max())\n",
    "bases_enviadas_inversa.drop_duplicates(subset='CC-S', keep='first', inplace=True)\n",
    "bases_enviadas_inversa.reset_index(drop=True,inplace=True)\n",
    "bases_enviadas_inversa.info()"
   ]
  },
  {
   "cell_type": "markdown",
   "id": "6413d3b3",
   "metadata": {},
   "source": [
    "### GESTION DE CAMPO\n",
    "* Filtrar el DataFrame para incluir solo las filas donde la fecha de cierre sea igual o mayor a febrero 1 a abril 30\n",
    "* Convertir la columna 'Fecha de cierre' y 'Hora' a tipo datetime\n",
    "* Crear un diccionario de prioridades para el ordenamiento de 'Prioridad'\n",
    "* Asignar prioridades numéricas a la columna 'dicc_prioridades'\n",
    "* Ordenar el DataFrame por las columnas requeridas de mayor a menor dicc_prioridades,Fecha de cierre,Hora \n",
    "* Eliminar duplicados basados en la columna 'CC-S'"
   ]
  },
  {
   "cell_type": "code",
   "execution_count": 19,
   "id": "3c599982",
   "metadata": {},
   "outputs": [
    {
     "name": "stdout",
     "output_type": "stream",
     "text": [
      "La fecha min de gestion de campo es:  2024-01-03 00:00:00\n",
      "La fecha max de gestion de campo es:  2024-06-04 00:00:00\n",
      "<class 'pandas.core.frame.DataFrame'>\n",
      "RangeIndex: 888257 entries, 0 to 888256\n",
      "Data columns (total 13 columns):\n",
      " #   Column            Non-Null Count   Dtype         \n",
      "---  ------            --------------   -----         \n",
      " 0   No. Contrato      888257 non-null  object        \n",
      " 1   Cédula usuario    888257 non-null  object        \n",
      " 2   Dirección         888257 non-null  object        \n",
      " 3   Ciudad            888257 non-null  object        \n",
      " 4   Departamento      888257 non-null  object        \n",
      " 5   Fecha de cierre   888257 non-null  datetime64[ns]\n",
      " 6   Hora              888257 non-null  object        \n",
      " 7   Tipo de cierre    888257 non-null  object        \n",
      " 8   Serial            888257 non-null  object        \n",
      " 9   Prioridad         888257 non-null  object        \n",
      " 10  PCS               888257 non-null  object        \n",
      " 11  PC                888257 non-null  object        \n",
      " 12  dicc_prioridades  885903 non-null  float64       \n",
      "dtypes: datetime64[ns](1), float64(1), object(11)\n",
      "memory usage: 88.1+ MB\n"
     ]
    }
   ],
   "source": [
    "gestion_campo_inversa = gestion_campo_inversa[(gestion_campo_inversa[\"Fecha de cierre\"] >= '2023-12-01')&(gestion_campo_inversa[\"Fecha de cierre\"] <= '2024-06-04')]\n",
    "gestion_campo_inversa['Fecha de cierre'] = pd.to_datetime(gestion_campo_inversa['Fecha de cierre'])\n",
    "gestion_campo_inversa['Hora'] = pd.to_datetime(gestion_campo_inversa['Hora'], format='%H:%M:%S').dt.time\n",
    "prioridades = {'RECUPERADO': 1, 'DESCARTADO': 2 ,'GESTIONADO': 3}\n",
    "gestion_campo_inversa['dicc_prioridades'] = gestion_campo_inversa['Prioridad'].map(prioridades)\n",
    "gestion_campo_inversa = gestion_campo_inversa.sort_values(by=['Prioridad','Fecha de cierre','Hora'], ascending=[False, False, False]).reset_index(drop=True)\n",
    "gestion_campo_inversa = gestion_campo_inversa.drop_duplicates(subset='PCS')\n",
    "gestion_campo_inversa.reset_index(drop=True,inplace=True)\n",
    "print(\"La fecha min de gestion de campo es: \",gestion_campo_inversa[\"Fecha de cierre\"].min())\n",
    "print(\"La fecha max de gestion de campo es: \",gestion_campo_inversa[\"Fecha de cierre\"].max())\n",
    "gestion_campo_inversa.info()"
   ]
  },
  {
   "cell_type": "markdown",
   "id": "aba024e9",
   "metadata": {},
   "source": [
    "# CRUCE DESCONEXIONES VS BASES ENVIADAS"
   ]
  },
  {
   "cell_type": "code",
   "execution_count": null,
   "id": "d1793507",
   "metadata": {},
   "outputs": [],
   "source": [
    "#creamos una columa llamada cruce con el valor fijo de NO CRUZO\n",
    "#desconexiones[\"CRUCE\"]=\"NO CRUZO\"\n",
    "#desconexiones.loc[desconexiones[\"PC\"].isin(bases_enviadas_inversa[\"PC\"]), \"CRUCE\" ] = \"CRUZO PC\"\n",
    "#print(desconexiones[\"CRUCE\"].value_counts())"
   ]
  },
  {
   "cell_type": "code",
   "execution_count": null,
   "id": "3375591e",
   "metadata": {},
   "outputs": [],
   "source": [
    "#desconexiones_pc=desconexiones[desconexiones[\"CRUCE\"]==\"CRUZO PC\"]\n",
    "#desconexiones_pc.info()"
   ]
  },
  {
   "cell_type": "code",
   "execution_count": null,
   "id": "a3b6d8d3",
   "metadata": {},
   "outputs": [],
   "source": [
    "#desconexiones_nocruzo=desconexiones[desconexiones[\"CRUCE\"]==\"NO CRUZO\"]\n",
    "#desconexiones_nocruzo.info()"
   ]
  },
  {
   "cell_type": "code",
   "execution_count": null,
   "id": "df27c8e5",
   "metadata": {},
   "outputs": [],
   "source": [
    "#desconexiones_pc_prueba= pd.merge(desconexiones_pc,\n",
    "#                     bases_enviadas_inversa[[\"PC\"]],\n",
    "#                     left_on=\"PC\",right_on=\"PC\",how=\"left\")\n",
    "#desconexiones_pc_prueba=desconexiones_pc_prueba.drop_duplicates(subset=\"PC\")\n",
    "#desconexiones_pc_prueba.reset_index(drop=True,inplace=True)\n",
    "#print(desconexiones_pc_prueba.info())"
   ]
  },
  {
   "cell_type": "markdown",
   "id": "6824fdd7",
   "metadata": {},
   "source": [
    "# CRUCE BASES_ENVIADAS VS GESTION CAMPO\n"
   ]
  },
  {
   "cell_type": "code",
   "execution_count": 20,
   "id": "ed331b04",
   "metadata": {},
   "outputs": [
    {
     "name": "stdout",
     "output_type": "stream",
     "text": [
      "CRUCE\n",
      "CRUZO PC    292888\n",
      "NO CRUZO     90659\n",
      "Name: count, dtype: int64\n",
      "<class 'pandas.core.frame.DataFrame'>\n",
      "RangeIndex: 383547 entries, 0 to 383546\n",
      "Data columns (total 27 columns):\n",
      " #   Column             Non-Null Count   Dtype         \n",
      "---  ------             --------------   -----         \n",
      " 0   TIPO BASE          383547 non-null  object        \n",
      " 1   PEDIDO             383547 non-null  object        \n",
      " 2   IDENTIFICADOR_ID   383547 non-null  object        \n",
      " 3   CLIENTE_ID         383547 non-null  object        \n",
      " 4   INTERFAZ           383547 non-null  object        \n",
      " 5   CIUDAD             383547 non-null  object        \n",
      " 6   DEPARTAMENTO       383547 non-null  object        \n",
      " 7   MARCA_ID           383547 non-null  object        \n",
      " 8   REFERENCIA_ID      383547 non-null  object        \n",
      " 9   ID_EQUIPO          383547 non-null  object        \n",
      " 10  SERIAL_EQUIPO      383547 non-null  object        \n",
      " 11  MAC_EQUIPO         383547 non-null  object        \n",
      " 12  PRODUCTO           383547 non-null  object        \n",
      " 13  TECNOLOGÍA         383547 non-null  object        \n",
      " 14  UNIDAD_DE_NEGOCIO  383547 non-null  object        \n",
      " 15  MACRO MOTIVO       383547 non-null  object        \n",
      " 16  FECHA_ENVIO IQE    383547 non-null  datetime64[ns]\n",
      " 17  REGIONAL NUEVA     383547 non-null  object        \n",
      " 18  DEPURACION         383547 non-null  object        \n",
      " 19  FECHA              383547 non-null  object        \n",
      " 20  NombreArchivo      383547 non-null  object        \n",
      " 21  PC                 383547 non-null  object        \n",
      " 22  CC-S               383547 non-null  object        \n",
      " 23  PCS                383547 non-null  object        \n",
      " 24  CRUCE              383547 non-null  object        \n",
      " 25  Fecha de cierre    292888 non-null  datetime64[ns]\n",
      " 26  Tipo de cierre     292888 non-null  object        \n",
      "dtypes: datetime64[ns](2), object(25)\n",
      "memory usage: 79.0+ MB\n",
      "None\n"
     ]
    }
   ],
   "source": [
    "#creamos una columa llamada cruce con el valor fijo de NO CRUZO\n",
    "bases_enviadas_inversa[\"CRUCE\"]=\"NO CRUZO\"\n",
    "bases_enviadas_inversa.loc[bases_enviadas_inversa[\"PC\"].isin(gestion_campo_inversa[\"PC\"]), \"CRUCE\" ] = \"CRUZO PC\"\n",
    "print(bases_enviadas_inversa[\"CRUCE\"].value_counts())\n",
    "bases_enviadas_pc= pd.merge(bases_enviadas_inversa,\n",
    "                     gestion_campo_inversa[[\"PC\",\"Fecha de cierre\",\"Tipo de cierre\"]],\n",
    "                     left_on=\"PC\",right_on=\"PC\",how=\"left\")\n",
    "bases_enviadas_pc=bases_enviadas_pc.drop_duplicates(subset=\"CC-S\")\n",
    "bases_enviadas_pc.reset_index(drop=True,inplace=True)\n",
    "print(bases_enviadas_pc.info())"
   ]
  },
  {
   "cell_type": "code",
   "execution_count": 21,
   "id": "5a2cff8f",
   "metadata": {},
   "outputs": [
    {
     "name": "stdout",
     "output_type": "stream",
     "text": [
      "<class 'pandas.core.frame.DataFrame'>\n",
      "Index: 292888 entries, 0 to 383546\n",
      "Data columns (total 28 columns):\n",
      " #   Column             Non-Null Count   Dtype         \n",
      "---  ------             --------------   -----         \n",
      " 0   TIPO BASE          292888 non-null  object        \n",
      " 1   PEDIDO             292888 non-null  object        \n",
      " 2   IDENTIFICADOR_ID   292888 non-null  object        \n",
      " 3   CLIENTE_ID         292888 non-null  object        \n",
      " 4   INTERFAZ           292888 non-null  object        \n",
      " 5   CIUDAD             292888 non-null  object        \n",
      " 6   DEPARTAMENTO       292888 non-null  object        \n",
      " 7   MARCA_ID           292888 non-null  object        \n",
      " 8   REFERENCIA_ID      292888 non-null  object        \n",
      " 9   ID_EQUIPO          292888 non-null  object        \n",
      " 10  SERIAL_EQUIPO      292888 non-null  object        \n",
      " 11  MAC_EQUIPO         292888 non-null  object        \n",
      " 12  PRODUCTO           292888 non-null  object        \n",
      " 13  TECNOLOGÍA         292888 non-null  object        \n",
      " 14  UNIDAD_DE_NEGOCIO  292888 non-null  object        \n",
      " 15  MACRO MOTIVO       292888 non-null  object        \n",
      " 16  FECHA_ENVIO IQE    292888 non-null  datetime64[ns]\n",
      " 17  REGIONAL NUEVA     292888 non-null  object        \n",
      " 18  DEPURACION         292888 non-null  object        \n",
      " 19  FECHA              292888 non-null  object        \n",
      " 20  NombreArchivo      292888 non-null  object        \n",
      " 21  PC                 292888 non-null  object        \n",
      " 22  CC-S               292888 non-null  object        \n",
      " 23  PCS                292888 non-null  object        \n",
      " 24  CRUCE              292888 non-null  object        \n",
      " 25  Fecha de cierre    292888 non-null  datetime64[ns]\n",
      " 26  Tipo de cierre     292888 non-null  object        \n",
      " 27  PROVEEDOR          292888 non-null  object        \n",
      "dtypes: datetime64[ns](2), object(26)\n",
      "memory usage: 64.8+ MB\n"
     ]
    }
   ],
   "source": [
    "be_cruzo_pc=bases_enviadas_pc.loc[bases_enviadas_pc[\"CRUCE\"]==\"CRUZO PC\"]\n",
    "be_cruzo_pc[\"PROVEEDOR\"]=\"WODEN\"\n",
    "be_cruzo_pc.info()"
   ]
  },
  {
   "cell_type": "code",
   "execution_count": 22,
   "id": "928dc9f3",
   "metadata": {},
   "outputs": [
    {
     "name": "stdout",
     "output_type": "stream",
     "text": [
      "<class 'pandas.core.frame.DataFrame'>\n",
      "Index: 90659 entries, 30 to 383536\n",
      "Data columns (total 25 columns):\n",
      " #   Column             Non-Null Count  Dtype         \n",
      "---  ------             --------------  -----         \n",
      " 0   TIPO BASE          90659 non-null  object        \n",
      " 1   PEDIDO             90659 non-null  object        \n",
      " 2   IDENTIFICADOR_ID   90659 non-null  object        \n",
      " 3   CLIENTE_ID         90659 non-null  object        \n",
      " 4   INTERFAZ           90659 non-null  object        \n",
      " 5   CIUDAD             90659 non-null  object        \n",
      " 6   DEPARTAMENTO       90659 non-null  object        \n",
      " 7   MARCA_ID           90659 non-null  object        \n",
      " 8   REFERENCIA_ID      90659 non-null  object        \n",
      " 9   ID_EQUIPO          90659 non-null  object        \n",
      " 10  SERIAL_EQUIPO      90659 non-null  object        \n",
      " 11  MAC_EQUIPO         90659 non-null  object        \n",
      " 12  PRODUCTO           90659 non-null  object        \n",
      " 13  TECNOLOGÍA         90659 non-null  object        \n",
      " 14  UNIDAD_DE_NEGOCIO  90659 non-null  object        \n",
      " 15  MACRO MOTIVO       90659 non-null  object        \n",
      " 16  FECHA_ENVIO IQE    90659 non-null  datetime64[ns]\n",
      " 17  REGIONAL NUEVA     90659 non-null  object        \n",
      " 18  DEPURACION         90659 non-null  object        \n",
      " 19  FECHA              90659 non-null  object        \n",
      " 20  NombreArchivo      90659 non-null  object        \n",
      " 21  PC                 90659 non-null  object        \n",
      " 22  CC-S               90659 non-null  object        \n",
      " 23  PCS                90659 non-null  object        \n",
      " 24  CRUCE              90659 non-null  object        \n",
      "dtypes: datetime64[ns](1), object(24)\n",
      "memory usage: 18.0+ MB\n"
     ]
    }
   ],
   "source": [
    "be_nocruzo_pc=bases_enviadas_inversa.loc[bases_enviadas_inversa[\"CRUCE\"]==\"NO CRUZO\"]\n",
    "be_nocruzo_pc.info()"
   ]
  },
  {
   "cell_type": "code",
   "execution_count": 23,
   "id": "c0436cf4",
   "metadata": {},
   "outputs": [
    {
     "data": {
      "text/plain": [
       "CRUCE\n",
       "CRUZO CC    75591\n",
       "NO CRUZO    15068\n",
       "Name: count, dtype: int64"
      ]
     },
     "execution_count": 23,
     "metadata": {},
     "output_type": "execute_result"
    }
   ],
   "source": [
    "#creamos una columa llamada cruce con el valor fijo de NO CRUZO\n",
    "be_nocruzo_pc[\"CRUCE\"]=\"NO CRUZO\"\n",
    "be_nocruzo_pc.loc[be_nocruzo_pc[\"CLIENTE_ID\"].isin(gestion_campo_inversa[\"Cédula usuario\"]), \"CRUCE\" ] = \"CRUZO CC\"\n",
    "be_nocruzo_pc[\"CRUCE\"].value_counts()"
   ]
  },
  {
   "cell_type": "code",
   "execution_count": 24,
   "id": "36f8309b",
   "metadata": {},
   "outputs": [
    {
     "name": "stdout",
     "output_type": "stream",
     "text": [
      "<class 'pandas.core.frame.DataFrame'>\n",
      "Index: 75591 entries, 46 to 383536\n",
      "Data columns (total 25 columns):\n",
      " #   Column             Non-Null Count  Dtype         \n",
      "---  ------             --------------  -----         \n",
      " 0   TIPO BASE          75591 non-null  object        \n",
      " 1   PEDIDO             75591 non-null  object        \n",
      " 2   IDENTIFICADOR_ID   75591 non-null  object        \n",
      " 3   CLIENTE_ID         75591 non-null  object        \n",
      " 4   INTERFAZ           75591 non-null  object        \n",
      " 5   CIUDAD             75591 non-null  object        \n",
      " 6   DEPARTAMENTO       75591 non-null  object        \n",
      " 7   MARCA_ID           75591 non-null  object        \n",
      " 8   REFERENCIA_ID      75591 non-null  object        \n",
      " 9   ID_EQUIPO          75591 non-null  object        \n",
      " 10  SERIAL_EQUIPO      75591 non-null  object        \n",
      " 11  MAC_EQUIPO         75591 non-null  object        \n",
      " 12  PRODUCTO           75591 non-null  object        \n",
      " 13  TECNOLOGÍA         75591 non-null  object        \n",
      " 14  UNIDAD_DE_NEGOCIO  75591 non-null  object        \n",
      " 15  MACRO MOTIVO       75591 non-null  object        \n",
      " 16  FECHA_ENVIO IQE    75591 non-null  datetime64[ns]\n",
      " 17  REGIONAL NUEVA     75591 non-null  object        \n",
      " 18  DEPURACION         75591 non-null  object        \n",
      " 19  FECHA              75591 non-null  object        \n",
      " 20  NombreArchivo      75591 non-null  object        \n",
      " 21  PC                 75591 non-null  object        \n",
      " 22  CC-S               75591 non-null  object        \n",
      " 23  PCS                75591 non-null  object        \n",
      " 24  CRUCE              75591 non-null  object        \n",
      "dtypes: datetime64[ns](1), object(24)\n",
      "memory usage: 15.0+ MB\n"
     ]
    }
   ],
   "source": [
    "be_cruzo_cc=be_nocruzo_pc.loc[be_nocruzo_pc[\"CRUCE\"]==\"CRUZO CC\"]\n",
    "be_cruzo_cc.info()"
   ]
  },
  {
   "cell_type": "code",
   "execution_count": 25,
   "id": "535e137f",
   "metadata": {},
   "outputs": [
    {
     "name": "stdout",
     "output_type": "stream",
     "text": [
      "<class 'pandas.core.frame.DataFrame'>\n",
      "RangeIndex: 75591 entries, 0 to 75590\n",
      "Data columns (total 28 columns):\n",
      " #   Column             Non-Null Count  Dtype         \n",
      "---  ------             --------------  -----         \n",
      " 0   TIPO BASE          75591 non-null  object        \n",
      " 1   PEDIDO             75591 non-null  object        \n",
      " 2   IDENTIFICADOR_ID   75591 non-null  object        \n",
      " 3   CLIENTE_ID         75591 non-null  object        \n",
      " 4   INTERFAZ           75591 non-null  object        \n",
      " 5   CIUDAD             75591 non-null  object        \n",
      " 6   DEPARTAMENTO       75591 non-null  object        \n",
      " 7   MARCA_ID           75591 non-null  object        \n",
      " 8   REFERENCIA_ID      75591 non-null  object        \n",
      " 9   ID_EQUIPO          75591 non-null  object        \n",
      " 10  SERIAL_EQUIPO      75591 non-null  object        \n",
      " 11  MAC_EQUIPO         75591 non-null  object        \n",
      " 12  PRODUCTO           75591 non-null  object        \n",
      " 13  TECNOLOGÍA         75591 non-null  object        \n",
      " 14  UNIDAD_DE_NEGOCIO  75591 non-null  object        \n",
      " 15  MACRO MOTIVO       75591 non-null  object        \n",
      " 16  FECHA_ENVIO IQE    75591 non-null  datetime64[ns]\n",
      " 17  REGIONAL NUEVA     75591 non-null  object        \n",
      " 18  DEPURACION         75591 non-null  object        \n",
      " 19  FECHA              75591 non-null  object        \n",
      " 20  NombreArchivo      75591 non-null  object        \n",
      " 21  PC                 75591 non-null  object        \n",
      " 22  CC-S               75591 non-null  object        \n",
      " 23  PCS                75591 non-null  object        \n",
      " 24  CRUCE              75591 non-null  object        \n",
      " 25  Cédula usuario     75591 non-null  object        \n",
      " 26  Fecha de cierre    75591 non-null  datetime64[ns]\n",
      " 27  Tipo de cierre     75591 non-null  object        \n",
      "dtypes: datetime64[ns](2), object(26)\n",
      "memory usage: 16.1+ MB\n",
      "None\n"
     ]
    }
   ],
   "source": [
    "be_cruzo_cc= pd.merge(be_cruzo_cc,\n",
    "                     gestion_campo_inversa[[\"Cédula usuario\",'Fecha de cierre', 'Tipo de cierre']],\n",
    "                     left_on=\"CLIENTE_ID\",right_on=\"Cédula usuario\",how=\"left\",suffixes=('', '_gestion_campo'))\n",
    "be_cruzo_cc=be_cruzo_cc.drop_duplicates(subset=\"CC-S\")\n",
    "be_cruzo_cc.reset_index(drop=True,inplace=True)\n",
    "print(be_cruzo_cc.info())"
   ]
  },
  {
   "cell_type": "code",
   "execution_count": 26,
   "id": "3df3ce87",
   "metadata": {},
   "outputs": [
    {
     "name": "stdout",
     "output_type": "stream",
     "text": [
      "Rango_Dias\n",
      "Si    72054\n",
      "No     3537\n",
      "Name: count, dtype: int64\n"
     ]
    }
   ],
   "source": [
    "be_cruzo_cc['Diferencia_Dias'] = (be_cruzo_cc['Fecha de cierre'] - be_cruzo_cc['FECHA_ENVIO IQE']).dt.days\n",
    "be_cruzo_cc['Rango_Dias'] = be_cruzo_cc['Diferencia_Dias'].apply(lambda x: 'Si' if x >= -30 and x <= 60 else 'No')\n",
    "be_cruzo_cc=be_cruzo_cc.drop_duplicates(subset=\"CC-S\")\n",
    "print(be_cruzo_cc.Rango_Dias.value_counts())"
   ]
  },
  {
   "cell_type": "code",
   "execution_count": 27,
   "id": "5a36709d",
   "metadata": {},
   "outputs": [
    {
     "name": "stdout",
     "output_type": "stream",
     "text": [
      "<class 'pandas.core.frame.DataFrame'>\n",
      "Index: 72054 entries, 0 to 75589\n",
      "Data columns (total 28 columns):\n",
      " #   Column             Non-Null Count  Dtype         \n",
      "---  ------             --------------  -----         \n",
      " 0   TIPO BASE          72054 non-null  object        \n",
      " 1   PEDIDO             72054 non-null  object        \n",
      " 2   IDENTIFICADOR_ID   72054 non-null  object        \n",
      " 3   CLIENTE_ID         72054 non-null  object        \n",
      " 4   INTERFAZ           72054 non-null  object        \n",
      " 5   CIUDAD             72054 non-null  object        \n",
      " 6   DEPARTAMENTO       72054 non-null  object        \n",
      " 7   MARCA_ID           72054 non-null  object        \n",
      " 8   REFERENCIA_ID      72054 non-null  object        \n",
      " 9   ID_EQUIPO          72054 non-null  object        \n",
      " 10  SERIAL_EQUIPO      72054 non-null  object        \n",
      " 11  MAC_EQUIPO         72054 non-null  object        \n",
      " 12  PRODUCTO           72054 non-null  object        \n",
      " 13  TECNOLOGÍA         72054 non-null  object        \n",
      " 14  UNIDAD_DE_NEGOCIO  72054 non-null  object        \n",
      " 15  MACRO MOTIVO       72054 non-null  object        \n",
      " 16  FECHA_ENVIO IQE    72054 non-null  datetime64[ns]\n",
      " 17  REGIONAL NUEVA     72054 non-null  object        \n",
      " 18  DEPURACION         72054 non-null  object        \n",
      " 19  FECHA              72054 non-null  object        \n",
      " 20  NombreArchivo      72054 non-null  object        \n",
      " 21  PC                 72054 non-null  object        \n",
      " 22  CC-S               72054 non-null  object        \n",
      " 23  PCS                72054 non-null  object        \n",
      " 24  CRUCE              72054 non-null  object        \n",
      " 25  Fecha de cierre    72054 non-null  datetime64[ns]\n",
      " 26  Tipo de cierre     72054 non-null  object        \n",
      " 27  PROVEEDOR          72054 non-null  object        \n",
      "dtypes: datetime64[ns](2), object(26)\n",
      "memory usage: 15.9+ MB\n"
     ]
    }
   ],
   "source": [
    "be_cruzo_cc_logicasi=be_cruzo_cc[be_cruzo_cc['Rango_Dias']==\"Si\"]\n",
    "be_cruzo_cc_logicasi.drop([\"Cédula usuario\",\"Diferencia_Dias\",\"Rango_Dias\"],axis=1,inplace=True)\n",
    "be_cruzo_cc_logicasi[\"PROVEEDOR\"]=\"WODEN\"\n",
    "be_cruzo_cc_logicasi.info()"
   ]
  },
  {
   "cell_type": "code",
   "execution_count": 28,
   "id": "38738333",
   "metadata": {},
   "outputs": [],
   "source": [
    "be_nocruzo_cc=be_nocruzo_pc.loc[be_nocruzo_pc[\"CRUCE\"]==\"NO CRUZO\"]\n",
    "be_nocruzo_cc_logicano=be_cruzo_cc.loc[be_cruzo_cc[\"Rango_Dias\"]==\"No\"]"
   ]
  },
  {
   "cell_type": "code",
   "execution_count": 29,
   "id": "cb5c927e",
   "metadata": {},
   "outputs": [
    {
     "name": "stdout",
     "output_type": "stream",
     "text": [
      "<class 'pandas.core.frame.DataFrame'>\n",
      "RangeIndex: 18605 entries, 0 to 18604\n",
      "Data columns (total 30 columns):\n",
      " #   Column             Non-Null Count  Dtype         \n",
      "---  ------             --------------  -----         \n",
      " 0   TIPO BASE          18605 non-null  object        \n",
      " 1   PEDIDO             18605 non-null  object        \n",
      " 2   IDENTIFICADOR_ID   18605 non-null  object        \n",
      " 3   CLIENTE_ID         18605 non-null  object        \n",
      " 4   INTERFAZ           18605 non-null  object        \n",
      " 5   CIUDAD             18605 non-null  object        \n",
      " 6   DEPARTAMENTO       18605 non-null  object        \n",
      " 7   MARCA_ID           18605 non-null  object        \n",
      " 8   REFERENCIA_ID      18605 non-null  object        \n",
      " 9   ID_EQUIPO          18605 non-null  object        \n",
      " 10  SERIAL_EQUIPO      18605 non-null  object        \n",
      " 11  MAC_EQUIPO         18605 non-null  object        \n",
      " 12  PRODUCTO           18605 non-null  object        \n",
      " 13  TECNOLOGÍA         18605 non-null  object        \n",
      " 14  UNIDAD_DE_NEGOCIO  18605 non-null  object        \n",
      " 15  MACRO MOTIVO       18605 non-null  object        \n",
      " 16  FECHA_ENVIO IQE    18605 non-null  datetime64[ns]\n",
      " 17  REGIONAL NUEVA     18605 non-null  object        \n",
      " 18  DEPURACION         18605 non-null  object        \n",
      " 19  FECHA              18605 non-null  object        \n",
      " 20  NombreArchivo      18605 non-null  object        \n",
      " 21  PC                 18605 non-null  object        \n",
      " 22  CC-S               18605 non-null  object        \n",
      " 23  PCS                18605 non-null  object        \n",
      " 24  CRUCE              18605 non-null  object        \n",
      " 25  Cédula usuario     3537 non-null   object        \n",
      " 26  Fecha de cierre    3537 non-null   datetime64[ns]\n",
      " 27  Tipo de cierre     3537 non-null   object        \n",
      " 28  Diferencia_Dias    3537 non-null   float64       \n",
      " 29  Rango_Dias         3537 non-null   object        \n",
      "dtypes: datetime64[ns](2), float64(1), object(27)\n",
      "memory usage: 4.3+ MB\n"
     ]
    }
   ],
   "source": [
    "concatenado_nocruzo=pd.concat([be_nocruzo_cc,be_nocruzo_cc_logicano],ignore_index=True)\n",
    "concatenado_nocruzo.info()"
   ]
  },
  {
   "cell_type": "code",
   "execution_count": 30,
   "id": "8e3c85a0",
   "metadata": {},
   "outputs": [
    {
     "name": "stdout",
     "output_type": "stream",
     "text": [
      "<class 'pandas.core.frame.DataFrame'>\n",
      "RangeIndex: 18605 entries, 0 to 18604\n",
      "Data columns (total 27 columns):\n",
      " #   Column             Non-Null Count  Dtype         \n",
      "---  ------             --------------  -----         \n",
      " 0   TIPO BASE          18605 non-null  object        \n",
      " 1   PEDIDO             18605 non-null  object        \n",
      " 2   IDENTIFICADOR_ID   18605 non-null  object        \n",
      " 3   CLIENTE_ID         18605 non-null  object        \n",
      " 4   INTERFAZ           18605 non-null  object        \n",
      " 5   CIUDAD             18605 non-null  object        \n",
      " 6   DEPARTAMENTO       18605 non-null  object        \n",
      " 7   MARCA_ID           18605 non-null  object        \n",
      " 8   REFERENCIA_ID      18605 non-null  object        \n",
      " 9   ID_EQUIPO          18605 non-null  object        \n",
      " 10  SERIAL_EQUIPO      18605 non-null  object        \n",
      " 11  MAC_EQUIPO         18605 non-null  object        \n",
      " 12  PRODUCTO           18605 non-null  object        \n",
      " 13  TECNOLOGÍA         18605 non-null  object        \n",
      " 14  UNIDAD_DE_NEGOCIO  18605 non-null  object        \n",
      " 15  MACRO MOTIVO       18605 non-null  object        \n",
      " 16  FECHA_ENVIO IQE    18605 non-null  datetime64[ns]\n",
      " 17  REGIONAL NUEVA     18605 non-null  object        \n",
      " 18  DEPURACION         18605 non-null  object        \n",
      " 19  FECHA              18605 non-null  object        \n",
      " 20  NombreArchivo      18605 non-null  object        \n",
      " 21  PC                 18605 non-null  object        \n",
      " 22  CC-S               18605 non-null  object        \n",
      " 23  PCS                18605 non-null  object        \n",
      " 24  CRUCE              18605 non-null  object        \n",
      " 25  Fecha de cierre    0 non-null      datetime64[ns]\n",
      " 26  Tipo de cierre     0 non-null      object        \n",
      "dtypes: datetime64[ns](2), object(25)\n",
      "memory usage: 3.8+ MB\n"
     ]
    }
   ],
   "source": [
    "# Seleccionar las filas donde Rango_Dias es \"No\" y establecer las columnas especificadas en NaN\n",
    "concatenado_nocruzo.loc[concatenado_nocruzo[\"Rango_Dias\"] == \"No\", ['Cédula usuario','Fecha de cierre', 'Tipo de cierre', 'Diferencia_Dias','Rango_Dias']] = None\n",
    "concatenado_nocruzo.drop([\"Diferencia_Dias\",\"Rango_Dias\",\"Cédula usuario\"],axis=1,inplace=True)\n",
    "concatenado_nocruzo.info()"
   ]
  },
  {
   "cell_type": "markdown",
   "id": "81d328c2",
   "metadata": {},
   "source": [
    "# CANAL ALTERNO CRUCE INVERSO"
   ]
  },
  {
   "cell_type": "code",
   "execution_count": 31,
   "id": "cd77d752",
   "metadata": {},
   "outputs": [
    {
     "name": "stdout",
     "output_type": "stream",
     "text": [
      "<class 'pandas.core.frame.DataFrame'>\n",
      "RangeIndex: 527287 entries, 0 to 527286\n",
      "Data columns (total 6 columns):\n",
      " #   Column      Non-Null Count   Dtype \n",
      "---  ------      --------------   ----- \n",
      " 0   GUIA        291456 non-null  object\n",
      " 1   LLAVE       527255 non-null  object\n",
      " 2   CLIENTE_ID  481867 non-null  object\n",
      " 3   SERIALES    527214 non-null  object\n",
      " 4   FECHA       527287 non-null  object\n",
      " 5   PROVEEDOR   527287 non-null  object\n",
      "dtypes: object(6)\n",
      "memory usage: 24.1+ MB\n"
     ]
    }
   ],
   "source": [
    "canal_alterno_cruce_inverso=df4.copy()\n",
    "canal_alterno_cruce_inverso.info()"
   ]
  },
  {
   "cell_type": "code",
   "execution_count": 32,
   "id": "1c2fc836",
   "metadata": {},
   "outputs": [
    {
     "name": "stdout",
     "output_type": "stream",
     "text": [
      "La fecha min de seriales_recuperados es:  2024-01-03 00:00:00\n",
      "La fecha max de seriales_recuperados es:  2024-06-10 00:00:00\n",
      "<class 'pandas.core.frame.DataFrame'>\n",
      "RangeIndex: 316496 entries, 0 to 316495\n",
      "Data columns (total 6 columns):\n",
      " #   Column      Non-Null Count   Dtype         \n",
      "---  ------      --------------   -----         \n",
      " 0   GUIA        85708 non-null   object        \n",
      " 1   LLAVE       316490 non-null  object        \n",
      " 2   CLIENTE_ID  300810 non-null  object        \n",
      " 3   SERIALES    316483 non-null  object        \n",
      " 4   FECHA       316496 non-null  datetime64[ns]\n",
      " 5   PROVEEDOR   316496 non-null  object        \n",
      "dtypes: datetime64[ns](1), object(5)\n",
      "memory usage: 14.5+ MB\n"
     ]
    }
   ],
   "source": [
    "canal_alterno_cruce_inverso['FECHA'] = pd.to_datetime(canal_alterno_cruce_inverso['FECHA'], format='%d/%m/%Y')\n",
    "# Filtrar los datos según el rango de fechas\n",
    "canal_alterno_cruce_inverso = canal_alterno_cruce_inverso[(canal_alterno_cruce_inverso['FECHA'] >= '2024-01-01') & (canal_alterno_cruce_inverso['FECHA'] <= '2024-06-30')]\n",
    "canal_alterno_cruce_inverso = canal_alterno_cruce_inverso.sort_values(by=['FECHA'], ascending=False)\n",
    "canal_alterno_cruce_inverso = canal_alterno_cruce_inverso.drop_duplicates()\n",
    "canal_alterno_cruce_inverso.reset_index(drop=True,inplace=True)\n",
    "print(\"La fecha min de seriales_recuperados es: \",canal_alterno_cruce_inverso[\"FECHA\"].min())\n",
    "print(\"La fecha max de seriales_recuperados es: \",canal_alterno_cruce_inverso[\"FECHA\"].max())\n",
    "canal_alterno_cruce_inverso.info()"
   ]
  },
  {
   "cell_type": "code",
   "execution_count": 33,
   "id": "150ea8cc",
   "metadata": {},
   "outputs": [
    {
     "data": {
      "text/plain": [
       "CRUCE\n",
       "NO CRUZO    17756\n",
       "CRUZO         849\n",
       "Name: count, dtype: int64"
      ]
     },
     "execution_count": 33,
     "metadata": {},
     "output_type": "execute_result"
    }
   ],
   "source": [
    "#creamos una columa llamada cruce con el valor fijo de NO CRUZO\n",
    "concatenado_nocruzo[\"CRUCE\"]=\"NO CRUZO\"\n",
    "concatenado_nocruzo.loc[concatenado_nocruzo[\"CC-S\"].isin(canal_alterno_cruce_inverso[\"LLAVE\"]), \"CRUCE\" ] = \"CRUZO\"\n",
    "concatenado_nocruzo[\"CRUCE\"].value_counts(dropna=False)"
   ]
  },
  {
   "cell_type": "code",
   "execution_count": 34,
   "id": "a05fe4c0",
   "metadata": {},
   "outputs": [
    {
     "name": "stdout",
     "output_type": "stream",
     "text": [
      "<class 'pandas.core.frame.DataFrame'>\n",
      "Index: 849 entries, 2 to 18452\n",
      "Data columns (total 27 columns):\n",
      " #   Column             Non-Null Count  Dtype         \n",
      "---  ------             --------------  -----         \n",
      " 0   TIPO BASE          849 non-null    object        \n",
      " 1   PEDIDO             849 non-null    object        \n",
      " 2   IDENTIFICADOR_ID   849 non-null    object        \n",
      " 3   CLIENTE_ID         849 non-null    object        \n",
      " 4   INTERFAZ           849 non-null    object        \n",
      " 5   CIUDAD             849 non-null    object        \n",
      " 6   DEPARTAMENTO       849 non-null    object        \n",
      " 7   MARCA_ID           849 non-null    object        \n",
      " 8   REFERENCIA_ID      849 non-null    object        \n",
      " 9   ID_EQUIPO          849 non-null    object        \n",
      " 10  SERIAL_EQUIPO      849 non-null    object        \n",
      " 11  MAC_EQUIPO         849 non-null    object        \n",
      " 12  PRODUCTO           849 non-null    object        \n",
      " 13  TECNOLOGÍA         849 non-null    object        \n",
      " 14  UNIDAD_DE_NEGOCIO  849 non-null    object        \n",
      " 15  MACRO MOTIVO       849 non-null    object        \n",
      " 16  FECHA_ENVIO IQE    849 non-null    datetime64[ns]\n",
      " 17  REGIONAL NUEVA     849 non-null    object        \n",
      " 18  DEPURACION         849 non-null    object        \n",
      " 19  FECHA              849 non-null    object        \n",
      " 20  NombreArchivo      849 non-null    object        \n",
      " 21  PC                 849 non-null    object        \n",
      " 22  CC-S               849 non-null    object        \n",
      " 23  PCS                849 non-null    object        \n",
      " 24  CRUCE              849 non-null    object        \n",
      " 25  Fecha de cierre    0 non-null      datetime64[ns]\n",
      " 26  Tipo de cierre     0 non-null      object        \n",
      "dtypes: datetime64[ns](2), object(25)\n",
      "memory usage: 185.7+ KB\n"
     ]
    }
   ],
   "source": [
    "be_ca_cruzo_ccs=concatenado_nocruzo[concatenado_nocruzo[\"CRUCE\"]==\"CRUZO\"]\n",
    "be_ca_cruzo_ccs.info()"
   ]
  },
  {
   "cell_type": "code",
   "execution_count": 35,
   "id": "a4d57b2e",
   "metadata": {},
   "outputs": [
    {
     "name": "stdout",
     "output_type": "stream",
     "text": [
      "<class 'pandas.core.frame.DataFrame'>\n",
      "RangeIndex: 849 entries, 0 to 848\n",
      "Data columns (total 28 columns):\n",
      " #   Column             Non-Null Count  Dtype         \n",
      "---  ------             --------------  -----         \n",
      " 0   TIPO BASE          849 non-null    object        \n",
      " 1   PEDIDO             849 non-null    object        \n",
      " 2   IDENTIFICADOR_ID   849 non-null    object        \n",
      " 3   CLIENTE_ID         849 non-null    object        \n",
      " 4   INTERFAZ           849 non-null    object        \n",
      " 5   CIUDAD             849 non-null    object        \n",
      " 6   DEPARTAMENTO       849 non-null    object        \n",
      " 7   MARCA_ID           849 non-null    object        \n",
      " 8   REFERENCIA_ID      849 non-null    object        \n",
      " 9   ID_EQUIPO          849 non-null    object        \n",
      " 10  SERIAL_EQUIPO      849 non-null    object        \n",
      " 11  MAC_EQUIPO         849 non-null    object        \n",
      " 12  PRODUCTO           849 non-null    object        \n",
      " 13  TECNOLOGÍA         849 non-null    object        \n",
      " 14  UNIDAD_DE_NEGOCIO  849 non-null    object        \n",
      " 15  MACRO MOTIVO       849 non-null    object        \n",
      " 16  FECHA_ENVIO IQE    849 non-null    datetime64[ns]\n",
      " 17  REGIONAL NUEVA     849 non-null    object        \n",
      " 18  DEPURACION         849 non-null    object        \n",
      " 19  FECHA              849 non-null    object        \n",
      " 20  NombreArchivo      849 non-null    object        \n",
      " 21  PC                 849 non-null    object        \n",
      " 22  CC-S               849 non-null    object        \n",
      " 23  PCS                849 non-null    object        \n",
      " 24  CRUCE              849 non-null    object        \n",
      " 25  Fecha de cierre    849 non-null    datetime64[ns]\n",
      " 26  Tipo de cierre     849 non-null    object        \n",
      " 27  PROVEEDOR          849 non-null    object        \n",
      "dtypes: datetime64[ns](2), object(26)\n",
      "memory usage: 185.8+ KB\n",
      "None\n"
     ]
    }
   ],
   "source": [
    "be_ca_cruzo_ccs= pd.merge(be_ca_cruzo_ccs,\n",
    "                     canal_alterno_cruce_inverso[[\"LLAVE\",\"FECHA\",'PROVEEDOR']],\n",
    "                     left_on=\"CC-S\",right_on=\"LLAVE\",how=\"left\",suffixes=('', '_canal_alterno'))\n",
    "be_ca_cruzo_ccs[\"Tipo de cierre\"]=\"RECUPERADO\"\n",
    "be_ca_cruzo_ccs[\"Fecha de cierre\"]=be_ca_cruzo_ccs[\"FECHA_canal_alterno\"].copy()\n",
    "be_ca_cruzo_ccs.drop([\"LLAVE\",\"FECHA_canal_alterno\"],axis=1,inplace=True)\n",
    "#concatenado_llave_canal_alterno=concatenado_llave_canal_alterno.drop_duplicates(subset=\"CC-S\")\n",
    "be_ca_cruzo_ccs[\"Tipo de cierre\"]=\"RECUPERADO\"\n",
    "be_ca_cruzo_ccs.reset_index(drop=True,inplace=True)\n",
    "print(be_ca_cruzo_ccs.info())"
   ]
  },
  {
   "cell_type": "code",
   "execution_count": 36,
   "id": "a8cdc491",
   "metadata": {},
   "outputs": [
    {
     "name": "stdout",
     "output_type": "stream",
     "text": [
      "<class 'pandas.core.frame.DataFrame'>\n",
      "Index: 17756 entries, 0 to 18604\n",
      "Data columns (total 27 columns):\n",
      " #   Column             Non-Null Count  Dtype         \n",
      "---  ------             --------------  -----         \n",
      " 0   TIPO BASE          17756 non-null  object        \n",
      " 1   PEDIDO             17756 non-null  object        \n",
      " 2   IDENTIFICADOR_ID   17756 non-null  object        \n",
      " 3   CLIENTE_ID         17756 non-null  object        \n",
      " 4   INTERFAZ           17756 non-null  object        \n",
      " 5   CIUDAD             17756 non-null  object        \n",
      " 6   DEPARTAMENTO       17756 non-null  object        \n",
      " 7   MARCA_ID           17756 non-null  object        \n",
      " 8   REFERENCIA_ID      17756 non-null  object        \n",
      " 9   ID_EQUIPO          17756 non-null  object        \n",
      " 10  SERIAL_EQUIPO      17756 non-null  object        \n",
      " 11  MAC_EQUIPO         17756 non-null  object        \n",
      " 12  PRODUCTO           17756 non-null  object        \n",
      " 13  TECNOLOGÍA         17756 non-null  object        \n",
      " 14  UNIDAD_DE_NEGOCIO  17756 non-null  object        \n",
      " 15  MACRO MOTIVO       17756 non-null  object        \n",
      " 16  FECHA_ENVIO IQE    17756 non-null  datetime64[ns]\n",
      " 17  REGIONAL NUEVA     17756 non-null  object        \n",
      " 18  DEPURACION         17756 non-null  object        \n",
      " 19  FECHA              17756 non-null  object        \n",
      " 20  NombreArchivo      17756 non-null  object        \n",
      " 21  PC                 17756 non-null  object        \n",
      " 22  CC-S               17756 non-null  object        \n",
      " 23  PCS                17756 non-null  object        \n",
      " 24  CRUCE              17756 non-null  object        \n",
      " 25  Fecha de cierre    0 non-null      datetime64[ns]\n",
      " 26  Tipo de cierre     0 non-null      object        \n",
      "dtypes: datetime64[ns](2), object(25)\n",
      "memory usage: 3.8+ MB\n"
     ]
    }
   ],
   "source": [
    "be_ca_nocruzo_ccs=concatenado_nocruzo[concatenado_nocruzo[\"CRUCE\"]==\"NO CRUZO\"]\n",
    "be_ca_nocruzo_ccs.info()"
   ]
  },
  {
   "cell_type": "code",
   "execution_count": 37,
   "id": "547f0170",
   "metadata": {},
   "outputs": [
    {
     "data": {
      "text/plain": [
       "CRUCE\n",
       "NO CRUZO    16167\n",
       "CRUZO        1589\n",
       "Name: count, dtype: int64"
      ]
     },
     "execution_count": 37,
     "metadata": {},
     "output_type": "execute_result"
    }
   ],
   "source": [
    "#creamos una columa llamada cruce con el valor fijo de NO CRUZO\n",
    "be_ca_nocruzo_ccs[\"CRUCE\"]=\"NO CRUZO\"\n",
    "be_ca_nocruzo_ccs.loc[be_ca_nocruzo_ccs[\"CLIENTE_ID\"].isin(canal_alterno_cruce_inverso[\"CLIENTE_ID\"]), \"CRUCE\" ] = \"CRUZO\"\n",
    "be_ca_nocruzo_ccs[\"CRUCE\"].value_counts(dropna=False)"
   ]
  },
  {
   "cell_type": "code",
   "execution_count": 38,
   "id": "a56db1e0",
   "metadata": {},
   "outputs": [
    {
     "name": "stdout",
     "output_type": "stream",
     "text": [
      "<class 'pandas.core.frame.DataFrame'>\n",
      "Index: 1589 entries, 54 to 18598\n",
      "Data columns (total 27 columns):\n",
      " #   Column             Non-Null Count  Dtype         \n",
      "---  ------             --------------  -----         \n",
      " 0   TIPO BASE          1589 non-null   object        \n",
      " 1   PEDIDO             1589 non-null   object        \n",
      " 2   IDENTIFICADOR_ID   1589 non-null   object        \n",
      " 3   CLIENTE_ID         1589 non-null   object        \n",
      " 4   INTERFAZ           1589 non-null   object        \n",
      " 5   CIUDAD             1589 non-null   object        \n",
      " 6   DEPARTAMENTO       1589 non-null   object        \n",
      " 7   MARCA_ID           1589 non-null   object        \n",
      " 8   REFERENCIA_ID      1589 non-null   object        \n",
      " 9   ID_EQUIPO          1589 non-null   object        \n",
      " 10  SERIAL_EQUIPO      1589 non-null   object        \n",
      " 11  MAC_EQUIPO         1589 non-null   object        \n",
      " 12  PRODUCTO           1589 non-null   object        \n",
      " 13  TECNOLOGÍA         1589 non-null   object        \n",
      " 14  UNIDAD_DE_NEGOCIO  1589 non-null   object        \n",
      " 15  MACRO MOTIVO       1589 non-null   object        \n",
      " 16  FECHA_ENVIO IQE    1589 non-null   datetime64[ns]\n",
      " 17  REGIONAL NUEVA     1589 non-null   object        \n",
      " 18  DEPURACION         1589 non-null   object        \n",
      " 19  FECHA              1589 non-null   object        \n",
      " 20  NombreArchivo      1589 non-null   object        \n",
      " 21  PC                 1589 non-null   object        \n",
      " 22  CC-S               1589 non-null   object        \n",
      " 23  PCS                1589 non-null   object        \n",
      " 24  CRUCE              1589 non-null   object        \n",
      " 25  Fecha de cierre    0 non-null      datetime64[ns]\n",
      " 26  Tipo de cierre     0 non-null      object        \n",
      "dtypes: datetime64[ns](2), object(25)\n",
      "memory usage: 347.6+ KB\n"
     ]
    }
   ],
   "source": [
    "be_ca_cruzo_cc=be_ca_nocruzo_ccs[be_ca_nocruzo_ccs[\"CRUCE\"]==\"CRUZO\"]\n",
    "be_ca_cruzo_cc.info()"
   ]
  },
  {
   "cell_type": "code",
   "execution_count": 39,
   "id": "7eedde55",
   "metadata": {},
   "outputs": [
    {
     "name": "stdout",
     "output_type": "stream",
     "text": [
      "<class 'pandas.core.frame.DataFrame'>\n",
      "RangeIndex: 1589 entries, 0 to 1588\n",
      "Data columns (total 29 columns):\n",
      " #   Column               Non-Null Count  Dtype         \n",
      "---  ------               --------------  -----         \n",
      " 0   TIPO BASE            1589 non-null   object        \n",
      " 1   PEDIDO               1589 non-null   object        \n",
      " 2   IDENTIFICADOR_ID     1589 non-null   object        \n",
      " 3   CLIENTE_ID           1589 non-null   object        \n",
      " 4   INTERFAZ             1589 non-null   object        \n",
      " 5   CIUDAD               1589 non-null   object        \n",
      " 6   DEPARTAMENTO         1589 non-null   object        \n",
      " 7   MARCA_ID             1589 non-null   object        \n",
      " 8   REFERENCIA_ID        1589 non-null   object        \n",
      " 9   ID_EQUIPO            1589 non-null   object        \n",
      " 10  SERIAL_EQUIPO        1589 non-null   object        \n",
      " 11  MAC_EQUIPO           1589 non-null   object        \n",
      " 12  PRODUCTO             1589 non-null   object        \n",
      " 13  TECNOLOGÍA           1589 non-null   object        \n",
      " 14  UNIDAD_DE_NEGOCIO    1589 non-null   object        \n",
      " 15  MACRO MOTIVO         1589 non-null   object        \n",
      " 16  FECHA_ENVIO IQE      1589 non-null   datetime64[ns]\n",
      " 17  REGIONAL NUEVA       1589 non-null   object        \n",
      " 18  DEPURACION           1589 non-null   object        \n",
      " 19  FECHA                1589 non-null   object        \n",
      " 20  NombreArchivo        1589 non-null   object        \n",
      " 21  PC                   1589 non-null   object        \n",
      " 22  CC-S                 1589 non-null   object        \n",
      " 23  PCS                  1589 non-null   object        \n",
      " 24  CRUCE                1589 non-null   object        \n",
      " 25  Fecha de cierre      1589 non-null   datetime64[ns]\n",
      " 26  Tipo de cierre       1589 non-null   object        \n",
      " 27  FECHA_canal_alterno  1589 non-null   datetime64[ns]\n",
      " 28  PROVEEDOR            1589 non-null   object        \n",
      "dtypes: datetime64[ns](3), object(26)\n",
      "memory usage: 360.1+ KB\n",
      "None\n"
     ]
    }
   ],
   "source": [
    "be_ca_cruzo_cc= pd.merge(be_ca_cruzo_cc,\n",
    "                     canal_alterno_cruce_inverso[[\"CLIENTE_ID\",\"FECHA\",\"PROVEEDOR\"]],\n",
    "                     left_on=\"CLIENTE_ID\",right_on=\"CLIENTE_ID\",how=\"inner\",suffixes=('', '_canal_alterno'))\n",
    "be_ca_cruzo_cc=be_ca_cruzo_cc.drop_duplicates(subset=\"CC-S\")\n",
    "be_ca_cruzo_cc[\"Tipo de cierre\"]=\"RECUPERADO\"\n",
    "be_ca_cruzo_cc[\"Fecha de cierre\"]=be_ca_cruzo_cc[\"FECHA_canal_alterno\"].copy()\n",
    "be_ca_cruzo_cc.reset_index(drop=True,inplace=True)\n",
    "print(be_ca_cruzo_cc.info())"
   ]
  },
  {
   "cell_type": "code",
   "execution_count": 40,
   "id": "09686982",
   "metadata": {},
   "outputs": [
    {
     "name": "stdout",
     "output_type": "stream",
     "text": [
      "Rango_Dias\n",
      "No    931\n",
      "Si    658\n",
      "Name: count, dtype: int64\n"
     ]
    }
   ],
   "source": [
    "be_ca_cruzo_cc['FECHA'] = pd.to_datetime(canal_alterno_cruce_inverso['FECHA'], format='%d/%m/%Y')\n",
    "be_ca_cruzo_cc['Diferencia_Dias'] = (be_ca_cruzo_cc['FECHA'] - be_ca_cruzo_cc['FECHA_ENVIO IQE']).dt.days\n",
    "be_ca_cruzo_cc['Rango_Dias'] = be_ca_cruzo_cc['Diferencia_Dias'].apply(lambda x: 'Si' if x >= -30 and x <= 60 else 'No')\n",
    "be_ca_cruzo_cc=be_ca_cruzo_cc.drop_duplicates(subset=\"CC-S\")\n",
    "print(be_ca_cruzo_cc.Rango_Dias.value_counts())"
   ]
  },
  {
   "cell_type": "code",
   "execution_count": 41,
   "id": "e4b6dc1a",
   "metadata": {},
   "outputs": [
    {
     "name": "stdout",
     "output_type": "stream",
     "text": [
      "<class 'pandas.core.frame.DataFrame'>\n",
      "Index: 658 entries, 109 to 1588\n",
      "Data columns (total 28 columns):\n",
      " #   Column             Non-Null Count  Dtype         \n",
      "---  ------             --------------  -----         \n",
      " 0   TIPO BASE          658 non-null    object        \n",
      " 1   PEDIDO             658 non-null    object        \n",
      " 2   IDENTIFICADOR_ID   658 non-null    object        \n",
      " 3   CLIENTE_ID         658 non-null    object        \n",
      " 4   INTERFAZ           658 non-null    object        \n",
      " 5   CIUDAD             658 non-null    object        \n",
      " 6   DEPARTAMENTO       658 non-null    object        \n",
      " 7   MARCA_ID           658 non-null    object        \n",
      " 8   REFERENCIA_ID      658 non-null    object        \n",
      " 9   ID_EQUIPO          658 non-null    object        \n",
      " 10  SERIAL_EQUIPO      658 non-null    object        \n",
      " 11  MAC_EQUIPO         658 non-null    object        \n",
      " 12  PRODUCTO           658 non-null    object        \n",
      " 13  TECNOLOGÍA         658 non-null    object        \n",
      " 14  UNIDAD_DE_NEGOCIO  658 non-null    object        \n",
      " 15  MACRO MOTIVO       658 non-null    object        \n",
      " 16  FECHA_ENVIO IQE    658 non-null    datetime64[ns]\n",
      " 17  REGIONAL NUEVA     658 non-null    object        \n",
      " 18  DEPURACION         658 non-null    object        \n",
      " 19  FECHA              658 non-null    datetime64[ns]\n",
      " 20  NombreArchivo      658 non-null    object        \n",
      " 21  PC                 658 non-null    object        \n",
      " 22  CC-S               658 non-null    object        \n",
      " 23  PCS                658 non-null    object        \n",
      " 24  CRUCE              658 non-null    object        \n",
      " 25  Fecha de cierre    658 non-null    datetime64[ns]\n",
      " 26  Tipo de cierre     658 non-null    object        \n",
      " 27  PROVEEDOR          658 non-null    object        \n",
      "dtypes: datetime64[ns](3), object(25)\n",
      "memory usage: 149.1+ KB\n"
     ]
    }
   ],
   "source": [
    "be_ca_cruzo_cc_logicasi=be_ca_cruzo_cc[be_ca_cruzo_cc['Rango_Dias']==\"Si\"]\n",
    "be_ca_cruzo_cc_logicasi.drop([\"FECHA_canal_alterno\",\"Diferencia_Dias\",\"Rango_Dias\"],axis=1,inplace=True)\n",
    "be_ca_cruzo_cc_logicasi[\"Tipo de cierre\"]=\"RECUPERADO\"\n",
    "be_ca_cruzo_cc_logicasi.info()"
   ]
  },
  {
   "cell_type": "code",
   "execution_count": 42,
   "id": "fb22167f",
   "metadata": {},
   "outputs": [],
   "source": [
    "novedad1=be_ca_nocruzo_ccs[be_ca_nocruzo_ccs[\"CRUCE\"]==\"NO CRUZO\"]\n",
    "novedad2=be_ca_cruzo_cc[be_ca_cruzo_cc[\"Rango_Dias\"]==\"No\"]"
   ]
  },
  {
   "cell_type": "code",
   "execution_count": 43,
   "id": "84aeea4f",
   "metadata": {},
   "outputs": [
    {
     "name": "stdout",
     "output_type": "stream",
     "text": [
      "<class 'pandas.core.frame.DataFrame'>\n",
      "RangeIndex: 17098 entries, 0 to 17097\n",
      "Data columns (total 31 columns):\n",
      " #   Column               Non-Null Count  Dtype         \n",
      "---  ------               --------------  -----         \n",
      " 0   TIPO BASE            17098 non-null  object        \n",
      " 1   PEDIDO               17098 non-null  object        \n",
      " 2   IDENTIFICADOR_ID     17098 non-null  object        \n",
      " 3   CLIENTE_ID           17098 non-null  object        \n",
      " 4   INTERFAZ             17098 non-null  object        \n",
      " 5   CIUDAD               17098 non-null  object        \n",
      " 6   DEPARTAMENTO         17098 non-null  object        \n",
      " 7   MARCA_ID             17098 non-null  object        \n",
      " 8   REFERENCIA_ID        17098 non-null  object        \n",
      " 9   ID_EQUIPO            17098 non-null  object        \n",
      " 10  SERIAL_EQUIPO        17098 non-null  object        \n",
      " 11  MAC_EQUIPO           17098 non-null  object        \n",
      " 12  PRODUCTO             17098 non-null  object        \n",
      " 13  TECNOLOGÍA           17098 non-null  object        \n",
      " 14  UNIDAD_DE_NEGOCIO    17098 non-null  object        \n",
      " 15  MACRO MOTIVO         17098 non-null  object        \n",
      " 16  FECHA_ENVIO IQE      17098 non-null  datetime64[ns]\n",
      " 17  REGIONAL NUEVA       17098 non-null  object        \n",
      " 18  DEPURACION           17098 non-null  object        \n",
      " 19  FECHA                17098 non-null  object        \n",
      " 20  NombreArchivo        17098 non-null  object        \n",
      " 21  PC                   17098 non-null  object        \n",
      " 22  CC-S                 17098 non-null  object        \n",
      " 23  PCS                  17098 non-null  object        \n",
      " 24  CRUCE                17098 non-null  object        \n",
      " 25  Fecha de cierre      931 non-null    datetime64[ns]\n",
      " 26  Tipo de cierre       931 non-null    object        \n",
      " 27  FECHA_canal_alterno  931 non-null    datetime64[ns]\n",
      " 28  PROVEEDOR            931 non-null    object        \n",
      " 29  Diferencia_Dias      931 non-null    float64       \n",
      " 30  Rango_Dias           931 non-null    object        \n",
      "dtypes: datetime64[ns](3), float64(1), object(27)\n",
      "memory usage: 4.0+ MB\n"
     ]
    }
   ],
   "source": [
    "concatenado_nocruzo=pd.concat([novedad1,novedad2],ignore_index=True)\n",
    "concatenado_nocruzo.info()"
   ]
  },
  {
   "cell_type": "code",
   "execution_count": 44,
   "id": "6f8dbd7b",
   "metadata": {},
   "outputs": [
    {
     "name": "stdout",
     "output_type": "stream",
     "text": [
      "<class 'pandas.core.frame.DataFrame'>\n",
      "RangeIndex: 17098 entries, 0 to 17097\n",
      "Data columns (total 27 columns):\n",
      " #   Column             Non-Null Count  Dtype         \n",
      "---  ------             --------------  -----         \n",
      " 0   TIPO BASE          17098 non-null  object        \n",
      " 1   PEDIDO             17098 non-null  object        \n",
      " 2   IDENTIFICADOR_ID   17098 non-null  object        \n",
      " 3   CLIENTE_ID         17098 non-null  object        \n",
      " 4   INTERFAZ           17098 non-null  object        \n",
      " 5   CIUDAD             17098 non-null  object        \n",
      " 6   DEPARTAMENTO       17098 non-null  object        \n",
      " 7   MARCA_ID           17098 non-null  object        \n",
      " 8   REFERENCIA_ID      17098 non-null  object        \n",
      " 9   ID_EQUIPO          17098 non-null  object        \n",
      " 10  SERIAL_EQUIPO      17098 non-null  object        \n",
      " 11  MAC_EQUIPO         17098 non-null  object        \n",
      " 12  PRODUCTO           17098 non-null  object        \n",
      " 13  TECNOLOGÍA         17098 non-null  object        \n",
      " 14  UNIDAD_DE_NEGOCIO  17098 non-null  object        \n",
      " 15  MACRO MOTIVO       17098 non-null  object        \n",
      " 16  FECHA_ENVIO IQE    17098 non-null  datetime64[ns]\n",
      " 17  REGIONAL NUEVA     17098 non-null  object        \n",
      " 18  DEPURACION         17098 non-null  object        \n",
      " 19  FECHA              17098 non-null  object        \n",
      " 20  NombreArchivo      17098 non-null  object        \n",
      " 21  PC                 17098 non-null  object        \n",
      " 22  CC-S               17098 non-null  object        \n",
      " 23  PCS                17098 non-null  object        \n",
      " 24  CRUCE              17098 non-null  object        \n",
      " 25  Fecha de cierre    0 non-null      datetime64[ns]\n",
      " 26  Tipo de cierre     0 non-null      object        \n",
      "dtypes: datetime64[ns](2), object(25)\n",
      "memory usage: 3.5+ MB\n"
     ]
    }
   ],
   "source": [
    "# Seleccionar las filas donde Rango_Dias es \"No\" y establecer las columnas especificadas en NaN\n",
    "concatenado_nocruzo.loc[concatenado_nocruzo[\"Rango_Dias\"] == \"No\", [\"FECHA_canal_alterno\",\"PROVEEDOR\",\"Tipo de cierre\",\"Fecha de cierre\"]] = None\n",
    "concatenado_nocruzo.drop([\"Diferencia_Dias\",\"Rango_Dias\",\"FECHA_canal_alterno\",\"PROVEEDOR\"],axis=1,inplace=True)\n",
    "concatenado_nocruzo.info()"
   ]
  },
  {
   "cell_type": "code",
   "execution_count": 45,
   "id": "9295dacf",
   "metadata": {},
   "outputs": [
    {
     "name": "stdout",
     "output_type": "stream",
     "text": [
      "<class 'pandas.core.frame.DataFrame'>\n",
      "RangeIndex: 366449 entries, 0 to 366448\n",
      "Data columns (total 28 columns):\n",
      " #   Column             Non-Null Count   Dtype         \n",
      "---  ------             --------------   -----         \n",
      " 0   TIPO BASE          366449 non-null  object        \n",
      " 1   PEDIDO             366449 non-null  object        \n",
      " 2   IDENTIFICADOR_ID   366449 non-null  object        \n",
      " 3   CLIENTE_ID         366449 non-null  object        \n",
      " 4   INTERFAZ           366449 non-null  object        \n",
      " 5   CIUDAD             366449 non-null  object        \n",
      " 6   DEPARTAMENTO       366449 non-null  object        \n",
      " 7   MARCA_ID           366449 non-null  object        \n",
      " 8   REFERENCIA_ID      366449 non-null  object        \n",
      " 9   ID_EQUIPO          366449 non-null  object        \n",
      " 10  SERIAL_EQUIPO      366449 non-null  object        \n",
      " 11  MAC_EQUIPO         366449 non-null  object        \n",
      " 12  PRODUCTO           366449 non-null  object        \n",
      " 13  TECNOLOGÍA         366449 non-null  object        \n",
      " 14  UNIDAD_DE_NEGOCIO  366449 non-null  object        \n",
      " 15  MACRO MOTIVO       366449 non-null  object        \n",
      " 16  FECHA_ENVIO IQE    366449 non-null  datetime64[ns]\n",
      " 17  REGIONAL NUEVA     366449 non-null  object        \n",
      " 18  DEPURACION         366449 non-null  object        \n",
      " 19  FECHA              366449 non-null  object        \n",
      " 20  NombreArchivo      366449 non-null  object        \n",
      " 21  PC                 366449 non-null  object        \n",
      " 22  CC-S               366449 non-null  object        \n",
      " 23  PCS                366449 non-null  object        \n",
      " 24  CRUCE              366449 non-null  object        \n",
      " 25  Fecha de cierre    366449 non-null  datetime64[ns]\n",
      " 26  Tipo de cierre     366449 non-null  object        \n",
      " 27  PROVEEDOR          366449 non-null  object        \n",
      "dtypes: datetime64[ns](2), object(26)\n",
      "memory usage: 78.3+ MB\n",
      "None\n"
     ]
    }
   ],
   "source": [
    "bases_enviadas_cruzo=pd.concat([be_cruzo_pc,be_cruzo_cc_logicasi,be_ca_cruzo_ccs,be_ca_cruzo_cc_logicasi],ignore_index=True)\n",
    "print(bases_enviadas_cruzo.info())"
   ]
  },
  {
   "cell_type": "code",
   "execution_count": 46,
   "id": "a8adf18e",
   "metadata": {},
   "outputs": [
    {
     "data": {
      "text/plain": [
       "PROVEEDOR\n",
       "WODEN           364942\n",
       "INTER              887\n",
       "Servientrega       447\n",
       "FIELD              173\n",
       "Name: count, dtype: int64"
      ]
     },
     "execution_count": 46,
     "metadata": {},
     "output_type": "execute_result"
    }
   ],
   "source": [
    "bases_enviadas_cruzo[\"PROVEEDOR\"].value_counts()"
   ]
  },
  {
   "cell_type": "code",
   "execution_count": 47,
   "id": "c4ff23e1",
   "metadata": {},
   "outputs": [
    {
     "name": "stdout",
     "output_type": "stream",
     "text": [
      "<class 'pandas.core.frame.DataFrame'>\n",
      "Index: 364942 entries, 0 to 364941\n",
      "Data columns (total 28 columns):\n",
      " #   Column             Non-Null Count   Dtype         \n",
      "---  ------             --------------   -----         \n",
      " 0   TIPO BASE          364942 non-null  object        \n",
      " 1   PEDIDO             364942 non-null  object        \n",
      " 2   IDENTIFICADOR_ID   364942 non-null  object        \n",
      " 3   CLIENTE_ID         364942 non-null  object        \n",
      " 4   INTERFAZ           364942 non-null  object        \n",
      " 5   CIUDAD             364942 non-null  object        \n",
      " 6   DEPARTAMENTO       364942 non-null  object        \n",
      " 7   MARCA_ID           364942 non-null  object        \n",
      " 8   REFERENCIA_ID      364942 non-null  object        \n",
      " 9   ID_EQUIPO          364942 non-null  object        \n",
      " 10  SERIAL_EQUIPO      364942 non-null  object        \n",
      " 11  MAC_EQUIPO         364942 non-null  object        \n",
      " 12  PRODUCTO           364942 non-null  object        \n",
      " 13  TECNOLOGÍA         364942 non-null  object        \n",
      " 14  UNIDAD_DE_NEGOCIO  364942 non-null  object        \n",
      " 15  MACRO MOTIVO       364942 non-null  object        \n",
      " 16  FECHA_ENVIO IQE    364942 non-null  datetime64[ns]\n",
      " 17  REGIONAL NUEVA     364942 non-null  object        \n",
      " 18  DEPURACION         364942 non-null  object        \n",
      " 19  FECHA              364942 non-null  object        \n",
      " 20  NombreArchivo      364942 non-null  object        \n",
      " 21  PC                 364942 non-null  object        \n",
      " 22  CC-S               364942 non-null  object        \n",
      " 23  PCS                364942 non-null  object        \n",
      " 24  CRUCE              364942 non-null  object        \n",
      " 25  Fecha de cierre    364942 non-null  datetime64[ns]\n",
      " 26  Tipo de cierre     364942 non-null  object        \n",
      " 27  PROVEEDOR          364942 non-null  object        \n",
      "dtypes: datetime64[ns](2), object(26)\n",
      "memory usage: 80.7+ MB\n"
     ]
    }
   ],
   "source": [
    "provedor_woden=bases_enviadas_cruzo[bases_enviadas_cruzo[\"PROVEEDOR\"]==\"WODEN\"]\n",
    "provedor_woden.info()"
   ]
  },
  {
   "cell_type": "code",
   "execution_count": 48,
   "id": "c2cfa90f",
   "metadata": {},
   "outputs": [
    {
     "name": "stdout",
     "output_type": "stream",
     "text": [
      "<class 'pandas.core.frame.DataFrame'>\n",
      "Index: 1507 entries, 364942 to 366448\n",
      "Data columns (total 28 columns):\n",
      " #   Column             Non-Null Count  Dtype         \n",
      "---  ------             --------------  -----         \n",
      " 0   TIPO BASE          1507 non-null   object        \n",
      " 1   PEDIDO             1507 non-null   object        \n",
      " 2   IDENTIFICADOR_ID   1507 non-null   object        \n",
      " 3   CLIENTE_ID         1507 non-null   object        \n",
      " 4   INTERFAZ           1507 non-null   object        \n",
      " 5   CIUDAD             1507 non-null   object        \n",
      " 6   DEPARTAMENTO       1507 non-null   object        \n",
      " 7   MARCA_ID           1507 non-null   object        \n",
      " 8   REFERENCIA_ID      1507 non-null   object        \n",
      " 9   ID_EQUIPO          1507 non-null   object        \n",
      " 10  SERIAL_EQUIPO      1507 non-null   object        \n",
      " 11  MAC_EQUIPO         1507 non-null   object        \n",
      " 12  PRODUCTO           1507 non-null   object        \n",
      " 13  TECNOLOGÍA         1507 non-null   object        \n",
      " 14  UNIDAD_DE_NEGOCIO  1507 non-null   object        \n",
      " 15  MACRO MOTIVO       1507 non-null   object        \n",
      " 16  FECHA_ENVIO IQE    1507 non-null   datetime64[ns]\n",
      " 17  REGIONAL NUEVA     1507 non-null   object        \n",
      " 18  DEPURACION         1507 non-null   object        \n",
      " 19  FECHA              1507 non-null   object        \n",
      " 20  NombreArchivo      1507 non-null   object        \n",
      " 21  PC                 1507 non-null   object        \n",
      " 22  CC-S               1507 non-null   object        \n",
      " 23  PCS                1507 non-null   object        \n",
      " 24  CRUCE              1507 non-null   object        \n",
      " 25  Fecha de cierre    1507 non-null   datetime64[ns]\n",
      " 26  Tipo de cierre     1507 non-null   object        \n",
      " 27  PROVEEDOR          1507 non-null   object        \n",
      "dtypes: datetime64[ns](2), object(26)\n",
      "memory usage: 341.4+ KB\n"
     ]
    }
   ],
   "source": [
    "provedor_no_woden=bases_enviadas_cruzo[bases_enviadas_cruzo[\"PROVEEDOR\"]!=\"WODEN\"]\n",
    "provedor_no_woden.info()"
   ]
  },
  {
   "cell_type": "code",
   "execution_count": 49,
   "id": "9229352f",
   "metadata": {},
   "outputs": [
    {
     "name": "stdout",
     "output_type": "stream",
     "text": [
      "<class 'pandas.core.frame.DataFrame'>\n",
      "Index: 251798 entries, 0 to 364940\n",
      "Data columns (total 28 columns):\n",
      " #   Column             Non-Null Count   Dtype         \n",
      "---  ------             --------------   -----         \n",
      " 0   TIPO BASE          251798 non-null  object        \n",
      " 1   PEDIDO             251798 non-null  object        \n",
      " 2   IDENTIFICADOR_ID   251798 non-null  object        \n",
      " 3   CLIENTE_ID         251798 non-null  object        \n",
      " 4   INTERFAZ           251798 non-null  object        \n",
      " 5   CIUDAD             251798 non-null  object        \n",
      " 6   DEPARTAMENTO       251798 non-null  object        \n",
      " 7   MARCA_ID           251798 non-null  object        \n",
      " 8   REFERENCIA_ID      251798 non-null  object        \n",
      " 9   ID_EQUIPO          251798 non-null  object        \n",
      " 10  SERIAL_EQUIPO      251798 non-null  object        \n",
      " 11  MAC_EQUIPO         251798 non-null  object        \n",
      " 12  PRODUCTO           251798 non-null  object        \n",
      " 13  TECNOLOGÍA         251798 non-null  object        \n",
      " 14  UNIDAD_DE_NEGOCIO  251798 non-null  object        \n",
      " 15  MACRO MOTIVO       251798 non-null  object        \n",
      " 16  FECHA_ENVIO IQE    251798 non-null  datetime64[ns]\n",
      " 17  REGIONAL NUEVA     251798 non-null  object        \n",
      " 18  DEPURACION         251798 non-null  object        \n",
      " 19  FECHA              251798 non-null  object        \n",
      " 20  NombreArchivo      251798 non-null  object        \n",
      " 21  PC                 251798 non-null  object        \n",
      " 22  CC-S               251798 non-null  object        \n",
      " 23  PCS                251798 non-null  object        \n",
      " 24  CRUCE              251798 non-null  object        \n",
      " 25  Fecha de cierre    251798 non-null  datetime64[ns]\n",
      " 26  Tipo de cierre     251798 non-null  object        \n",
      " 27  PROVEEDOR          251798 non-null  object        \n",
      "dtypes: datetime64[ns](2), object(26)\n",
      "memory usage: 55.7+ MB\n"
     ]
    }
   ],
   "source": [
    "# Filtrar las filas que no tienen las tipificaciones \"RECUPERADO WODEN\" y \"ENTREGO A WODEN\"\n",
    "filtrado2 = bases_enviadas_cruzo[bases_enviadas_cruzo[\"Tipo de cierre\"].isin([\"RECUPERADO WODEN\", \"ENTREGO A WODEN\"])]\n",
    "filtrado2.info()"
   ]
  },
  {
   "cell_type": "code",
   "execution_count": 50,
   "id": "cb1cd6e4",
   "metadata": {},
   "outputs": [
    {
     "name": "stdout",
     "output_type": "stream",
     "text": [
      "Tipo de cierre\n",
      "CLIENTE NO ENCONTRADO                           42221\n",
      "CLIENTE NO VIVE EN DIRECCIÓN                    26134\n",
      "CLIENTE ENTREGO A TERCEROS                      11037\n",
      "VOLVER A VISITAR                                10206\n",
      "DIRECCION DEFICIENTE                             4201\n",
      "DIRECCIÓN NO EXISTE                              3320\n",
      "CLIENTE ENTREGO A SERVIENTREGA                   2024\n",
      "CLIENTE ENTREGO A TERCEROS (INSTALADOR)          1922\n",
      "CLIENTE RECONECTADO                              1552\n",
      "CLIENTE INCUMPLE CITA                            1467\n",
      "CLIENTE ENTREGO A TERCEROS (INTERRAPIDISIMO)     1345\n",
      "SERVICIO ACTIVO                                  1054\n",
      "*SELECCIONAR*                                    1040\n",
      "CLIENTE NO ENTREGA EQUIPOS                        910\n",
      "ORDEN PÚBLICO                                     867\n",
      "CLIENTE NO CUENTA CON LOS EQUIPOS                 759\n",
      "FRAUDE                                            729\n",
      "CLIENTE DE VIAJE                                  679\n",
      "CAMBIO DE DIRECCION                               480\n",
      "EQUIPOS OBSOLETOS                                 336\n",
      "CLIENTE FALLECIÓ                                  258\n",
      "CAMBIO TECNOLOGÍA                                 222\n",
      "TRASLADO                                          161\n",
      "CAMBIO DE HORARIO CONFIRMADO                      153\n",
      "ENTREGO EN TIENDA                                  50\n",
      "CLIENTE ENTREGO INTERRAPIDISIMO                    13\n",
      "CLIENTE ENTREGO A TERCEROS (LOGYTECH)               4\n",
      "Name: count, dtype: int64\n",
      "113144\n"
     ]
    }
   ],
   "source": [
    "# Filtrar las filas que no tienen las tipificaciones \"RECUPERADO WODEN\" y \"ENTREGO A WODEN\"\n",
    "filtrado = provedor_woden[~provedor_woden[\"Tipo de cierre\"].isin([\"RECUPERADO WODEN\", \"ENTREGO A WODEN\"])]\n",
    "# Verificar los resultados\n",
    "print(filtrado[\"Tipo de cierre\"].value_counts(dropna=False))\n",
    "print(len(filtrado))"
   ]
  },
  {
   "cell_type": "code",
   "execution_count": 51,
   "id": "dd9fdfff",
   "metadata": {},
   "outputs": [
    {
     "data": {
      "text/plain": [
       "PROVEEDOR\n",
       "WODEN           103993\n",
       "Servientrega      6877\n",
       "FIELD             1249\n",
       "INTER             1082\n",
       "Name: count, dtype: int64"
      ]
     },
     "execution_count": 51,
     "metadata": {},
     "output_type": "execute_result"
    }
   ],
   "source": [
    "# Realizar el cruce\n",
    "merged_df = filtrado.merge(canal_alterno_cruce_inverso[['LLAVE', 'PROVEEDOR']],left_on=\"CC-S\",right_on=\"LLAVE\", how='left', suffixes=('', '_nuevo'))\n",
    "\n",
    "# Actualizar la columna 'PROVEEDOR'\n",
    "merged_df['PROVEEDOR'] = merged_df['PROVEEDOR_nuevo'].combine_first(merged_df['PROVEEDOR'])\n",
    "\n",
    "# Eliminar la columna 'PROVEEDOR_nuevo' ya que no es necesaria después de la actualización\n",
    "merged_df = merged_df.drop(columns=['PROVEEDOR_nuevo'])\n",
    "merged_df['PROVEEDOR'].value_counts(dropna=False)"
   ]
  },
  {
   "cell_type": "code",
   "execution_count": 52,
   "id": "2cb624e3",
   "metadata": {},
   "outputs": [
    {
     "name": "stdout",
     "output_type": "stream",
     "text": [
      "<class 'pandas.core.frame.DataFrame'>\n",
      "Index: 103993 entries, 0 to 113200\n",
      "Data columns (total 29 columns):\n",
      " #   Column             Non-Null Count   Dtype         \n",
      "---  ------             --------------   -----         \n",
      " 0   TIPO BASE          103993 non-null  object        \n",
      " 1   PEDIDO             103993 non-null  object        \n",
      " 2   IDENTIFICADOR_ID   103993 non-null  object        \n",
      " 3   CLIENTE_ID         103993 non-null  object        \n",
      " 4   INTERFAZ           103993 non-null  object        \n",
      " 5   CIUDAD             103993 non-null  object        \n",
      " 6   DEPARTAMENTO       103993 non-null  object        \n",
      " 7   MARCA_ID           103993 non-null  object        \n",
      " 8   REFERENCIA_ID      103993 non-null  object        \n",
      " 9   ID_EQUIPO          103993 non-null  object        \n",
      " 10  SERIAL_EQUIPO      103993 non-null  object        \n",
      " 11  MAC_EQUIPO         103993 non-null  object        \n",
      " 12  PRODUCTO           103993 non-null  object        \n",
      " 13  TECNOLOGÍA         103993 non-null  object        \n",
      " 14  UNIDAD_DE_NEGOCIO  103993 non-null  object        \n",
      " 15  MACRO MOTIVO       103993 non-null  object        \n",
      " 16  FECHA_ENVIO IQE    103993 non-null  datetime64[ns]\n",
      " 17  REGIONAL NUEVA     103993 non-null  object        \n",
      " 18  DEPURACION         103993 non-null  object        \n",
      " 19  FECHA              103993 non-null  object        \n",
      " 20  NombreArchivo      103993 non-null  object        \n",
      " 21  PC                 103993 non-null  object        \n",
      " 22  CC-S               103993 non-null  object        \n",
      " 23  PCS                103993 non-null  object        \n",
      " 24  CRUCE              103993 non-null  object        \n",
      " 25  Fecha de cierre    103993 non-null  datetime64[ns]\n",
      " 26  Tipo de cierre     103993 non-null  object        \n",
      " 27  PROVEEDOR          103993 non-null  object        \n",
      " 28  LLAVE              0 non-null       object        \n",
      "dtypes: datetime64[ns](2), object(27)\n",
      "memory usage: 23.8+ MB\n"
     ]
    }
   ],
   "source": [
    "merged_df_woden=merged_df[merged_df['PROVEEDOR']==\"WODEN\"]\n",
    "merged_df_woden.info()"
   ]
  },
  {
   "cell_type": "code",
   "execution_count": 53,
   "id": "a6fbabb7",
   "metadata": {},
   "outputs": [
    {
     "name": "stdout",
     "output_type": "stream",
     "text": [
      "<class 'pandas.core.frame.DataFrame'>\n",
      "Index: 9208 entries, 3 to 113190\n",
      "Data columns (total 29 columns):\n",
      " #   Column             Non-Null Count  Dtype         \n",
      "---  ------             --------------  -----         \n",
      " 0   TIPO BASE          9208 non-null   object        \n",
      " 1   PEDIDO             9208 non-null   object        \n",
      " 2   IDENTIFICADOR_ID   9208 non-null   object        \n",
      " 3   CLIENTE_ID         9208 non-null   object        \n",
      " 4   INTERFAZ           9208 non-null   object        \n",
      " 5   CIUDAD             9208 non-null   object        \n",
      " 6   DEPARTAMENTO       9208 non-null   object        \n",
      " 7   MARCA_ID           9208 non-null   object        \n",
      " 8   REFERENCIA_ID      9208 non-null   object        \n",
      " 9   ID_EQUIPO          9208 non-null   object        \n",
      " 10  SERIAL_EQUIPO      9208 non-null   object        \n",
      " 11  MAC_EQUIPO         9208 non-null   object        \n",
      " 12  PRODUCTO           9208 non-null   object        \n",
      " 13  TECNOLOGÍA         9208 non-null   object        \n",
      " 14  UNIDAD_DE_NEGOCIO  9208 non-null   object        \n",
      " 15  MACRO MOTIVO       9208 non-null   object        \n",
      " 16  FECHA_ENVIO IQE    9208 non-null   datetime64[ns]\n",
      " 17  REGIONAL NUEVA     9208 non-null   object        \n",
      " 18  DEPURACION         9208 non-null   object        \n",
      " 19  FECHA              9208 non-null   object        \n",
      " 20  NombreArchivo      9208 non-null   object        \n",
      " 21  PC                 9208 non-null   object        \n",
      " 22  CC-S               9208 non-null   object        \n",
      " 23  PCS                9208 non-null   object        \n",
      " 24  CRUCE              9208 non-null   object        \n",
      " 25  Fecha de cierre    9208 non-null   datetime64[ns]\n",
      " 26  Tipo de cierre     9208 non-null   object        \n",
      " 27  PROVEEDOR          9208 non-null   object        \n",
      " 28  LLAVE              9208 non-null   object        \n",
      "dtypes: datetime64[ns](2), object(27)\n",
      "memory usage: 2.1+ MB\n"
     ]
    }
   ],
   "source": [
    "merged_df_no_woden=merged_df[merged_df['PROVEEDOR']!=\"WODEN\"]\n",
    "merged_df_no_woden.info()"
   ]
  },
  {
   "cell_type": "code",
   "execution_count": 54,
   "id": "c8e5cb51",
   "metadata": {},
   "outputs": [
    {
     "data": {
      "text/plain": [
       "PROVEEDOR\n",
       "WODEN           96592\n",
       "FIELD            4098\n",
       "INTER            2587\n",
       "Servientrega      716\n",
       "Name: count, dtype: int64"
      ]
     },
     "execution_count": 54,
     "metadata": {},
     "output_type": "execute_result"
    }
   ],
   "source": [
    "# Realizar el cruce\n",
    "merged_df_woden = merged_df_woden.merge(canal_alterno_cruce_inverso[['CLIENTE_ID', 'PROVEEDOR',\"FECHA\"]],on=\"CLIENTE_ID\", how='left', suffixes=('', '_nuevo'))\n",
    "# Actualizar la columna 'PROVEEDOR'\n",
    "merged_df_woden['PROVEEDOR'] = merged_df_woden['PROVEEDOR_nuevo'].combine_first(merged_df_woden['PROVEEDOR'])\n",
    "merged_df_woden=merged_df_woden.drop_duplicates(subset=\"CC-S\")\n",
    "# Eliminar la columna 'PROVEEDOR_nuevo' ya que no es necesaria después de la actualización\n",
    "merged_df_woden = merged_df_woden.drop(columns=['PROVEEDOR_nuevo'])\n",
    "merged_df_woden['PROVEEDOR'].value_counts(dropna=False)"
   ]
  },
  {
   "cell_type": "code",
   "execution_count": 55,
   "id": "3573321b",
   "metadata": {},
   "outputs": [
    {
     "name": "stdout",
     "output_type": "stream",
     "text": [
      "<class 'pandas.core.frame.DataFrame'>\n",
      "Index: 103993 entries, 0 to 118325\n",
      "Data columns (total 30 columns):\n",
      " #   Column             Non-Null Count   Dtype         \n",
      "---  ------             --------------   -----         \n",
      " 0   TIPO BASE          103993 non-null  object        \n",
      " 1   PEDIDO             103993 non-null  object        \n",
      " 2   IDENTIFICADOR_ID   103993 non-null  object        \n",
      " 3   CLIENTE_ID         103993 non-null  object        \n",
      " 4   INTERFAZ           103993 non-null  object        \n",
      " 5   CIUDAD             103993 non-null  object        \n",
      " 6   DEPARTAMENTO       103993 non-null  object        \n",
      " 7   MARCA_ID           103993 non-null  object        \n",
      " 8   REFERENCIA_ID      103993 non-null  object        \n",
      " 9   ID_EQUIPO          103993 non-null  object        \n",
      " 10  SERIAL_EQUIPO      103993 non-null  object        \n",
      " 11  MAC_EQUIPO         103993 non-null  object        \n",
      " 12  PRODUCTO           103993 non-null  object        \n",
      " 13  TECNOLOGÍA         103993 non-null  object        \n",
      " 14  UNIDAD_DE_NEGOCIO  103993 non-null  object        \n",
      " 15  MACRO MOTIVO       103993 non-null  object        \n",
      " 16  FECHA_ENVIO IQE    103993 non-null  datetime64[ns]\n",
      " 17  REGIONAL NUEVA     103993 non-null  object        \n",
      " 18  DEPURACION         103993 non-null  object        \n",
      " 19  FECHA              103993 non-null  object        \n",
      " 20  NombreArchivo      103993 non-null  object        \n",
      " 21  PC                 103993 non-null  object        \n",
      " 22  CC-S               103993 non-null  object        \n",
      " 23  PCS                103993 non-null  object        \n",
      " 24  CRUCE              103993 non-null  object        \n",
      " 25  Fecha de cierre    103993 non-null  datetime64[ns]\n",
      " 26  Tipo de cierre     103993 non-null  object        \n",
      " 27  PROVEEDOR          103993 non-null  object        \n",
      " 28  LLAVE              0 non-null       object        \n",
      " 29  FECHA_nuevo        7401 non-null    datetime64[ns]\n",
      "dtypes: datetime64[ns](3), object(27)\n",
      "memory usage: 24.6+ MB\n"
     ]
    }
   ],
   "source": [
    "merged_df_woden.info()"
   ]
  },
  {
   "cell_type": "code",
   "execution_count": 56,
   "id": "959f2c50",
   "metadata": {},
   "outputs": [
    {
     "data": {
      "text/plain": [
       "PROVEEDOR\n",
       "FIELD           4098\n",
       "INTER           2587\n",
       "Servientrega     716\n",
       "Name: count, dtype: int64"
      ]
     },
     "execution_count": 56,
     "metadata": {},
     "output_type": "execute_result"
    }
   ],
   "source": [
    "# Filtrar las filas que no tienen las tipificaciones \"RECUPERADO WODEN\" y \"ENTREGO A WODEN\"\n",
    "aplicar_logica = merged_df_woden[~merged_df_woden[\"PROVEEDOR\"].isin([\"WODEN\"])]\n",
    "aplicar_logica[\"PROVEEDOR\"].value_counts(dropna=False)"
   ]
  },
  {
   "cell_type": "code",
   "execution_count": 57,
   "id": "dde9c8da",
   "metadata": {},
   "outputs": [
    {
     "name": "stdout",
     "output_type": "stream",
     "text": [
      "<class 'pandas.core.frame.DataFrame'>\n",
      "Index: 7401 entries, 85 to 118321\n",
      "Data columns (total 30 columns):\n",
      " #   Column             Non-Null Count  Dtype         \n",
      "---  ------             --------------  -----         \n",
      " 0   TIPO BASE          7401 non-null   object        \n",
      " 1   PEDIDO             7401 non-null   object        \n",
      " 2   IDENTIFICADOR_ID   7401 non-null   object        \n",
      " 3   CLIENTE_ID         7401 non-null   object        \n",
      " 4   INTERFAZ           7401 non-null   object        \n",
      " 5   CIUDAD             7401 non-null   object        \n",
      " 6   DEPARTAMENTO       7401 non-null   object        \n",
      " 7   MARCA_ID           7401 non-null   object        \n",
      " 8   REFERENCIA_ID      7401 non-null   object        \n",
      " 9   ID_EQUIPO          7401 non-null   object        \n",
      " 10  SERIAL_EQUIPO      7401 non-null   object        \n",
      " 11  MAC_EQUIPO         7401 non-null   object        \n",
      " 12  PRODUCTO           7401 non-null   object        \n",
      " 13  TECNOLOGÍA         7401 non-null   object        \n",
      " 14  UNIDAD_DE_NEGOCIO  7401 non-null   object        \n",
      " 15  MACRO MOTIVO       7401 non-null   object        \n",
      " 16  FECHA_ENVIO IQE    7401 non-null   datetime64[ns]\n",
      " 17  REGIONAL NUEVA     7401 non-null   object        \n",
      " 18  DEPURACION         7401 non-null   object        \n",
      " 19  FECHA              7401 non-null   object        \n",
      " 20  NombreArchivo      7401 non-null   object        \n",
      " 21  PC                 7401 non-null   object        \n",
      " 22  CC-S               7401 non-null   object        \n",
      " 23  PCS                7401 non-null   object        \n",
      " 24  CRUCE              7401 non-null   object        \n",
      " 25  Fecha de cierre    7401 non-null   datetime64[ns]\n",
      " 26  Tipo de cierre     7401 non-null   object        \n",
      " 27  PROVEEDOR          7401 non-null   object        \n",
      " 28  LLAVE              0 non-null      object        \n",
      " 29  FECHA_nuevo        7401 non-null   datetime64[ns]\n",
      "dtypes: datetime64[ns](3), object(27)\n",
      "memory usage: 1.8+ MB\n"
     ]
    }
   ],
   "source": [
    "aplicar_logica.info()"
   ]
  },
  {
   "cell_type": "code",
   "execution_count": 58,
   "id": "7d076d6d",
   "metadata": {},
   "outputs": [
    {
     "name": "stdout",
     "output_type": "stream",
     "text": [
      "Rango_Dias\n",
      "Si    6044\n",
      "No    1357\n",
      "Name: count, dtype: int64\n"
     ]
    }
   ],
   "source": [
    "aplicar_logica['Diferencia_Dias'] = (merged_df_woden['FECHA_nuevo'] - merged_df_woden['FECHA_ENVIO IQE']).dt.days\n",
    "aplicar_logica['Rango_Dias'] = aplicar_logica['Diferencia_Dias'].apply(lambda x: 'Si' if x >= -30 and x <= 60 else 'No')\n",
    "aplicar_logica=aplicar_logica.drop_duplicates(subset=\"CC-S\")\n",
    "print(aplicar_logica.Rango_Dias.value_counts())"
   ]
  },
  {
   "cell_type": "code",
   "execution_count": 59,
   "id": "6349d8ae",
   "metadata": {},
   "outputs": [
    {
     "data": {
      "text/plain": [
       "PROVEEDOR\n",
       "FIELD           2918\n",
       "INTER           2445\n",
       "Servientrega     681\n",
       "Name: count, dtype: int64"
      ]
     },
     "execution_count": 59,
     "metadata": {},
     "output_type": "execute_result"
    }
   ],
   "source": [
    "sicumple=aplicar_logica[aplicar_logica['Rango_Dias']==\"Si\"]\n",
    "sicumple[\"PROVEEDOR\"].value_counts(dropna=False)"
   ]
  },
  {
   "cell_type": "code",
   "execution_count": 60,
   "id": "75f24ef1",
   "metadata": {},
   "outputs": [
    {
     "data": {
      "text/plain": [
       "PROVEEDOR\n",
       "FIELD           1180\n",
       "INTER            142\n",
       "Servientrega      35\n",
       "Name: count, dtype: int64"
      ]
     },
     "execution_count": 60,
     "metadata": {},
     "output_type": "execute_result"
    }
   ],
   "source": [
    "nocumple=aplicar_logica[aplicar_logica['Rango_Dias']==\"No\"]\n",
    "nocumple[\"PROVEEDOR\"].value_counts(dropna=False)"
   ]
  },
  {
   "cell_type": "code",
   "execution_count": null,
   "id": "77e346b9",
   "metadata": {},
   "outputs": [],
   "source": [
    "#primeraconcatenacion=pd.concat([sicumple,merged_df_no_woden,provedor_no_woden])\n",
    "#primeraconcatenacion.info()"
   ]
  },
  {
   "cell_type": "code",
   "execution_count": null,
   "id": "e7517b88",
   "metadata": {},
   "outputs": [],
   "source": [
    "#primeraconcatenacion[\"PROVEEDOR\"].value_counts(dropna=False)"
   ]
  },
  {
   "cell_type": "code",
   "execution_count": 61,
   "id": "cda44fac",
   "metadata": {},
   "outputs": [
    {
     "data": {
      "text/plain": [
       "PROVEEDOR\n",
       "WODEN           96592\n",
       "FIELD            4098\n",
       "INTER            2587\n",
       "Servientrega      716\n",
       "Name: count, dtype: int64"
      ]
     },
     "execution_count": 61,
     "metadata": {},
     "output_type": "execute_result"
    }
   ],
   "source": [
    "merged_df_woden[\"PROVEEDOR\"].value_counts(dropna=False)"
   ]
  },
  {
   "cell_type": "code",
   "execution_count": 62,
   "id": "799a1a60",
   "metadata": {},
   "outputs": [
    {
     "name": "stdout",
     "output_type": "stream",
     "text": [
      "<class 'pandas.core.frame.DataFrame'>\n",
      "Index: 96592 entries, 0 to 118325\n",
      "Data columns (total 30 columns):\n",
      " #   Column             Non-Null Count  Dtype         \n",
      "---  ------             --------------  -----         \n",
      " 0   TIPO BASE          96592 non-null  object        \n",
      " 1   PEDIDO             96592 non-null  object        \n",
      " 2   IDENTIFICADOR_ID   96592 non-null  object        \n",
      " 3   CLIENTE_ID         96592 non-null  object        \n",
      " 4   INTERFAZ           96592 non-null  object        \n",
      " 5   CIUDAD             96592 non-null  object        \n",
      " 6   DEPARTAMENTO       96592 non-null  object        \n",
      " 7   MARCA_ID           96592 non-null  object        \n",
      " 8   REFERENCIA_ID      96592 non-null  object        \n",
      " 9   ID_EQUIPO          96592 non-null  object        \n",
      " 10  SERIAL_EQUIPO      96592 non-null  object        \n",
      " 11  MAC_EQUIPO         96592 non-null  object        \n",
      " 12  PRODUCTO           96592 non-null  object        \n",
      " 13  TECNOLOGÍA         96592 non-null  object        \n",
      " 14  UNIDAD_DE_NEGOCIO  96592 non-null  object        \n",
      " 15  MACRO MOTIVO       96592 non-null  object        \n",
      " 16  FECHA_ENVIO IQE    96592 non-null  datetime64[ns]\n",
      " 17  REGIONAL NUEVA     96592 non-null  object        \n",
      " 18  DEPURACION         96592 non-null  object        \n",
      " 19  FECHA              96592 non-null  object        \n",
      " 20  NombreArchivo      96592 non-null  object        \n",
      " 21  PC                 96592 non-null  object        \n",
      " 22  CC-S               96592 non-null  object        \n",
      " 23  PCS                96592 non-null  object        \n",
      " 24  CRUCE              96592 non-null  object        \n",
      " 25  Fecha de cierre    96592 non-null  datetime64[ns]\n",
      " 26  Tipo de cierre     96592 non-null  object        \n",
      " 27  PROVEEDOR          96592 non-null  object        \n",
      " 28  LLAVE              0 non-null      object        \n",
      " 29  FECHA_nuevo        0 non-null      datetime64[ns]\n",
      "dtypes: datetime64[ns](3), object(27)\n",
      "memory usage: 22.8+ MB\n"
     ]
    }
   ],
   "source": [
    "woden_vs_canal_alterno_serial=merged_df_woden[merged_df_woden[\"PROVEEDOR\"]==\"WODEN\"]\n",
    "woden_vs_canal_alterno_serial.info()"
   ]
  },
  {
   "cell_type": "code",
   "execution_count": 63,
   "id": "067f7641",
   "metadata": {},
   "outputs": [
    {
     "data": {
      "text/plain": [
       "PROVEEDOR\n",
       "WODEN           89299\n",
       "INTER            3214\n",
       "Servientrega     2176\n",
       "FIELD            1903\n",
       "Name: count, dtype: int64"
      ]
     },
     "execution_count": 63,
     "metadata": {},
     "output_type": "execute_result"
    }
   ],
   "source": [
    "# Realizar el cruce\n",
    "woden_vs_canal_alterno_serial = woden_vs_canal_alterno_serial.merge(canal_alterno_cruce_inverso[['SERIALES', 'PROVEEDOR',\"FECHA\"]],left_on=\"SERIAL_EQUIPO\",right_on=\"SERIALES\", how='left', suffixes=('', '_nuevo'))\n",
    "# Actualizar la columna 'PROVEEDOR'\n",
    "woden_vs_canal_alterno_serial['PROVEEDOR'] = woden_vs_canal_alterno_serial['PROVEEDOR_nuevo'].combine_first(woden_vs_canal_alterno_serial['PROVEEDOR'])\n",
    "woden_vs_canal_alterno_serial=woden_vs_canal_alterno_serial.drop_duplicates(subset=\"CC-S\")\n",
    "# Eliminar la columna 'PROVEEDOR_nuevo' ya que no es necesaria después de la actualización\n",
    "woden_vs_canal_alterno_serial = woden_vs_canal_alterno_serial.drop(columns=['PROVEEDOR_nuevo'])\n",
    "woden_vs_canal_alterno_serial['PROVEEDOR'].value_counts(dropna=False)"
   ]
  },
  {
   "cell_type": "code",
   "execution_count": 64,
   "id": "02bf48f3",
   "metadata": {},
   "outputs": [
    {
     "name": "stdout",
     "output_type": "stream",
     "text": [
      "<class 'pandas.core.frame.DataFrame'>\n",
      "Index: 7293 entries, 0 to 97421\n",
      "Data columns (total 28 columns):\n",
      " #   Column             Non-Null Count  Dtype         \n",
      "---  ------             --------------  -----         \n",
      " 0   TIPO BASE          7293 non-null   object        \n",
      " 1   PEDIDO             7293 non-null   object        \n",
      " 2   IDENTIFICADOR_ID   7293 non-null   object        \n",
      " 3   CLIENTE_ID         7293 non-null   object        \n",
      " 4   INTERFAZ           7293 non-null   object        \n",
      " 5   CIUDAD             7293 non-null   object        \n",
      " 6   DEPARTAMENTO       7293 non-null   object        \n",
      " 7   MARCA_ID           7293 non-null   object        \n",
      " 8   REFERENCIA_ID      7293 non-null   object        \n",
      " 9   ID_EQUIPO          7293 non-null   object        \n",
      " 10  SERIAL_EQUIPO      7293 non-null   object        \n",
      " 11  MAC_EQUIPO         7293 non-null   object        \n",
      " 12  PRODUCTO           7293 non-null   object        \n",
      " 13  TECNOLOGÍA         7293 non-null   object        \n",
      " 14  UNIDAD_DE_NEGOCIO  7293 non-null   object        \n",
      " 15  MACRO MOTIVO       7293 non-null   object        \n",
      " 16  FECHA_ENVIO IQE    7293 non-null   datetime64[ns]\n",
      " 17  REGIONAL NUEVA     7293 non-null   object        \n",
      " 18  DEPURACION         7293 non-null   object        \n",
      " 19  FECHA              7293 non-null   object        \n",
      " 20  NombreArchivo      7293 non-null   object        \n",
      " 21  PC                 7293 non-null   object        \n",
      " 22  CC-S               7293 non-null   object        \n",
      " 23  PCS                7293 non-null   object        \n",
      " 24  CRUCE              7293 non-null   object        \n",
      " 25  Fecha de cierre    7293 non-null   datetime64[ns]\n",
      " 26  Tipo de cierre     7293 non-null   object        \n",
      " 27  PROVEEDOR          7293 non-null   object        \n",
      "dtypes: datetime64[ns](2), object(26)\n",
      "memory usage: 1.6+ MB\n"
     ]
    }
   ],
   "source": [
    "woden_vs_canal_alterno_serial_distintoawoden=woden_vs_canal_alterno_serial[woden_vs_canal_alterno_serial['PROVEEDOR']!=\"WODEN\"]\n",
    "woden_vs_canal_alterno_serial_distintoawoden.drop([\"LLAVE\",\"FECHA_nuevo\",\"SERIALES\",\"FECHA_nuevo\"],axis=1,inplace=True)\n",
    "woden_vs_canal_alterno_serial_distintoawoden.info()"
   ]
  },
  {
   "cell_type": "code",
   "execution_count": 65,
   "id": "b8047059",
   "metadata": {},
   "outputs": [
    {
     "name": "stdout",
     "output_type": "stream",
     "text": [
      "<class 'pandas.core.frame.DataFrame'>\n",
      "RangeIndex: 24052 entries, 0 to 24051\n",
      "Data columns (total 28 columns):\n",
      " #   Column             Non-Null Count  Dtype         \n",
      "---  ------             --------------  -----         \n",
      " 0   TIPO BASE          24052 non-null  object        \n",
      " 1   PEDIDO             24052 non-null  object        \n",
      " 2   IDENTIFICADOR_ID   24052 non-null  object        \n",
      " 3   CLIENTE_ID         24052 non-null  object        \n",
      " 4   INTERFAZ           24052 non-null  object        \n",
      " 5   CIUDAD             24052 non-null  object        \n",
      " 6   DEPARTAMENTO       24052 non-null  object        \n",
      " 7   MARCA_ID           24052 non-null  object        \n",
      " 8   REFERENCIA_ID      24052 non-null  object        \n",
      " 9   ID_EQUIPO          24052 non-null  object        \n",
      " 10  SERIAL_EQUIPO      24052 non-null  object        \n",
      " 11  MAC_EQUIPO         24052 non-null  object        \n",
      " 12  PRODUCTO           24052 non-null  object        \n",
      " 13  TECNOLOGÍA         24052 non-null  object        \n",
      " 14  UNIDAD_DE_NEGOCIO  24052 non-null  object        \n",
      " 15  MACRO MOTIVO       24052 non-null  object        \n",
      " 16  FECHA_ENVIO IQE    24052 non-null  datetime64[ns]\n",
      " 17  REGIONAL NUEVA     24052 non-null  object        \n",
      " 18  DEPURACION         24052 non-null  object        \n",
      " 19  FECHA              24052 non-null  object        \n",
      " 20  NombreArchivo      24052 non-null  object        \n",
      " 21  PC                 24052 non-null  object        \n",
      " 22  CC-S               24052 non-null  object        \n",
      " 23  PCS                24052 non-null  object        \n",
      " 24  CRUCE              24052 non-null  object        \n",
      " 25  Fecha de cierre    24052 non-null  datetime64[ns]\n",
      " 26  Tipo de cierre     24052 non-null  object        \n",
      " 27  PROVEEDOR          24052 non-null  object        \n",
      "dtypes: datetime64[ns](2), object(26)\n",
      "memory usage: 5.1+ MB\n"
     ]
    }
   ],
   "source": [
    "tipificaciones_canal_alterno=pd.concat([woden_vs_canal_alterno_serial_distintoawoden,sicumple,merged_df_no_woden,provedor_no_woden],ignore_index=True)\n",
    "tipificaciones_canal_alterno.drop([\"LLAVE\",\"FECHA_nuevo\",\"Diferencia_Dias\",\"Rango_Dias\"],axis=1,inplace=True)\n",
    "tipificaciones_canal_alterno.info()"
   ]
  },
  {
   "cell_type": "code",
   "execution_count": 66,
   "id": "829271da",
   "metadata": {},
   "outputs": [
    {
     "data": {
      "text/plain": [
       "PROVEEDOR\n",
       "Servientrega    10181\n",
       "INTER            7628\n",
       "FIELD            6243\n",
       "Name: count, dtype: int64"
      ]
     },
     "execution_count": 66,
     "metadata": {},
     "output_type": "execute_result"
    }
   ],
   "source": [
    "tipificaciones_canal_alterno[\"PROVEEDOR\"].value_counts(dropna=False)"
   ]
  },
  {
   "cell_type": "code",
   "execution_count": 68,
   "id": "81d1c2a8",
   "metadata": {},
   "outputs": [
    {
     "name": "stdout",
     "output_type": "stream",
     "text": [
      "<class 'pandas.core.frame.DataFrame'>\n",
      "RangeIndex: 157337 entries, 0 to 157336\n",
      "Data columns (total 4 columns):\n",
      " #   Column     Non-Null Count   Dtype         \n",
      "---  ------     --------------   -----         \n",
      " 0   SERIE      157337 non-null  object        \n",
      " 1   GUIA       152393 non-null  object        \n",
      " 2   FECHA      157336 non-null  datetime64[ns]\n",
      " 3   MOTIVO II  157337 non-null  object        \n",
      "dtypes: datetime64[ns](1), object(3)\n",
      "memory usage: 4.8+ MB\n",
      "None\n"
     ]
    },
    {
     "data": {
      "text/html": [
       "<div>\n",
       "<style scoped>\n",
       "    .dataframe tbody tr th:only-of-type {\n",
       "        vertical-align: middle;\n",
       "    }\n",
       "\n",
       "    .dataframe tbody tr th {\n",
       "        vertical-align: top;\n",
       "    }\n",
       "\n",
       "    .dataframe thead th {\n",
       "        text-align: right;\n",
       "    }\n",
       "</style>\n",
       "<table border=\"1\" class=\"dataframe\">\n",
       "  <thead>\n",
       "    <tr style=\"text-align: right;\">\n",
       "      <th></th>\n",
       "      <th>SERIE</th>\n",
       "      <th>GUIA</th>\n",
       "      <th>FECHA</th>\n",
       "      <th>MOTIVO II</th>\n",
       "    </tr>\n",
       "  </thead>\n",
       "  <tbody>\n",
       "    <tr>\n",
       "      <th>0</th>\n",
       "      <td>1CM4D96B7602758</td>\n",
       "      <td>4400139904</td>\n",
       "      <td>2024-02-24</td>\n",
       "      <td>FIELD</td>\n",
       "    </tr>\n",
       "    <tr>\n",
       "      <th>1</th>\n",
       "      <td>ACD4NJ697500845</td>\n",
       "      <td>4400139904</td>\n",
       "      <td>2024-02-24</td>\n",
       "      <td>FIELD</td>\n",
       "    </tr>\n",
       "    <tr>\n",
       "      <th>2</th>\n",
       "      <td>8852NB112100557</td>\n",
       "      <td>4400139904</td>\n",
       "      <td>2024-02-24</td>\n",
       "      <td>FIELD</td>\n",
       "    </tr>\n",
       "    <tr>\n",
       "      <th>3</th>\n",
       "      <td>B522220B9422</td>\n",
       "      <td>4400139904</td>\n",
       "      <td>2024-02-24</td>\n",
       "      <td>FIELD</td>\n",
       "    </tr>\n",
       "    <tr>\n",
       "      <th>4</th>\n",
       "      <td>B522192D3723</td>\n",
       "      <td>4400139904</td>\n",
       "      <td>2024-02-24</td>\n",
       "      <td>FIELD</td>\n",
       "    </tr>\n",
       "  </tbody>\n",
       "</table>\n",
       "</div>"
      ],
      "text/plain": [
       "             SERIE        GUIA      FECHA MOTIVO II\n",
       "0  1CM4D96B7602758  4400139904 2024-02-24     FIELD\n",
       "1  ACD4NJ697500845  4400139904 2024-02-24     FIELD\n",
       "2  8852NB112100557  4400139904 2024-02-24     FIELD\n",
       "3     B522220B9422  4400139904 2024-02-24     FIELD\n",
       "4     B522192D3723  4400139904 2024-02-24     FIELD"
      ]
     },
     "execution_count": 68,
     "metadata": {},
     "output_type": "execute_result"
    }
   ],
   "source": [
    "cifras_recoleccion=pd.read_excel(\"C:/Users/oolea/Documents/01. Codigos PY/E2E- B2B/001. INFO OFICIAL ACTUALIZADA JUNIO/DATA E2E/cifras de recoleccion febrero-abril.xlsx\")\n",
    "print(cifras_recoleccion.info())\n",
    "cifras_recoleccion.head()"
   ]
  },
  {
   "cell_type": "code",
   "execution_count": 70,
   "id": "7f19a0df",
   "metadata": {},
   "outputs": [],
   "source": [
    "cifras_recoleccion.columns=['SERIAL', 'GUIA', 'FECHA CIERRE', 'PROVEEDOR']"
   ]
  },
  {
   "cell_type": "code",
   "execution_count": 71,
   "id": "8c627e25",
   "metadata": {},
   "outputs": [
    {
     "name": "stdout",
     "output_type": "stream",
     "text": [
      "<class 'pandas.core.frame.DataFrame'>\n",
      "RangeIndex: 157337 entries, 0 to 157336\n",
      "Data columns (total 4 columns):\n",
      " #   Column        Non-Null Count   Dtype         \n",
      "---  ------        --------------   -----         \n",
      " 0   SERIAL        157337 non-null  object        \n",
      " 1   GUIA          152393 non-null  object        \n",
      " 2   FECHA CIERRE  157336 non-null  datetime64[ns]\n",
      " 3   PROVEEDOR     157337 non-null  object        \n",
      "dtypes: datetime64[ns](1), object(3)\n",
      "memory usage: 4.8+ MB\n"
     ]
    }
   ],
   "source": [
    "cifras_recoleccion.info()"
   ]
  },
  {
   "cell_type": "code",
   "execution_count": 72,
   "id": "6ba28716",
   "metadata": {},
   "outputs": [
    {
     "name": "stdout",
     "output_type": "stream",
     "text": [
      "<class 'pandas.core.frame.DataFrame'>\n",
      "Index: 89299 entries, 1 to 97426\n",
      "Data columns (total 32 columns):\n",
      " #   Column             Non-Null Count  Dtype         \n",
      "---  ------             --------------  -----         \n",
      " 0   TIPO BASE          89299 non-null  object        \n",
      " 1   PEDIDO             89299 non-null  object        \n",
      " 2   IDENTIFICADOR_ID   89299 non-null  object        \n",
      " 3   CLIENTE_ID         89299 non-null  object        \n",
      " 4   INTERFAZ           89299 non-null  object        \n",
      " 5   CIUDAD             89299 non-null  object        \n",
      " 6   DEPARTAMENTO       89299 non-null  object        \n",
      " 7   MARCA_ID           89299 non-null  object        \n",
      " 8   REFERENCIA_ID      89299 non-null  object        \n",
      " 9   ID_EQUIPO          89299 non-null  object        \n",
      " 10  SERIAL_EQUIPO      89299 non-null  object        \n",
      " 11  MAC_EQUIPO         89299 non-null  object        \n",
      " 12  PRODUCTO           89299 non-null  object        \n",
      " 13  TECNOLOGÍA         89299 non-null  object        \n",
      " 14  UNIDAD_DE_NEGOCIO  89299 non-null  object        \n",
      " 15  MACRO MOTIVO       89299 non-null  object        \n",
      " 16  FECHA_ENVIO IQE    89299 non-null  datetime64[ns]\n",
      " 17  REGIONAL NUEVA     89299 non-null  object        \n",
      " 18  DEPURACION         89299 non-null  object        \n",
      " 19  FECHA              89299 non-null  object        \n",
      " 20  NombreArchivo      89299 non-null  object        \n",
      " 21  PC                 89299 non-null  object        \n",
      " 22  CC-S               89299 non-null  object        \n",
      " 23  PCS                89299 non-null  object        \n",
      " 24  CRUCE              89299 non-null  object        \n",
      " 25  Fecha de cierre    89299 non-null  datetime64[ns]\n",
      " 26  Tipo de cierre     89299 non-null  object        \n",
      " 27  PROVEEDOR          89299 non-null  object        \n",
      " 28  LLAVE              0 non-null      object        \n",
      " 29  FECHA_nuevo        0 non-null      datetime64[ns]\n",
      " 30  SERIALES           0 non-null      object        \n",
      " 31  FECHA_nuevo        0 non-null      datetime64[ns]\n",
      "dtypes: datetime64[ns](4), object(28)\n",
      "memory usage: 22.5+ MB\n"
     ]
    }
   ],
   "source": [
    "pro_woden=woden_vs_canal_alterno_serial[woden_vs_canal_alterno_serial[\"PROVEEDOR\"]==\"WODEN\"]\n",
    "pro_woden.info()"
   ]
  },
  {
   "cell_type": "code",
   "execution_count": 73,
   "id": "fa4b8fed",
   "metadata": {},
   "outputs": [
    {
     "data": {
      "text/plain": [
       "PROVEEDOR\n",
       "WODEN              84012\n",
       "FIELD               3888\n",
       "SERVIENTREGA        1120\n",
       "INTERRAPIDISIMO      279\n",
       "Name: count, dtype: int64"
      ]
     },
     "execution_count": 73,
     "metadata": {},
     "output_type": "execute_result"
    }
   ],
   "source": [
    "# Realizar el cruce\n",
    "pro_woden = pro_woden.merge(cifras_recoleccion[['SERIAL',\"PROVEEDOR\"]],left_on=\"SERIAL_EQUIPO\",right_on=\"SERIAL\", how='left', suffixes=('', '_nuevo'))\n",
    "# Actualizar la columna 'PROVEEDOR'\n",
    "pro_woden['PROVEEDOR'] = pro_woden['PROVEEDOR_nuevo'].combine_first(pro_woden['PROVEEDOR'])\n",
    "pro_woden=pro_woden.drop_duplicates(subset=\"CC-S\")\n",
    "# Eliminar la columna 'PROVEEDOR_nuevo' ya que no es necesaria después de la actualización\n",
    "pro_woden = pro_woden.drop(columns=['PROVEEDOR_nuevo'])\n",
    "pro_woden['PROVEEDOR'].value_counts(dropna=False)"
   ]
  },
  {
   "cell_type": "code",
   "execution_count": 74,
   "id": "a0468a0f",
   "metadata": {},
   "outputs": [
    {
     "name": "stdout",
     "output_type": "stream",
     "text": [
      "<class 'pandas.core.frame.DataFrame'>\n",
      "Index: 89299 entries, 0 to 89395\n",
      "Data columns (total 33 columns):\n",
      " #   Column             Non-Null Count  Dtype         \n",
      "---  ------             --------------  -----         \n",
      " 0   TIPO BASE          89299 non-null  object        \n",
      " 1   PEDIDO             89299 non-null  object        \n",
      " 2   IDENTIFICADOR_ID   89299 non-null  object        \n",
      " 3   CLIENTE_ID         89299 non-null  object        \n",
      " 4   INTERFAZ           89299 non-null  object        \n",
      " 5   CIUDAD             89299 non-null  object        \n",
      " 6   DEPARTAMENTO       89299 non-null  object        \n",
      " 7   MARCA_ID           89299 non-null  object        \n",
      " 8   REFERENCIA_ID      89299 non-null  object        \n",
      " 9   ID_EQUIPO          89299 non-null  object        \n",
      " 10  SERIAL_EQUIPO      89299 non-null  object        \n",
      " 11  MAC_EQUIPO         89299 non-null  object        \n",
      " 12  PRODUCTO           89299 non-null  object        \n",
      " 13  TECNOLOGÍA         89299 non-null  object        \n",
      " 14  UNIDAD_DE_NEGOCIO  89299 non-null  object        \n",
      " 15  MACRO MOTIVO       89299 non-null  object        \n",
      " 16  FECHA_ENVIO IQE    89299 non-null  datetime64[ns]\n",
      " 17  REGIONAL NUEVA     89299 non-null  object        \n",
      " 18  DEPURACION         89299 non-null  object        \n",
      " 19  FECHA              89299 non-null  object        \n",
      " 20  NombreArchivo      89299 non-null  object        \n",
      " 21  PC                 89299 non-null  object        \n",
      " 22  CC-S               89299 non-null  object        \n",
      " 23  PCS                89299 non-null  object        \n",
      " 24  CRUCE              89299 non-null  object        \n",
      " 25  Fecha de cierre    89299 non-null  datetime64[ns]\n",
      " 26  Tipo de cierre     89299 non-null  object        \n",
      " 27  PROVEEDOR          89299 non-null  object        \n",
      " 28  LLAVE              0 non-null      object        \n",
      " 29  FECHA_nuevo        0 non-null      datetime64[ns]\n",
      " 30  SERIALES           0 non-null      object        \n",
      " 31  FECHA_nuevo        0 non-null      datetime64[ns]\n",
      " 32  SERIAL             5287 non-null   object        \n",
      "dtypes: datetime64[ns](4), object(29)\n",
      "memory usage: 23.2+ MB\n"
     ]
    }
   ],
   "source": [
    "pro_woden.info()"
   ]
  },
  {
   "cell_type": "code",
   "execution_count": 75,
   "id": "de6e33eb",
   "metadata": {},
   "outputs": [
    {
     "name": "stdout",
     "output_type": "stream",
     "text": [
      "<class 'pandas.core.frame.DataFrame'>\n",
      "Index: 89299 entries, 0 to 89395\n",
      "Data columns (total 29 columns):\n",
      " #   Column             Non-Null Count  Dtype         \n",
      "---  ------             --------------  -----         \n",
      " 0   TIPO BASE          89299 non-null  object        \n",
      " 1   PEDIDO             89299 non-null  object        \n",
      " 2   IDENTIFICADOR_ID   89299 non-null  object        \n",
      " 3   CLIENTE_ID         89299 non-null  object        \n",
      " 4   INTERFAZ           89299 non-null  object        \n",
      " 5   CIUDAD             89299 non-null  object        \n",
      " 6   DEPARTAMENTO       89299 non-null  object        \n",
      " 7   MARCA_ID           89299 non-null  object        \n",
      " 8   REFERENCIA_ID      89299 non-null  object        \n",
      " 9   ID_EQUIPO          89299 non-null  object        \n",
      " 10  SERIAL_EQUIPO      89299 non-null  object        \n",
      " 11  MAC_EQUIPO         89299 non-null  object        \n",
      " 12  PRODUCTO           89299 non-null  object        \n",
      " 13  TECNOLOGÍA         89299 non-null  object        \n",
      " 14  UNIDAD_DE_NEGOCIO  89299 non-null  object        \n",
      " 15  MACRO MOTIVO       89299 non-null  object        \n",
      " 16  FECHA_ENVIO IQE    89299 non-null  datetime64[ns]\n",
      " 17  REGIONAL NUEVA     89299 non-null  object        \n",
      " 18  DEPURACION         89299 non-null  object        \n",
      " 19  FECHA              89299 non-null  object        \n",
      " 20  NombreArchivo      89299 non-null  object        \n",
      " 21  PC                 89299 non-null  object        \n",
      " 22  CC-S               89299 non-null  object        \n",
      " 23  PCS                89299 non-null  object        \n",
      " 24  CRUCE              89299 non-null  object        \n",
      " 25  Fecha de cierre    89299 non-null  datetime64[ns]\n",
      " 26  Tipo de cierre     89299 non-null  object        \n",
      " 27  PROVEEDOR          89299 non-null  object        \n",
      " 28  SERIAL             5287 non-null   object        \n",
      "dtypes: datetime64[ns](2), object(27)\n",
      "memory usage: 20.4+ MB\n"
     ]
    }
   ],
   "source": [
    "pro_woden.drop([\"LLAVE\",\"FECHA_nuevo\",\"SERIALES\"],axis=1,inplace=True)\n",
    "pro_woden.info()"
   ]
  },
  {
   "cell_type": "code",
   "execution_count": 76,
   "id": "adc27869",
   "metadata": {},
   "outputs": [
    {
     "name": "stdout",
     "output_type": "stream",
     "text": [
      "<class 'pandas.core.frame.DataFrame'>\n",
      "Index: 89299 entries, 0 to 89395\n",
      "Data columns (total 28 columns):\n",
      " #   Column             Non-Null Count  Dtype         \n",
      "---  ------             --------------  -----         \n",
      " 0   TIPO BASE          89299 non-null  object        \n",
      " 1   PEDIDO             89299 non-null  object        \n",
      " 2   IDENTIFICADOR_ID   89299 non-null  object        \n",
      " 3   CLIENTE_ID         89299 non-null  object        \n",
      " 4   INTERFAZ           89299 non-null  object        \n",
      " 5   CIUDAD             89299 non-null  object        \n",
      " 6   DEPARTAMENTO       89299 non-null  object        \n",
      " 7   MARCA_ID           89299 non-null  object        \n",
      " 8   REFERENCIA_ID      89299 non-null  object        \n",
      " 9   ID_EQUIPO          89299 non-null  object        \n",
      " 10  SERIAL_EQUIPO      89299 non-null  object        \n",
      " 11  MAC_EQUIPO         89299 non-null  object        \n",
      " 12  PRODUCTO           89299 non-null  object        \n",
      " 13  TECNOLOGÍA         89299 non-null  object        \n",
      " 14  UNIDAD_DE_NEGOCIO  89299 non-null  object        \n",
      " 15  MACRO MOTIVO       89299 non-null  object        \n",
      " 16  FECHA_ENVIO IQE    89299 non-null  datetime64[ns]\n",
      " 17  REGIONAL NUEVA     89299 non-null  object        \n",
      " 18  DEPURACION         89299 non-null  object        \n",
      " 19  FECHA              89299 non-null  object        \n",
      " 20  NombreArchivo      89299 non-null  object        \n",
      " 21  PC                 89299 non-null  object        \n",
      " 22  CC-S               89299 non-null  object        \n",
      " 23  PCS                89299 non-null  object        \n",
      " 24  CRUCE              89299 non-null  object        \n",
      " 25  Fecha de cierre    89299 non-null  datetime64[ns]\n",
      " 26  Tipo de cierre     89299 non-null  object        \n",
      " 27  PROVEEDOR          89299 non-null  object        \n",
      "dtypes: datetime64[ns](2), object(26)\n",
      "memory usage: 19.8+ MB\n"
     ]
    }
   ],
   "source": [
    "pro_woden.drop([\"SERIAL\"],axis=1,inplace=True)\n",
    "pro_woden.info()"
   ]
  },
  {
   "cell_type": "code",
   "execution_count": 77,
   "id": "55194ac3",
   "metadata": {},
   "outputs": [
    {
     "name": "stdout",
     "output_type": "stream",
     "text": [
      "<class 'pandas.core.frame.DataFrame'>\n",
      "Index: 5287 entries, 20 to 89395\n",
      "Data columns (total 28 columns):\n",
      " #   Column             Non-Null Count  Dtype         \n",
      "---  ------             --------------  -----         \n",
      " 0   TIPO BASE          5287 non-null   object        \n",
      " 1   PEDIDO             5287 non-null   object        \n",
      " 2   IDENTIFICADOR_ID   5287 non-null   object        \n",
      " 3   CLIENTE_ID         5287 non-null   object        \n",
      " 4   INTERFAZ           5287 non-null   object        \n",
      " 5   CIUDAD             5287 non-null   object        \n",
      " 6   DEPARTAMENTO       5287 non-null   object        \n",
      " 7   MARCA_ID           5287 non-null   object        \n",
      " 8   REFERENCIA_ID      5287 non-null   object        \n",
      " 9   ID_EQUIPO          5287 non-null   object        \n",
      " 10  SERIAL_EQUIPO      5287 non-null   object        \n",
      " 11  MAC_EQUIPO         5287 non-null   object        \n",
      " 12  PRODUCTO           5287 non-null   object        \n",
      " 13  TECNOLOGÍA         5287 non-null   object        \n",
      " 14  UNIDAD_DE_NEGOCIO  5287 non-null   object        \n",
      " 15  MACRO MOTIVO       5287 non-null   object        \n",
      " 16  FECHA_ENVIO IQE    5287 non-null   datetime64[ns]\n",
      " 17  REGIONAL NUEVA     5287 non-null   object        \n",
      " 18  DEPURACION         5287 non-null   object        \n",
      " 19  FECHA              5287 non-null   object        \n",
      " 20  NombreArchivo      5287 non-null   object        \n",
      " 21  PC                 5287 non-null   object        \n",
      " 22  CC-S               5287 non-null   object        \n",
      " 23  PCS                5287 non-null   object        \n",
      " 24  CRUCE              5287 non-null   object        \n",
      " 25  Fecha de cierre    5287 non-null   datetime64[ns]\n",
      " 26  Tipo de cierre     5287 non-null   object        \n",
      " 27  PROVEEDOR          5287 non-null   object        \n",
      "dtypes: datetime64[ns](2), object(26)\n",
      "memory usage: 1.2+ MB\n"
     ]
    }
   ],
   "source": [
    "nuevo=pro_woden[pro_woden[\"PROVEEDOR\"]!=\"WODEN\"]\n",
    "nuevo.info()"
   ]
  },
  {
   "cell_type": "code",
   "execution_count": 78,
   "id": "1df3dc9c",
   "metadata": {},
   "outputs": [
    {
     "data": {
      "text/plain": [
       "PROVEEDOR\n",
       "Servientrega       10181\n",
       "FIELD              10131\n",
       "INTER               7628\n",
       "SERVIENTREGA        1120\n",
       "INTERRAPIDISIMO      279\n",
       "Name: count, dtype: int64"
      ]
     },
     "execution_count": 78,
     "metadata": {},
     "output_type": "execute_result"
    }
   ],
   "source": [
    "tipificaciones_canal_alterno_nuevo=pd.concat([tipificaciones_canal_alterno,nuevo],ignore_index=True)\n",
    "tipificaciones_canal_alterno_nuevo[\"PROVEEDOR\"].value_counts(dropna=False)"
   ]
  },
  {
   "cell_type": "code",
   "execution_count": 79,
   "id": "e333481b",
   "metadata": {},
   "outputs": [
    {
     "data": {
      "text/plain": [
       "PROVEEDOR\n",
       "SERVIENTREGA       11301\n",
       "FIELD              10131\n",
       "INTERRAPIDISIMO     7907\n",
       "Name: count, dtype: int64"
      ]
     },
     "execution_count": 79,
     "metadata": {},
     "output_type": "execute_result"
    }
   ],
   "source": [
    "dicc={\"Servientrega\":\"SERVIENTREGA\",\n",
    "      \"INTER\":\"INTERRAPIDISIMO\"\n",
    "     }\n",
    "tipificaciones_canal_alterno_nuevo['PROVEEDOR'] = tipificaciones_canal_alterno_nuevo['PROVEEDOR'].map(dicc).fillna(tipificaciones_canal_alterno_nuevo['PROVEEDOR'])\n",
    "tipificaciones_canal_alterno_nuevo[\"PROVEEDOR\"].value_counts(dropna=False)"
   ]
  },
  {
   "cell_type": "code",
   "execution_count": 80,
   "id": "2ac1ff8d",
   "metadata": {},
   "outputs": [
    {
     "name": "stdout",
     "output_type": "stream",
     "text": [
      "<class 'pandas.core.frame.DataFrame'>\n",
      "Index: 84012 entries, 0 to 89394\n",
      "Data columns (total 28 columns):\n",
      " #   Column             Non-Null Count  Dtype         \n",
      "---  ------             --------------  -----         \n",
      " 0   TIPO BASE          84012 non-null  object        \n",
      " 1   PEDIDO             84012 non-null  object        \n",
      " 2   IDENTIFICADOR_ID   84012 non-null  object        \n",
      " 3   CLIENTE_ID         84012 non-null  object        \n",
      " 4   INTERFAZ           84012 non-null  object        \n",
      " 5   CIUDAD             84012 non-null  object        \n",
      " 6   DEPARTAMENTO       84012 non-null  object        \n",
      " 7   MARCA_ID           84012 non-null  object        \n",
      " 8   REFERENCIA_ID      84012 non-null  object        \n",
      " 9   ID_EQUIPO          84012 non-null  object        \n",
      " 10  SERIAL_EQUIPO      84012 non-null  object        \n",
      " 11  MAC_EQUIPO         84012 non-null  object        \n",
      " 12  PRODUCTO           84012 non-null  object        \n",
      " 13  TECNOLOGÍA         84012 non-null  object        \n",
      " 14  UNIDAD_DE_NEGOCIO  84012 non-null  object        \n",
      " 15  MACRO MOTIVO       84012 non-null  object        \n",
      " 16  FECHA_ENVIO IQE    84012 non-null  datetime64[ns]\n",
      " 17  REGIONAL NUEVA     84012 non-null  object        \n",
      " 18  DEPURACION         84012 non-null  object        \n",
      " 19  FECHA              84012 non-null  object        \n",
      " 20  NombreArchivo      84012 non-null  object        \n",
      " 21  PC                 84012 non-null  object        \n",
      " 22  CC-S               84012 non-null  object        \n",
      " 23  PCS                84012 non-null  object        \n",
      " 24  CRUCE              84012 non-null  object        \n",
      " 25  Fecha de cierre    84012 non-null  datetime64[ns]\n",
      " 26  Tipo de cierre     84012 non-null  object        \n",
      " 27  PROVEEDOR          84012 non-null  object        \n",
      "dtypes: datetime64[ns](2), object(26)\n",
      "memory usage: 18.6+ MB\n"
     ]
    }
   ],
   "source": [
    "nuevo_woden=pro_woden[pro_woden[\"PROVEEDOR\"]==\"WODEN\"]\n",
    "nuevo_woden.info()"
   ]
  },
  {
   "cell_type": "code",
   "execution_count": 81,
   "id": "e0e85105",
   "metadata": {},
   "outputs": [
    {
     "name": "stdout",
     "output_type": "stream",
     "text": [
      "<class 'pandas.core.frame.DataFrame'>\n",
      "RangeIndex: 365149 entries, 0 to 365148\n",
      "Data columns (total 28 columns):\n",
      " #   Column             Non-Null Count   Dtype         \n",
      "---  ------             --------------   -----         \n",
      " 0   TIPO BASE          365149 non-null  object        \n",
      " 1   PEDIDO             365149 non-null  object        \n",
      " 2   IDENTIFICADOR_ID   365149 non-null  object        \n",
      " 3   CLIENTE_ID         365149 non-null  object        \n",
      " 4   INTERFAZ           365149 non-null  object        \n",
      " 5   CIUDAD             365149 non-null  object        \n",
      " 6   DEPARTAMENTO       365149 non-null  object        \n",
      " 7   MARCA_ID           365149 non-null  object        \n",
      " 8   REFERENCIA_ID      365149 non-null  object        \n",
      " 9   ID_EQUIPO          365149 non-null  object        \n",
      " 10  SERIAL_EQUIPO      365149 non-null  object        \n",
      " 11  MAC_EQUIPO         365149 non-null  object        \n",
      " 12  PRODUCTO           365149 non-null  object        \n",
      " 13  TECNOLOGÍA         365149 non-null  object        \n",
      " 14  UNIDAD_DE_NEGOCIO  365149 non-null  object        \n",
      " 15  MACRO MOTIVO       365149 non-null  object        \n",
      " 16  FECHA_ENVIO IQE    365149 non-null  datetime64[ns]\n",
      " 17  REGIONAL NUEVA     365149 non-null  object        \n",
      " 18  DEPURACION         365149 non-null  object        \n",
      " 19  FECHA              365149 non-null  object        \n",
      " 20  NombreArchivo      365149 non-null  object        \n",
      " 21  PC                 365149 non-null  object        \n",
      " 22  CC-S               365149 non-null  object        \n",
      " 23  PCS                365149 non-null  object        \n",
      " 24  CRUCE              365149 non-null  object        \n",
      " 25  Fecha de cierre    365149 non-null  datetime64[ns]\n",
      " 26  Tipo de cierre     365149 non-null  object        \n",
      " 27  PROVEEDOR          365149 non-null  object        \n",
      "dtypes: datetime64[ns](2), object(26)\n",
      "memory usage: 78.0+ MB\n"
     ]
    }
   ],
   "source": [
    "bases_enviadas_cruzo_nuevo=pd.concat([tipificaciones_canal_alterno_nuevo,nuevo_woden,filtrado2],ignore_index=True)\n",
    "bases_enviadas_cruzo_nuevo.info()"
   ]
  },
  {
   "cell_type": "code",
   "execution_count": 82,
   "id": "c7be7753",
   "metadata": {},
   "outputs": [
    {
     "data": {
      "text/plain": [
       "PROVEEDOR\n",
       "WODEN              335810\n",
       "SERVIENTREGA        11301\n",
       "FIELD               10131\n",
       "INTERRAPIDISIMO      7907\n",
       "Name: count, dtype: int64"
      ]
     },
     "execution_count": 82,
     "metadata": {},
     "output_type": "execute_result"
    }
   ],
   "source": [
    "bases_enviadas_cruzo_nuevo[\"PROVEEDOR\"].value_counts(dropna=False)"
   ]
  },
  {
   "cell_type": "code",
   "execution_count": 76,
   "id": "f827aac7",
   "metadata": {},
   "outputs": [
    {
     "name": "stdout",
     "output_type": "stream",
     "text": [
      "<class 'pandas.core.frame.DataFrame'>\n",
      "RangeIndex: 3251088 entries, 0 to 3251087\n",
      "Data columns (total 20 columns):\n",
      " #   Column             Dtype \n",
      "---  ------             ----- \n",
      " 0   TIPO BASE          object\n",
      " 1   PEDIDO             object\n",
      " 2   IDENTIFICADOR_ID   object\n",
      " 3   CLIENTE_ID         object\n",
      " 4   INTERFAZ           object\n",
      " 5   CIUDAD             object\n",
      " 6   DEPARTAMENTO       object\n",
      " 7   MARCA              object\n",
      " 8   REFERENCIA         object\n",
      " 9   ID_EQUIPO          object\n",
      " 10  SERIAL_EQUIPO      object\n",
      " 11  MAC_EQUIPO         object\n",
      " 12  PRODUCTO           object\n",
      " 13  TECNOLOGÍA         object\n",
      " 14  UNIDAD_DE_NEGOCIO  object\n",
      " 15  MACRO MOTIVO       object\n",
      " 16  FECHA_ENVIO IQE    object\n",
      " 17  REGIONAL           object\n",
      " 18  MOTIVO             object\n",
      " 19  NombreArchivo      object\n",
      "dtypes: object(20)\n",
      "memory usage: 496.1+ MB\n"
     ]
    }
   ],
   "source": [
    "\n",
    "df7=pd.read_parquet(\"C:/Users/oolea/Documents/01. Codigos PY/E2E- B2B/001. INFO OFICIAL ACTUALIZADA JUNIO/DATA E2E/DEPURACIONES - HISTORICO (E2E).parquet\")\n",
    "df7.info()"
   ]
  },
  {
   "cell_type": "code",
   "execution_count": 77,
   "id": "a889dc14",
   "metadata": {},
   "outputs": [],
   "source": [
    "df7['PC'] = df7['PEDIDO']+ df7['CLIENTE_ID']\n",
    "df7['PCS'] = df7['PEDIDO']+ df7['CLIENTE_ID']+df7[\"SERIAL_EQUIPO\"]\n",
    "df7['CC-S'] = df7['CLIENTE_ID']+df7[\"SERIAL_EQUIPO\"]\n",
    "\n",
    "\n",
    "df7[\"PC\"]=df7[\"PC\"].str.upper()\n",
    "df7[\"PCS\"]=df7[\"PCS\"].str.upper()\n",
    "df7[\"CC-S\"]=df7[\"CC-S\"].str.upper()\n",
    "\n",
    "depuraciones=df7.copy()"
   ]
  },
  {
   "cell_type": "markdown",
   "id": "cbc89155",
   "metadata": {},
   "source": [
    "# Cruce no cruzo vs depuraciones"
   ]
  },
  {
   "cell_type": "code",
   "execution_count": 81,
   "id": "064507cc",
   "metadata": {},
   "outputs": [
    {
     "name": "stdout",
     "output_type": "stream",
     "text": [
      "CRUCE\n",
      "NO CRUZO    16067\n",
      "CRUZO        1031\n",
      "Name: count, dtype: int64\n"
     ]
    }
   ],
   "source": [
    "#creamos una columa llamada cruce con el valor fijo de NO CRUZO\n",
    "concatenado_nocruzo[\"CRUCE\"]=\"NO CRUZO\"\n",
    "concatenado_nocruzo.loc[concatenado_nocruzo[\"PCS\"].isin(depuraciones[\"PCS\"]), \"CRUCE\" ] = \"CRUZO\"\n",
    "print(concatenado_nocruzo[\"CRUCE\"].value_counts())"
   ]
  },
  {
   "cell_type": "code",
   "execution_count": 84,
   "id": "61e3214f",
   "metadata": {},
   "outputs": [
    {
     "name": "stdout",
     "output_type": "stream",
     "text": [
      "<class 'pandas.core.frame.DataFrame'>\n",
      "Index: 16067 entries, 0 to 17097\n",
      "Data columns (total 27 columns):\n",
      " #   Column             Non-Null Count  Dtype         \n",
      "---  ------             --------------  -----         \n",
      " 0   TIPO BASE          16067 non-null  object        \n",
      " 1   PEDIDO             16067 non-null  object        \n",
      " 2   IDENTIFICADOR_ID   16067 non-null  object        \n",
      " 3   CLIENTE_ID         16067 non-null  object        \n",
      " 4   INTERFAZ           16067 non-null  object        \n",
      " 5   CIUDAD             16067 non-null  object        \n",
      " 6   DEPARTAMENTO       16067 non-null  object        \n",
      " 7   MARCA_ID           16067 non-null  object        \n",
      " 8   REFERENCIA_ID      16067 non-null  object        \n",
      " 9   ID_EQUIPO          16067 non-null  object        \n",
      " 10  SERIAL_EQUIPO      16067 non-null  object        \n",
      " 11  MAC_EQUIPO         16067 non-null  object        \n",
      " 12  PRODUCTO           16067 non-null  object        \n",
      " 13  TECNOLOGÍA         16067 non-null  object        \n",
      " 14  UNIDAD_DE_NEGOCIO  16067 non-null  object        \n",
      " 15  MACRO MOTIVO       16067 non-null  object        \n",
      " 16  FECHA_ENVIO IQE    16067 non-null  datetime64[ns]\n",
      " 17  REGIONAL NUEVA     16067 non-null  object        \n",
      " 18  DEPURACION         16067 non-null  object        \n",
      " 19  FECHA              16067 non-null  object        \n",
      " 20  NombreArchivo      16067 non-null  object        \n",
      " 21  PC                 16067 non-null  object        \n",
      " 22  CC-S               16067 non-null  object        \n",
      " 23  PCS                16067 non-null  object        \n",
      " 24  CRUCE              16067 non-null  object        \n",
      " 25  Fecha de cierre    0 non-null      datetime64[ns]\n",
      " 26  Tipo de cierre     0 non-null      object        \n",
      "dtypes: datetime64[ns](2), object(25)\n",
      "memory usage: 3.4+ MB\n"
     ]
    }
   ],
   "source": [
    "concatenado_nocruzo_pcs=concatenado_nocruzo.loc[concatenado_nocruzo[\"CRUCE\"]==\"NO CRUZO\"]\n",
    "concatenado_nocruzo_pcs.info()"
   ]
  },
  {
   "cell_type": "code",
   "execution_count": 86,
   "id": "ceb97381",
   "metadata": {},
   "outputs": [
    {
     "data": {
      "text/plain": [
       "(1031, 27)"
      ]
     },
     "execution_count": 86,
     "metadata": {},
     "output_type": "execute_result"
    }
   ],
   "source": [
    "CRUZO_pcs=concatenado_nocruzo[concatenado_nocruzo[\"CRUCE\"]==\"CRUZO\"]\n",
    "CRUZO_pcs.shape"
   ]
  },
  {
   "cell_type": "code",
   "execution_count": 87,
   "id": "cb971435",
   "metadata": {},
   "outputs": [
    {
     "name": "stdout",
     "output_type": "stream",
     "text": [
      "<class 'pandas.core.frame.DataFrame'>\n",
      "RangeIndex: 1031 entries, 0 to 1030\n",
      "Data columns (total 28 columns):\n",
      " #   Column             Non-Null Count  Dtype         \n",
      "---  ------             --------------  -----         \n",
      " 0   TIPO BASE          1031 non-null   object        \n",
      " 1   PEDIDO             1031 non-null   object        \n",
      " 2   IDENTIFICADOR_ID   1031 non-null   object        \n",
      " 3   CLIENTE_ID         1031 non-null   object        \n",
      " 4   INTERFAZ           1031 non-null   object        \n",
      " 5   CIUDAD             1031 non-null   object        \n",
      " 6   DEPARTAMENTO       1031 non-null   object        \n",
      " 7   MARCA_ID           1031 non-null   object        \n",
      " 8   REFERENCIA_ID      1031 non-null   object        \n",
      " 9   ID_EQUIPO          1031 non-null   object        \n",
      " 10  SERIAL_EQUIPO      1031 non-null   object        \n",
      " 11  MAC_EQUIPO         1031 non-null   object        \n",
      " 12  PRODUCTO           1031 non-null   object        \n",
      " 13  TECNOLOGÍA         1031 non-null   object        \n",
      " 14  UNIDAD_DE_NEGOCIO  1031 non-null   object        \n",
      " 15  MACRO MOTIVO       1031 non-null   object        \n",
      " 16  FECHA_ENVIO IQE    1031 non-null   datetime64[ns]\n",
      " 17  REGIONAL NUEVA     1031 non-null   object        \n",
      " 18  DEPURACION         1031 non-null   object        \n",
      " 19  FECHA              1031 non-null   object        \n",
      " 20  NombreArchivo      1031 non-null   object        \n",
      " 21  PC                 1031 non-null   object        \n",
      " 22  CC-S               1031 non-null   object        \n",
      " 23  PCS                1031 non-null   object        \n",
      " 24  CRUCE              1031 non-null   object        \n",
      " 25  Fecha de cierre    0 non-null      datetime64[ns]\n",
      " 26  Tipo de cierre     0 non-null      object        \n",
      " 27  MOTIVO             1031 non-null   object        \n",
      "dtypes: datetime64[ns](2), object(26)\n",
      "memory usage: 225.7+ KB\n",
      "None\n"
     ]
    }
   ],
   "source": [
    "CRUZO= pd.merge(CRUZO_pcs,\n",
    "                     depuraciones[[\"PCS\",\"MOTIVO\"]],\n",
    "                     left_on=\"PCS\",right_on=\"PCS\",how=\"inner\")\n",
    "CRUZO=CRUZO.drop_duplicates(subset=\"CC-S\")\n",
    "CRUZO.reset_index(drop=True,inplace=True)\n",
    "print(CRUZO.info())"
   ]
  },
  {
   "cell_type": "code",
   "execution_count": 88,
   "id": "454eea7d",
   "metadata": {},
   "outputs": [
    {
     "data": {
      "text/plain": [
       "MOTIVO\n",
       "BASES ANTERIORES           608\n",
       "TELEFONIA CON EQUIPO       152\n",
       "INFORMACIÓN INCOMPLETA     150\n",
       "FIELD                       51\n",
       "WFSM                        44\n",
       "OBSOLETOS                    9\n",
       "TELEFONIA SIN EQUIPO         8\n",
       "CANALES ALTERNOS             2\n",
       "DESCARTES                    2\n",
       "INTER-SERVI                  2\n",
       "INTER                        1\n",
       "SIN EQUIPO                   1\n",
       "2. TELEFONIA CON EQUIPO      1\n",
       "Name: count, dtype: int64"
      ]
     },
     "execution_count": 88,
     "metadata": {},
     "output_type": "execute_result"
    }
   ],
   "source": [
    "CRUZO[\"MOTIVO\"].value_counts()"
   ]
  },
  {
   "cell_type": "code",
   "execution_count": 89,
   "id": "8862e5f1",
   "metadata": {},
   "outputs": [
    {
     "name": "stdout",
     "output_type": "stream",
     "text": [
      "<class 'pandas.core.frame.DataFrame'>\n",
      "RangeIndex: 1031 entries, 0 to 1030\n",
      "Data columns (total 28 columns):\n",
      " #   Column             Non-Null Count  Dtype         \n",
      "---  ------             --------------  -----         \n",
      " 0   TIPO BASE          1031 non-null   object        \n",
      " 1   PEDIDO             1031 non-null   object        \n",
      " 2   IDENTIFICADOR_ID   1031 non-null   object        \n",
      " 3   CLIENTE_ID         1031 non-null   object        \n",
      " 4   INTERFAZ           1031 non-null   object        \n",
      " 5   CIUDAD             1031 non-null   object        \n",
      " 6   DEPARTAMENTO       1031 non-null   object        \n",
      " 7   MARCA_ID           1031 non-null   object        \n",
      " 8   REFERENCIA_ID      1031 non-null   object        \n",
      " 9   ID_EQUIPO          1031 non-null   object        \n",
      " 10  SERIAL_EQUIPO      1031 non-null   object        \n",
      " 11  MAC_EQUIPO         1031 non-null   object        \n",
      " 12  PRODUCTO           1031 non-null   object        \n",
      " 13  TECNOLOGÍA         1031 non-null   object        \n",
      " 14  UNIDAD_DE_NEGOCIO  1031 non-null   object        \n",
      " 15  MACRO MOTIVO       1031 non-null   object        \n",
      " 16  FECHA_ENVIO IQE    1031 non-null   datetime64[ns]\n",
      " 17  REGIONAL NUEVA     1031 non-null   object        \n",
      " 18  DEPURACION         1031 non-null   object        \n",
      " 19  FECHA              1031 non-null   object        \n",
      " 20  NombreArchivo      1031 non-null   object        \n",
      " 21  PC                 1031 non-null   object        \n",
      " 22  CC-S               1031 non-null   object        \n",
      " 23  PCS                1031 non-null   object        \n",
      " 24  CRUCE              1031 non-null   object        \n",
      " 25  Fecha de cierre    0 non-null      datetime64[ns]\n",
      " 26  Tipo de cierre     1031 non-null   object        \n",
      " 27  MOTIVO             1031 non-null   object        \n",
      "dtypes: datetime64[ns](2), object(26)\n",
      "memory usage: 225.7+ KB\n"
     ]
    }
   ],
   "source": [
    "CRUZO[\"Tipo de cierre\"]=CRUZO[\"MOTIVO\"].copy()\n",
    "CRUZO.info()"
   ]
  },
  {
   "cell_type": "code",
   "execution_count": 90,
   "id": "a805fa7a",
   "metadata": {},
   "outputs": [],
   "source": [
    "CRUZO[\"PROVEEDOR\"]=\"DESCARTADO\""
   ]
  },
  {
   "cell_type": "code",
   "execution_count": 92,
   "id": "15dc2423",
   "metadata": {},
   "outputs": [
    {
     "name": "stdout",
     "output_type": "stream",
     "text": [
      "<class 'pandas.core.frame.DataFrame'>\n",
      "RangeIndex: 1031 entries, 0 to 1030\n",
      "Data columns (total 28 columns):\n",
      " #   Column             Non-Null Count  Dtype         \n",
      "---  ------             --------------  -----         \n",
      " 0   TIPO BASE          1031 non-null   object        \n",
      " 1   PEDIDO             1031 non-null   object        \n",
      " 2   IDENTIFICADOR_ID   1031 non-null   object        \n",
      " 3   CLIENTE_ID         1031 non-null   object        \n",
      " 4   INTERFAZ           1031 non-null   object        \n",
      " 5   CIUDAD             1031 non-null   object        \n",
      " 6   DEPARTAMENTO       1031 non-null   object        \n",
      " 7   MARCA_ID           1031 non-null   object        \n",
      " 8   REFERENCIA_ID      1031 non-null   object        \n",
      " 9   ID_EQUIPO          1031 non-null   object        \n",
      " 10  SERIAL_EQUIPO      1031 non-null   object        \n",
      " 11  MAC_EQUIPO         1031 non-null   object        \n",
      " 12  PRODUCTO           1031 non-null   object        \n",
      " 13  TECNOLOGÍA         1031 non-null   object        \n",
      " 14  UNIDAD_DE_NEGOCIO  1031 non-null   object        \n",
      " 15  MACRO MOTIVO       1031 non-null   object        \n",
      " 16  FECHA_ENVIO IQE    1031 non-null   datetime64[ns]\n",
      " 17  REGIONAL NUEVA     1031 non-null   object        \n",
      " 18  DEPURACION         1031 non-null   object        \n",
      " 19  FECHA              1031 non-null   object        \n",
      " 20  NombreArchivo      1031 non-null   object        \n",
      " 21  PC                 1031 non-null   object        \n",
      " 22  CC-S               1031 non-null   object        \n",
      " 23  PCS                1031 non-null   object        \n",
      " 24  CRUCE              1031 non-null   object        \n",
      " 25  Fecha de cierre    0 non-null      datetime64[ns]\n",
      " 26  Tipo de cierre     1031 non-null   object        \n",
      " 27  PROVEEDOR          1031 non-null   object        \n",
      "dtypes: datetime64[ns](2), object(26)\n",
      "memory usage: 225.7+ KB\n"
     ]
    }
   ],
   "source": [
    "CRUZO.drop([\"MOTIVO\"],axis=1,inplace= True)\n",
    "CRUZO.info()"
   ]
  },
  {
   "cell_type": "code",
   "execution_count": 93,
   "id": "29278526",
   "metadata": {},
   "outputs": [
    {
     "name": "stdout",
     "output_type": "stream",
     "text": [
      "CRUCE\n",
      "NO CRUZO    15166\n",
      "CRUZO         901\n",
      "Name: count, dtype: int64\n"
     ]
    }
   ],
   "source": [
    "#creamos una columa llamada cruce con el valor fijo de NO CRUZO\n",
    "concatenado_nocruzo_pcs[\"CRUCE\"]=\"NO CRUZO\"\n",
    "concatenado_nocruzo_pcs.loc[concatenado_nocruzo_pcs[\"CC-S\"].isin(depuraciones[\"CC-S\"]), \"CRUCE\" ] = \"CRUZO\"\n",
    "print(concatenado_nocruzo_pcs[\"CRUCE\"].value_counts())"
   ]
  },
  {
   "cell_type": "code",
   "execution_count": 94,
   "id": "7b1e33b1",
   "metadata": {},
   "outputs": [
    {
     "name": "stdout",
     "output_type": "stream",
     "text": [
      "<class 'pandas.core.frame.DataFrame'>\n",
      "Index: 15166 entries, 0 to 17097\n",
      "Data columns (total 27 columns):\n",
      " #   Column             Non-Null Count  Dtype         \n",
      "---  ------             --------------  -----         \n",
      " 0   TIPO BASE          15166 non-null  object        \n",
      " 1   PEDIDO             15166 non-null  object        \n",
      " 2   IDENTIFICADOR_ID   15166 non-null  object        \n",
      " 3   CLIENTE_ID         15166 non-null  object        \n",
      " 4   INTERFAZ           15166 non-null  object        \n",
      " 5   CIUDAD             15166 non-null  object        \n",
      " 6   DEPARTAMENTO       15166 non-null  object        \n",
      " 7   MARCA_ID           15166 non-null  object        \n",
      " 8   REFERENCIA_ID      15166 non-null  object        \n",
      " 9   ID_EQUIPO          15166 non-null  object        \n",
      " 10  SERIAL_EQUIPO      15166 non-null  object        \n",
      " 11  MAC_EQUIPO         15166 non-null  object        \n",
      " 12  PRODUCTO           15166 non-null  object        \n",
      " 13  TECNOLOGÍA         15166 non-null  object        \n",
      " 14  UNIDAD_DE_NEGOCIO  15166 non-null  object        \n",
      " 15  MACRO MOTIVO       15166 non-null  object        \n",
      " 16  FECHA_ENVIO IQE    15166 non-null  datetime64[ns]\n",
      " 17  REGIONAL NUEVA     15166 non-null  object        \n",
      " 18  DEPURACION         15166 non-null  object        \n",
      " 19  FECHA              15166 non-null  object        \n",
      " 20  NombreArchivo      15166 non-null  object        \n",
      " 21  PC                 15166 non-null  object        \n",
      " 22  CC-S               15166 non-null  object        \n",
      " 23  PCS                15166 non-null  object        \n",
      " 24  CRUCE              15166 non-null  object        \n",
      " 25  Fecha de cierre    0 non-null      datetime64[ns]\n",
      " 26  Tipo de cierre     0 non-null      object        \n",
      "dtypes: datetime64[ns](2), object(25)\n",
      "memory usage: 3.2+ MB\n"
     ]
    }
   ],
   "source": [
    "no_cruzo_ccs=concatenado_nocruzo_pcs.loc[concatenado_nocruzo_pcs[\"CRUCE\"]==\"NO CRUZO\"]\n",
    "no_cruzo_ccs.info()"
   ]
  },
  {
   "cell_type": "code",
   "execution_count": 95,
   "id": "d8f37371",
   "metadata": {},
   "outputs": [
    {
     "data": {
      "text/plain": [
       "(901, 27)"
      ]
     },
     "execution_count": 95,
     "metadata": {},
     "output_type": "execute_result"
    }
   ],
   "source": [
    "CRUZO_ccs=concatenado_nocruzo_pcs[concatenado_nocruzo_pcs[\"CRUCE\"]==\"CRUZO\"]\n",
    "CRUZO_ccs.shape"
   ]
  },
  {
   "cell_type": "code",
   "execution_count": 96,
   "id": "23bfce66",
   "metadata": {},
   "outputs": [
    {
     "name": "stdout",
     "output_type": "stream",
     "text": [
      "<class 'pandas.core.frame.DataFrame'>\n",
      "RangeIndex: 901 entries, 0 to 900\n",
      "Data columns (total 28 columns):\n",
      " #   Column             Non-Null Count  Dtype         \n",
      "---  ------             --------------  -----         \n",
      " 0   TIPO BASE          901 non-null    object        \n",
      " 1   PEDIDO             901 non-null    object        \n",
      " 2   IDENTIFICADOR_ID   901 non-null    object        \n",
      " 3   CLIENTE_ID         901 non-null    object        \n",
      " 4   INTERFAZ           901 non-null    object        \n",
      " 5   CIUDAD             901 non-null    object        \n",
      " 6   DEPARTAMENTO       901 non-null    object        \n",
      " 7   MARCA_ID           901 non-null    object        \n",
      " 8   REFERENCIA_ID      901 non-null    object        \n",
      " 9   ID_EQUIPO          901 non-null    object        \n",
      " 10  SERIAL_EQUIPO      901 non-null    object        \n",
      " 11  MAC_EQUIPO         901 non-null    object        \n",
      " 12  PRODUCTO           901 non-null    object        \n",
      " 13  TECNOLOGÍA         901 non-null    object        \n",
      " 14  UNIDAD_DE_NEGOCIO  901 non-null    object        \n",
      " 15  MACRO MOTIVO       901 non-null    object        \n",
      " 16  FECHA_ENVIO IQE    901 non-null    datetime64[ns]\n",
      " 17  REGIONAL NUEVA     901 non-null    object        \n",
      " 18  DEPURACION         901 non-null    object        \n",
      " 19  FECHA              901 non-null    object        \n",
      " 20  NombreArchivo      901 non-null    object        \n",
      " 21  PC                 901 non-null    object        \n",
      " 22  CC-S               901 non-null    object        \n",
      " 23  PCS                901 non-null    object        \n",
      " 24  CRUCE              901 non-null    object        \n",
      " 25  Fecha de cierre    0 non-null      datetime64[ns]\n",
      " 26  Tipo de cierre     901 non-null    object        \n",
      " 27  MOTIVO             901 non-null    object        \n",
      "dtypes: datetime64[ns](2), object(26)\n",
      "memory usage: 197.2+ KB\n",
      "None\n"
     ]
    }
   ],
   "source": [
    "CRUZO2= pd.merge(CRUZO_ccs,\n",
    "                     depuraciones[[\"CC-S\",\"MOTIVO\"]],\n",
    "                     left_on=\"CC-S\",right_on=\"CC-S\",how=\"inner\")\n",
    "CRUZO2=CRUZO2.drop_duplicates(subset=\"CC-S\")\n",
    "CRUZO2[\"Tipo de cierre\"]=CRUZO2[\"MOTIVO\"].copy()\n",
    "CRUZO2.reset_index(drop=True,inplace=True)\n",
    "print(CRUZO2.info())"
   ]
  },
  {
   "cell_type": "code",
   "execution_count": 97,
   "id": "0a2b7d77",
   "metadata": {},
   "outputs": [],
   "source": [
    "CRUZO2[\"PROVEEDOR\"]=\"DESCARTADO\""
   ]
  },
  {
   "cell_type": "code",
   "execution_count": 98,
   "id": "97751874",
   "metadata": {},
   "outputs": [
    {
     "name": "stdout",
     "output_type": "stream",
     "text": [
      "<class 'pandas.core.frame.DataFrame'>\n",
      "RangeIndex: 901 entries, 0 to 900\n",
      "Data columns (total 28 columns):\n",
      " #   Column             Non-Null Count  Dtype         \n",
      "---  ------             --------------  -----         \n",
      " 0   TIPO BASE          901 non-null    object        \n",
      " 1   PEDIDO             901 non-null    object        \n",
      " 2   IDENTIFICADOR_ID   901 non-null    object        \n",
      " 3   CLIENTE_ID         901 non-null    object        \n",
      " 4   INTERFAZ           901 non-null    object        \n",
      " 5   CIUDAD             901 non-null    object        \n",
      " 6   DEPARTAMENTO       901 non-null    object        \n",
      " 7   MARCA_ID           901 non-null    object        \n",
      " 8   REFERENCIA_ID      901 non-null    object        \n",
      " 9   ID_EQUIPO          901 non-null    object        \n",
      " 10  SERIAL_EQUIPO      901 non-null    object        \n",
      " 11  MAC_EQUIPO         901 non-null    object        \n",
      " 12  PRODUCTO           901 non-null    object        \n",
      " 13  TECNOLOGÍA         901 non-null    object        \n",
      " 14  UNIDAD_DE_NEGOCIO  901 non-null    object        \n",
      " 15  MACRO MOTIVO       901 non-null    object        \n",
      " 16  FECHA_ENVIO IQE    901 non-null    datetime64[ns]\n",
      " 17  REGIONAL NUEVA     901 non-null    object        \n",
      " 18  DEPURACION         901 non-null    object        \n",
      " 19  FECHA              901 non-null    object        \n",
      " 20  NombreArchivo      901 non-null    object        \n",
      " 21  PC                 901 non-null    object        \n",
      " 22  CC-S               901 non-null    object        \n",
      " 23  PCS                901 non-null    object        \n",
      " 24  CRUCE              901 non-null    object        \n",
      " 25  Fecha de cierre    0 non-null      datetime64[ns]\n",
      " 26  Tipo de cierre     901 non-null    object        \n",
      " 27  PROVEEDOR          901 non-null    object        \n",
      "dtypes: datetime64[ns](2), object(26)\n",
      "memory usage: 197.2+ KB\n"
     ]
    }
   ],
   "source": [
    "CRUZO2.drop([\"MOTIVO\"],axis=1,inplace=True)\n",
    "CRUZO2.info()"
   ]
  },
  {
   "cell_type": "code",
   "execution_count": 99,
   "id": "2aefacfe",
   "metadata": {},
   "outputs": [
    {
     "name": "stdout",
     "output_type": "stream",
     "text": [
      "CRUCE\n",
      "NO CRUZO    12100\n",
      "CRUZO        3066\n",
      "Name: count, dtype: int64\n"
     ]
    }
   ],
   "source": [
    "#creamos una columa llamada cruce con el valor fijo de NO CRUZO\n",
    "no_cruzo_ccs[\"CRUCE\"]=\"NO CRUZO\"\n",
    "no_cruzo_ccs.loc[no_cruzo_ccs[\"PC\"].isin(depuraciones[\"PC\"]), \"CRUCE\" ] = \"CRUZO\"\n",
    "print(no_cruzo_ccs[\"CRUCE\"].value_counts())"
   ]
  },
  {
   "cell_type": "code",
   "execution_count": 100,
   "id": "788b3553",
   "metadata": {},
   "outputs": [
    {
     "data": {
      "text/plain": [
       "(3066, 27)"
      ]
     },
     "execution_count": 100,
     "metadata": {},
     "output_type": "execute_result"
    }
   ],
   "source": [
    "CRUZO_pc=no_cruzo_ccs[no_cruzo_ccs[\"CRUCE\"]==\"CRUZO\"]\n",
    "CRUZO_pc.shape"
   ]
  },
  {
   "cell_type": "code",
   "execution_count": 101,
   "id": "eb6bd0e1",
   "metadata": {},
   "outputs": [
    {
     "name": "stdout",
     "output_type": "stream",
     "text": [
      "<class 'pandas.core.frame.DataFrame'>\n",
      "RangeIndex: 3066 entries, 0 to 3065\n",
      "Data columns (total 29 columns):\n",
      " #   Column             Non-Null Count  Dtype         \n",
      "---  ------             --------------  -----         \n",
      " 0   TIPO BASE          3066 non-null   object        \n",
      " 1   PEDIDO             3066 non-null   object        \n",
      " 2   IDENTIFICADOR_ID   3066 non-null   object        \n",
      " 3   CLIENTE_ID         3066 non-null   object        \n",
      " 4   INTERFAZ           3066 non-null   object        \n",
      " 5   CIUDAD             3066 non-null   object        \n",
      " 6   DEPARTAMENTO       3066 non-null   object        \n",
      " 7   MARCA_ID           3066 non-null   object        \n",
      " 8   REFERENCIA_ID      3066 non-null   object        \n",
      " 9   ID_EQUIPO          3066 non-null   object        \n",
      " 10  SERIAL_EQUIPO      3066 non-null   object        \n",
      " 11  MAC_EQUIPO         3066 non-null   object        \n",
      " 12  PRODUCTO           3066 non-null   object        \n",
      " 13  TECNOLOGÍA         3066 non-null   object        \n",
      " 14  UNIDAD_DE_NEGOCIO  3066 non-null   object        \n",
      " 15  MACRO MOTIVO       3066 non-null   object        \n",
      " 16  FECHA_ENVIO IQE    3066 non-null   datetime64[ns]\n",
      " 17  REGIONAL NUEVA     3066 non-null   object        \n",
      " 18  DEPURACION         3066 non-null   object        \n",
      " 19  FECHA              3066 non-null   object        \n",
      " 20  NombreArchivo      3066 non-null   object        \n",
      " 21  PC                 3066 non-null   object        \n",
      " 22  CC-S               3066 non-null   object        \n",
      " 23  PCS                3066 non-null   object        \n",
      " 24  CRUCE              3066 non-null   object        \n",
      " 25  Fecha de cierre    0 non-null      datetime64[ns]\n",
      " 26  Tipo de cierre     3066 non-null   object        \n",
      " 27  MOTIVO             3066 non-null   object        \n",
      " 28  PROVEEDOR          3066 non-null   object        \n",
      "dtypes: datetime64[ns](2), object(27)\n",
      "memory usage: 694.8+ KB\n",
      "None\n"
     ]
    }
   ],
   "source": [
    "CRUZO3= pd.merge(CRUZO_pc,\n",
    "                     depuraciones[[\"PC\",\"MOTIVO\"]],\n",
    "                     left_on=\"PC\",right_on=\"PC\",how=\"inner\")\n",
    "CRUZO3=CRUZO3.drop_duplicates(subset=\"CC-S\")\n",
    "CRUZO3[\"Tipo de cierre\"]=CRUZO3[\"MOTIVO\"].copy()\n",
    "CRUZO3[\"PROVEEDOR\"]=\"DESCARTADO\"\n",
    "CRUZO3.reset_index(drop=True,inplace=True)\n",
    "print(CRUZO3.info())"
   ]
  },
  {
   "cell_type": "code",
   "execution_count": 102,
   "id": "cbe46783",
   "metadata": {},
   "outputs": [
    {
     "name": "stdout",
     "output_type": "stream",
     "text": [
      "<class 'pandas.core.frame.DataFrame'>\n",
      "RangeIndex: 3066 entries, 0 to 3065\n",
      "Data columns (total 28 columns):\n",
      " #   Column             Non-Null Count  Dtype         \n",
      "---  ------             --------------  -----         \n",
      " 0   TIPO BASE          3066 non-null   object        \n",
      " 1   PEDIDO             3066 non-null   object        \n",
      " 2   IDENTIFICADOR_ID   3066 non-null   object        \n",
      " 3   CLIENTE_ID         3066 non-null   object        \n",
      " 4   INTERFAZ           3066 non-null   object        \n",
      " 5   CIUDAD             3066 non-null   object        \n",
      " 6   DEPARTAMENTO       3066 non-null   object        \n",
      " 7   MARCA_ID           3066 non-null   object        \n",
      " 8   REFERENCIA_ID      3066 non-null   object        \n",
      " 9   ID_EQUIPO          3066 non-null   object        \n",
      " 10  SERIAL_EQUIPO      3066 non-null   object        \n",
      " 11  MAC_EQUIPO         3066 non-null   object        \n",
      " 12  PRODUCTO           3066 non-null   object        \n",
      " 13  TECNOLOGÍA         3066 non-null   object        \n",
      " 14  UNIDAD_DE_NEGOCIO  3066 non-null   object        \n",
      " 15  MACRO MOTIVO       3066 non-null   object        \n",
      " 16  FECHA_ENVIO IQE    3066 non-null   datetime64[ns]\n",
      " 17  REGIONAL NUEVA     3066 non-null   object        \n",
      " 18  DEPURACION         3066 non-null   object        \n",
      " 19  FECHA              3066 non-null   object        \n",
      " 20  NombreArchivo      3066 non-null   object        \n",
      " 21  PC                 3066 non-null   object        \n",
      " 22  CC-S               3066 non-null   object        \n",
      " 23  PCS                3066 non-null   object        \n",
      " 24  CRUCE              3066 non-null   object        \n",
      " 25  Fecha de cierre    0 non-null      datetime64[ns]\n",
      " 26  Tipo de cierre     3066 non-null   object        \n",
      " 27  PROVEEDOR          3066 non-null   object        \n",
      "dtypes: datetime64[ns](2), object(26)\n",
      "memory usage: 670.8+ KB\n"
     ]
    }
   ],
   "source": [
    "CRUZO3.drop([\"MOTIVO\"],axis=1,inplace=True)\n",
    "CRUZO3.info()"
   ]
  },
  {
   "cell_type": "code",
   "execution_count": 105,
   "id": "35b2b3a6",
   "metadata": {},
   "outputs": [
    {
     "name": "stdout",
     "output_type": "stream",
     "text": [
      "<class 'pandas.core.frame.DataFrame'>\n",
      "Index: 15166 entries, 0 to 17097\n",
      "Data columns (total 27 columns):\n",
      " #   Column             Non-Null Count  Dtype         \n",
      "---  ------             --------------  -----         \n",
      " 0   TIPO BASE          15166 non-null  object        \n",
      " 1   PEDIDO             15166 non-null  object        \n",
      " 2   IDENTIFICADOR_ID   15166 non-null  object        \n",
      " 3   CLIENTE_ID         15166 non-null  object        \n",
      " 4   INTERFAZ           15166 non-null  object        \n",
      " 5   CIUDAD             15166 non-null  object        \n",
      " 6   DEPARTAMENTO       15166 non-null  object        \n",
      " 7   MARCA_ID           15166 non-null  object        \n",
      " 8   REFERENCIA_ID      15166 non-null  object        \n",
      " 9   ID_EQUIPO          15166 non-null  object        \n",
      " 10  SERIAL_EQUIPO      15166 non-null  object        \n",
      " 11  MAC_EQUIPO         15166 non-null  object        \n",
      " 12  PRODUCTO           15166 non-null  object        \n",
      " 13  TECNOLOGÍA         15166 non-null  object        \n",
      " 14  UNIDAD_DE_NEGOCIO  15166 non-null  object        \n",
      " 15  MACRO MOTIVO       15166 non-null  object        \n",
      " 16  FECHA_ENVIO IQE    15166 non-null  datetime64[ns]\n",
      " 17  REGIONAL NUEVA     15166 non-null  object        \n",
      " 18  DEPURACION         15166 non-null  object        \n",
      " 19  FECHA              15166 non-null  object        \n",
      " 20  NombreArchivo      15166 non-null  object        \n",
      " 21  PC                 15166 non-null  object        \n",
      " 22  CC-S               15166 non-null  object        \n",
      " 23  PCS                15166 non-null  object        \n",
      " 24  CRUCE              15166 non-null  object        \n",
      " 25  Fecha de cierre    0 non-null      datetime64[ns]\n",
      " 26  Tipo de cierre     0 non-null      object        \n",
      "dtypes: datetime64[ns](2), object(25)\n",
      "memory usage: 3.2+ MB\n"
     ]
    }
   ],
   "source": [
    "no_cruzo_ccs.info()"
   ]
  },
  {
   "cell_type": "code",
   "execution_count": 106,
   "id": "8f4d6834",
   "metadata": {},
   "outputs": [
    {
     "name": "stdout",
     "output_type": "stream",
     "text": [
      "<class 'pandas.core.frame.DataFrame'>\n",
      "Index: 12100 entries, 8 to 17097\n",
      "Data columns (total 27 columns):\n",
      " #   Column             Non-Null Count  Dtype         \n",
      "---  ------             --------------  -----         \n",
      " 0   TIPO BASE          12100 non-null  object        \n",
      " 1   PEDIDO             12100 non-null  object        \n",
      " 2   IDENTIFICADOR_ID   12100 non-null  object        \n",
      " 3   CLIENTE_ID         12100 non-null  object        \n",
      " 4   INTERFAZ           12100 non-null  object        \n",
      " 5   CIUDAD             12100 non-null  object        \n",
      " 6   DEPARTAMENTO       12100 non-null  object        \n",
      " 7   MARCA_ID           12100 non-null  object        \n",
      " 8   REFERENCIA_ID      12100 non-null  object        \n",
      " 9   ID_EQUIPO          12100 non-null  object        \n",
      " 10  SERIAL_EQUIPO      12100 non-null  object        \n",
      " 11  MAC_EQUIPO         12100 non-null  object        \n",
      " 12  PRODUCTO           12100 non-null  object        \n",
      " 13  TECNOLOGÍA         12100 non-null  object        \n",
      " 14  UNIDAD_DE_NEGOCIO  12100 non-null  object        \n",
      " 15  MACRO MOTIVO       12100 non-null  object        \n",
      " 16  FECHA_ENVIO IQE    12100 non-null  datetime64[ns]\n",
      " 17  REGIONAL NUEVA     12100 non-null  object        \n",
      " 18  DEPURACION         12100 non-null  object        \n",
      " 19  FECHA              12100 non-null  object        \n",
      " 20  NombreArchivo      12100 non-null  object        \n",
      " 21  PC                 12100 non-null  object        \n",
      " 22  CC-S               12100 non-null  object        \n",
      " 23  PCS                12100 non-null  object        \n",
      " 24  CRUCE              12100 non-null  object        \n",
      " 25  Fecha de cierre    0 non-null      datetime64[ns]\n",
      " 26  Tipo de cierre     0 non-null      object        \n",
      "dtypes: datetime64[ns](2), object(25)\n",
      "memory usage: 2.6+ MB\n"
     ]
    }
   ],
   "source": [
    "no_cruzo_FINAL=no_cruzo_ccs[no_cruzo_ccs[\"CRUCE\"]==\"NO CRUZO\"]\n",
    "#no_cruzo_FINAL.drop([\"PROVEEDOR\"],axis=1,inplace=True)\n",
    "no_cruzo_FINAL.info()"
   ]
  },
  {
   "cell_type": "code",
   "execution_count": 107,
   "id": "87c12a31",
   "metadata": {},
   "outputs": [
    {
     "data": {
      "text/plain": [
       "CRUCE\n",
       "NO CRUZO    12100\n",
       "Name: count, dtype: int64"
      ]
     },
     "execution_count": 107,
     "metadata": {},
     "output_type": "execute_result"
    }
   ],
   "source": [
    "no_cruzo_FINAL[\"CRUCE\"]=\"NO CRUZO\"\n",
    "no_cruzo_FINAL[\"CRUCE\"].value_counts()"
   ]
  },
  {
   "cell_type": "code",
   "execution_count": 108,
   "id": "964daee3",
   "metadata": {},
   "outputs": [
    {
     "name": "stdout",
     "output_type": "stream",
     "text": [
      "<class 'pandas.core.frame.DataFrame'>\n",
      "Index: 12100 entries, 8 to 17097\n",
      "Data columns (total 27 columns):\n",
      " #   Column             Non-Null Count  Dtype         \n",
      "---  ------             --------------  -----         \n",
      " 0   TIPO BASE          12100 non-null  object        \n",
      " 1   PEDIDO             12100 non-null  object        \n",
      " 2   IDENTIFICADOR_ID   12100 non-null  object        \n",
      " 3   CLIENTE_ID         12100 non-null  object        \n",
      " 4   INTERFAZ           12100 non-null  object        \n",
      " 5   CIUDAD             12100 non-null  object        \n",
      " 6   DEPARTAMENTO       12100 non-null  object        \n",
      " 7   MARCA_ID           12100 non-null  object        \n",
      " 8   REFERENCIA_ID      12100 non-null  object        \n",
      " 9   ID_EQUIPO          12100 non-null  object        \n",
      " 10  SERIAL_EQUIPO      12100 non-null  object        \n",
      " 11  MAC_EQUIPO         12100 non-null  object        \n",
      " 12  PRODUCTO           12100 non-null  object        \n",
      " 13  TECNOLOGÍA         12100 non-null  object        \n",
      " 14  UNIDAD_DE_NEGOCIO  12100 non-null  object        \n",
      " 15  MACRO MOTIVO       12100 non-null  object        \n",
      " 16  FECHA_ENVIO IQE    12100 non-null  datetime64[ns]\n",
      " 17  REGIONAL NUEVA     12100 non-null  object        \n",
      " 18  DEPURACION         12100 non-null  object        \n",
      " 19  FECHA              12100 non-null  object        \n",
      " 20  NombreArchivo      12100 non-null  object        \n",
      " 21  PC                 12100 non-null  object        \n",
      " 22  CC-S               12100 non-null  object        \n",
      " 23  PCS                12100 non-null  object        \n",
      " 24  CRUCE              12100 non-null  object        \n",
      " 25  Fecha de cierre    0 non-null      datetime64[ns]\n",
      " 26  Tipo de cierre     0 non-null      object        \n",
      "dtypes: datetime64[ns](2), object(25)\n",
      "memory usage: 2.6+ MB\n"
     ]
    }
   ],
   "source": [
    "no_cruzo_FINAL.info()"
   ]
  },
  {
   "cell_type": "code",
   "execution_count": 110,
   "id": "41b42e5e",
   "metadata": {},
   "outputs": [
    {
     "name": "stdout",
     "output_type": "stream",
     "text": [
      "<class 'pandas.core.frame.DataFrame'>\n",
      "RangeIndex: 370147 entries, 0 to 370146\n",
      "Data columns (total 28 columns):\n",
      " #   Column             Non-Null Count   Dtype         \n",
      "---  ------             --------------   -----         \n",
      " 0   TIPO BASE          370147 non-null  object        \n",
      " 1   PEDIDO             370147 non-null  object        \n",
      " 2   IDENTIFICADOR_ID   370147 non-null  object        \n",
      " 3   CLIENTE_ID         370147 non-null  object        \n",
      " 4   INTERFAZ           370147 non-null  object        \n",
      " 5   CIUDAD             370147 non-null  object        \n",
      " 6   DEPARTAMENTO       370147 non-null  object        \n",
      " 7   MARCA_ID           370147 non-null  object        \n",
      " 8   REFERENCIA_ID      370147 non-null  object        \n",
      " 9   ID_EQUIPO          370147 non-null  object        \n",
      " 10  SERIAL_EQUIPO      370147 non-null  object        \n",
      " 11  MAC_EQUIPO         370147 non-null  object        \n",
      " 12  PRODUCTO           370147 non-null  object        \n",
      " 13  TECNOLOGÍA         370147 non-null  object        \n",
      " 14  UNIDAD_DE_NEGOCIO  370147 non-null  object        \n",
      " 15  MACRO MOTIVO       370147 non-null  object        \n",
      " 16  FECHA_ENVIO IQE    370147 non-null  datetime64[ns]\n",
      " 17  REGIONAL NUEVA     370147 non-null  object        \n",
      " 18  DEPURACION         370147 non-null  object        \n",
      " 19  FECHA              370147 non-null  object        \n",
      " 20  NombreArchivo      370147 non-null  object        \n",
      " 21  PC                 370147 non-null  object        \n",
      " 22  CC-S               370147 non-null  object        \n",
      " 23  PCS                370147 non-null  object        \n",
      " 24  CRUCE              370147 non-null  object        \n",
      " 25  Fecha de cierre    365149 non-null  datetime64[ns]\n",
      " 26  Tipo de cierre     370147 non-null  object        \n",
      " 27  PROVEEDOR          370147 non-null  object        \n",
      "dtypes: datetime64[ns](2), object(26)\n",
      "memory usage: 79.1+ MB\n"
     ]
    }
   ],
   "source": [
    "CRUZO_FINAL=pd.concat([bases_enviadas_cruzo_nuevo,CRUZO,CRUZO2,CRUZO3],ignore_index=True)\n",
    "#CRUZO_FINAL.drop([\"Diferencia_Dias\",\"Rango_Dias\",\"FECHA_canal_alterno\"],axis=1,inplace=True)\n",
    "CRUZO_FINAL.info()"
   ]
  },
  {
   "cell_type": "code",
   "execution_count": 111,
   "id": "611a4605",
   "metadata": {},
   "outputs": [
    {
     "data": {
      "text/plain": [
       "CRUCE\n",
       "CRUZO    370147\n",
       "Name: count, dtype: int64"
      ]
     },
     "execution_count": 111,
     "metadata": {},
     "output_type": "execute_result"
    }
   ],
   "source": [
    "CRUZO_FINAL[\"CRUCE\"]=\"CRUZO\"\n",
    "CRUZO_FINAL[\"CRUCE\"].value_counts()"
   ]
  },
  {
   "cell_type": "code",
   "execution_count": 112,
   "id": "7b76e438",
   "metadata": {},
   "outputs": [
    {
     "name": "stdout",
     "output_type": "stream",
     "text": [
      "<class 'pandas.core.frame.DataFrame'>\n",
      "RangeIndex: 382247 entries, 0 to 382246\n",
      "Data columns (total 28 columns):\n",
      " #   Column             Non-Null Count   Dtype         \n",
      "---  ------             --------------   -----         \n",
      " 0   TIPO BASE          382247 non-null  object        \n",
      " 1   PEDIDO             382247 non-null  object        \n",
      " 2   IDENTIFICADOR_ID   382247 non-null  object        \n",
      " 3   CLIENTE_ID         382247 non-null  object        \n",
      " 4   INTERFAZ           382247 non-null  object        \n",
      " 5   CIUDAD             382247 non-null  object        \n",
      " 6   DEPARTAMENTO       382247 non-null  object        \n",
      " 7   MARCA_ID           382247 non-null  object        \n",
      " 8   REFERENCIA_ID      382247 non-null  object        \n",
      " 9   ID_EQUIPO          382247 non-null  object        \n",
      " 10  SERIAL_EQUIPO      382247 non-null  object        \n",
      " 11  MAC_EQUIPO         382247 non-null  object        \n",
      " 12  PRODUCTO           382247 non-null  object        \n",
      " 13  TECNOLOGÍA         382247 non-null  object        \n",
      " 14  UNIDAD_DE_NEGOCIO  382247 non-null  object        \n",
      " 15  MACRO MOTIVO       382247 non-null  object        \n",
      " 16  FECHA_ENVIO IQE    382247 non-null  datetime64[ns]\n",
      " 17  REGIONAL NUEVA     382247 non-null  object        \n",
      " 18  DEPURACION         382247 non-null  object        \n",
      " 19  FECHA              382247 non-null  object        \n",
      " 20  NombreArchivo      382247 non-null  object        \n",
      " 21  PC                 382247 non-null  object        \n",
      " 22  CC-S               382247 non-null  object        \n",
      " 23  PCS                382247 non-null  object        \n",
      " 24  CRUCE              382247 non-null  object        \n",
      " 25  Fecha de cierre    365149 non-null  datetime64[ns]\n",
      " 26  Tipo de cierre     370147 non-null  object        \n",
      " 27  PROVEEDOR          370147 non-null  object        \n",
      "dtypes: datetime64[ns](2), object(26)\n",
      "memory usage: 81.7+ MB\n"
     ]
    }
   ],
   "source": [
    "concatenado_final=pd.concat([CRUZO_FINAL,no_cruzo_FINAL],ignore_index=True)\n",
    "concatenado_final.info()"
   ]
  },
  {
   "cell_type": "code",
   "execution_count": 113,
   "id": "a9fea77a",
   "metadata": {},
   "outputs": [
    {
     "data": {
      "text/plain": [
       "FECHA\n",
       "nan                    369362\n",
       "2024-06-10 00:00:00       810\n",
       "2024-06-09 00:00:00       779\n",
       "2024-02-12 00:00:00       627\n",
       "2024-02-08 00:00:00       296\n",
       "                        ...  \n",
       "2023-05-18 00:00:00         1\n",
       "2023-06-05 00:00:00         1\n",
       "2023-09-27 00:00:00         1\n",
       "2022-05-13 00:00:00         1\n",
       "2024-03-13 07:50:10         1\n",
       "Name: count, Length: 594, dtype: int64"
      ]
     },
     "execution_count": 113,
     "metadata": {},
     "output_type": "execute_result"
    }
   ],
   "source": [
    "concatenado_final['FECHA'].value_counts(dropna=False)"
   ]
  },
  {
   "cell_type": "code",
   "execution_count": 115,
   "id": "69153229",
   "metadata": {},
   "outputs": [],
   "source": [
    "concatenado_final['FECHA'] = pd.to_datetime(concatenado_final['FECHA'])"
   ]
  },
  {
   "cell_type": "code",
   "execution_count": null,
   "id": "48411f6f",
   "metadata": {},
   "outputs": [],
   "source": []
  },
  {
   "cell_type": "code",
   "execution_count": 116,
   "id": "7149ddfd",
   "metadata": {
    "scrolled": false
   },
   "outputs": [],
   "source": [
    "concatenado_final.to_parquet(\"concatenado_final_250624.parquet\",index=False)"
   ]
  }
 ],
 "metadata": {
  "kernelspec": {
   "display_name": "Python 3 (ipykernel)",
   "language": "python",
   "name": "python3"
  },
  "language_info": {
   "codemirror_mode": {
    "name": "ipython",
    "version": 3
   },
   "file_extension": ".py",
   "mimetype": "text/x-python",
   "name": "python",
   "nbconvert_exporter": "python",
   "pygments_lexer": "ipython3",
   "version": "3.11.5"
  }
 },
 "nbformat": 4,
 "nbformat_minor": 5
}
